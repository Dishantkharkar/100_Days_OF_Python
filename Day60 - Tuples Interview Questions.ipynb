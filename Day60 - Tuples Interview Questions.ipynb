{
 "cells": [
  {
   "cell_type": "markdown",
   "metadata": {},
   "source": [
    "# **Tuples Interview Questions** "
   ]
  },
  {
   "cell_type": "markdown",
   "metadata": {},
   "source": [
    "`1.Explain the difference between a tuple and a list in Python. Provide an example of when you would use each.`\n",
    "\n",
    "Answer: A tuple is an immutable sequence, and its elements cannot be changed after creation, while a list is mutable. Tuples are created using parentheses, and lists use square brackets. Use a tuple when you want to represent a fixed collection of items, and a list when you need a dynamic and mutable sequence."
   ]
  },
  {
   "cell_type": "markdown",
   "metadata": {},
   "source": [
    "`2.How can you reverse a tuple in Python?`\n",
    "\n",
    "Answer: Tuples are immutable, so you cannot reverse them in place. However, you can create a new tuple with reversed elements using slicing"
   ]
  },
  {
   "cell_type": "code",
   "execution_count": 2,
   "metadata": {},
   "outputs": [
    {
     "data": {
      "text/plain": [
       "(4, 3, 2, 1)"
      ]
     },
     "execution_count": 2,
     "metadata": {},
     "output_type": "execute_result"
    }
   ],
   "source": [
    "original_tuple = (1, 2, 3, 4)\n",
    "reversed_tuple = original_tuple[::-1]\n",
    "reversed_tuple"
   ]
  },
  {
   "cell_type": "markdown",
   "metadata": {},
   "source": [
    "`3.How can you sort a list of tuples based on the second element of each tuple?`"
   ]
  },
  {
   "cell_type": "code",
   "execution_count": 3,
   "metadata": {},
   "outputs": [
    {
     "data": {
      "text/plain": [
       "[(1, 4), (3, 7), (2, 8)]"
      ]
     },
     "execution_count": 3,
     "metadata": {},
     "output_type": "execute_result"
    }
   ],
   "source": [
    "my_list = [(3, 7), (1, 4), (2, 8)]\n",
    "sorted_list = sorted(my_list, key=lambda x: x[1])\n",
    "sorted_list"
   ]
  },
  {
   "cell_type": "markdown",
   "metadata": {},
   "source": [
    "`4.Find the length of a tuple.`"
   ]
  },
  {
   "cell_type": "code",
   "execution_count": 5,
   "metadata": {},
   "outputs": [
    {
     "name": "stdout",
     "output_type": "stream",
     "text": [
      "5\n"
     ]
    }
   ],
   "source": [
    "# Solution 1:\n",
    "def tuple_length(tup):\n",
    "    return len(tup)\n",
    "\n",
    "# Solution 2:\n",
    "tup = (1, 2, 3, 4, 5)\n",
    "length = len(tup)\n",
    "print(length)  "
   ]
  },
  {
   "cell_type": "markdown",
   "metadata": {},
   "source": [
    "`5.Find the first and last elements of a tuple.`"
   ]
  },
  {
   "cell_type": "code",
   "execution_count": 6,
   "metadata": {},
   "outputs": [
    {
     "name": "stdout",
     "output_type": "stream",
     "text": [
      "First: 10\n",
      "Last: 50\n"
     ]
    }
   ],
   "source": [
    "# Solution:\n",
    "def first_last_elements(tup):\n",
    "    return tup[0], tup[-1]\n",
    "\n",
    "tup = (10, 20, 30, 40, 50)\n",
    "first, last = first_last_elements(tup)\n",
    "print(\"First:\", first)  # Output: First: 10\n",
    "print(\"Last:\", last)    # Output: Last: 50"
   ]
  }
 ],
 "metadata": {
  "kernelspec": {
   "display_name": "base",
   "language": "python",
   "name": "python3"
  },
  "language_info": {
   "codemirror_mode": {
    "name": "ipython",
    "version": 3
   },
   "file_extension": ".py",
   "mimetype": "text/x-python",
   "name": "python",
   "nbconvert_exporter": "python",
   "pygments_lexer": "ipython3",
   "version": "3.9.18"
  }
 },
 "nbformat": 4,
 "nbformat_minor": 2
}
