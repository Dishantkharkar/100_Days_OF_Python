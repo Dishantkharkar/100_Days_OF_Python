{
 "cells": [
  {
   "cell_type": "markdown",
   "id": "c42865ca-0907-4f85-a8dc-ac0147c9f799",
   "metadata": {},
   "source": [
    "# **Python Sets in One shot**"
   ]
  },
  {
   "cell_type": "markdown",
   "id": "de8ab501-baad-4225-9d51-d4741042e188",
   "metadata": {},
   "source": [
    "* In Python, a set is an **unordered collection of unique elements**.\n",
    "* It is defined by enclosing a comma-separated sequence of elements within curly braces `{}`.\n",
    "* Sets are similar to lists and tuples, but they do not allow duplicate elements.\n",
    "* Sets are **mutable**, meaning you can add or remove elements from them. However, unlike lists, sets do not support indexing or slicing because they are unordered collections."
   ]
  },
  {
   "cell_type": "code",
   "execution_count": 1,
   "id": "fe2d9411-cc3f-42ae-bd8d-374b3ed17b21",
   "metadata": {},
   "outputs": [
    {
     "name": "stdout",
     "output_type": "stream",
     "text": [
      "{1, 2, 3, 4, 5}\n"
     ]
    }
   ],
   "source": [
    "my_set = {1, 2, 3, 4, 5}\n",
    "print(my_set)"
   ]
  },
  {
   "cell_type": "markdown",
   "id": "590503bb-fa5b-4732-a68e-e15b8f509983",
   "metadata": {},
   "source": [
    "### Example"
   ]
  },
  {
   "cell_type": "code",
   "execution_count": 2,
   "id": "00b476f3-883f-44da-82ff-a66f693bd098",
   "metadata": {},
   "outputs": [
    {
     "name": "stdout",
     "output_type": "stream",
     "text": [
      "{'apple', 'banana', 'cherry'}\n"
     ]
    }
   ],
   "source": [
    "# Duplicate values will be ignored:\n",
    "\n",
    "thisset = {\"apple\", \"banana\", \"cherry\", \"apple\"}\n",
    "\n",
    "print(thisset)"
   ]
  },
  {
   "cell_type": "code",
   "execution_count": null,
   "id": "6d129ed4-64f0-43bc-bb21-fff5710b8399",
   "metadata": {},
   "outputs": [],
   "source": []
  }
 ],
 "metadata": {
  "kernelspec": {
   "display_name": "Python 3 (ipykernel)",
   "language": "python",
   "name": "python3"
  },
  "language_info": {
   "codemirror_mode": {
    "name": "ipython",
    "version": 3
   },
   "file_extension": ".py",
   "mimetype": "text/x-python",
   "name": "python",
   "nbconvert_exporter": "python",
   "pygments_lexer": "ipython3",
   "version": "3.9.18"
  }
 },
 "nbformat": 4,
 "nbformat_minor": 5
}
