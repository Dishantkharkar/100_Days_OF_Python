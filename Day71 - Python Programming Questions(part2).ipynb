{
 "cells": [
  {
   "cell_type": "markdown",
   "metadata": {},
   "source": [
    "# **Python Programming Questions**"
   ]
  },
  {
   "cell_type": "markdown",
   "metadata": {},
   "source": [
    "### `Problem 1 - Find the sum of the series upto n terms.`\n",
    "Write a program to calculate the sum of series up to n term. For example, if n =5 the series will become 2 + 22 + 222 + 2222 + 22222 = 24690. Take the user input and then calculate. And the output style should match which is given in the example.\n",
    "\n",
    "**Example 1:**\n",
    "\n",
    "`Input:`\n",
    "```bash\n",
    "5\n",
    "```\n",
    "\n",
    "`Output:`\n",
    "\n",
    "```bash\n",
    "2+22+222+2222+22222\n",
    "Sum of above series is: 24690\n",
    "```"
   ]
  },
  {
   "cell_type": "code",
   "execution_count": 1,
   "metadata": {},
   "outputs": [
    {
     "name": "stdout",
     "output_type": "stream",
     "text": [
      "Series: 2+22+222+2222+22222\n",
      "Sum of above series is: 24690\n"
     ]
    }
   ],
   "source": [
    "def calculate_series_sum(n):\n",
    "    series_sum = 0\n",
    "    series = \"\"\n",
    "\n",
    "    for i in range(1, n + 1):\n",
    "        term = int(\"2\" * i)\n",
    "        series_sum += term\n",
    "        series += str(term)\n",
    "\n",
    "        if i < n:\n",
    "            series += \"+\"\n",
    "\n",
    "    return series, series_sum\n",
    "\n",
    "# Taking user input\n",
    "n = int(input(\"Enter the value of n: \"))\n",
    "\n",
    "# Calculating series sum\n",
    "result_series, result_sum = calculate_series_sum(n)\n",
    "\n",
    "# Displaying the series and its sum\n",
    "print(f\"Series: {result_series}\")\n",
    "print(f\"Sum of above series is: {result_sum}\")\n"
   ]
  },
  {
   "cell_type": "markdown",
   "metadata": {},
   "source": [
    "For visualizing -> Python Tutor - https://pythontutor.com/render.html#mode=edit"
   ]
  },
  {
   "cell_type": "markdown",
   "metadata": {},
   "source": [
    "### `Problem 2: Create Short Form from initial character`\n",
    "Given a string create short form ofthe string from Initial character. Short form should be capitalised.\n",
    "\n",
    "Example:\n",
    "\n",
    "`Input:`\n",
    "```\n",
    "Oh My God\n",
    "```\n",
    "\n",
    "`Output:`\n",
    "```\n",
    "OMG\n",
    "```"
   ]
  },
  {
   "cell_type": "code",
   "execution_count": 5,
   "metadata": {},
   "outputs": [
    {
     "name": "stdout",
     "output_type": "stream",
     "text": [
      "oh my god\n",
      "Short form: OMG\n"
     ]
    }
   ],
   "source": [
    "def short_form_of_string(string):\n",
    "    words = string.split()\n",
    "    short_form = \"\".join(word[0].upper() for word in words)\n",
    "    return short_form\n",
    "\n",
    "string = input('Enter the string: ')\n",
    "\n",
    "# result\n",
    "result = short_form_of_string(string)\n",
    "\n",
    "# Displaying the short form\n",
    "print(string)\n",
    "print(f\"Short form: {result}\")\n"
   ]
  },
  {
   "cell_type": "markdown",
   "metadata": {},
   "source": [
    "### `Problem 3 : Reverse words in a given String`\n",
    "\n",
    "**Statement:** We are given a string and we need to reverse words of a given string.\n",
    "\n",
    "**Example 1:**\n",
    "\n",
    "`Input:`\n",
    "\n",
    "```bash\n",
    "my name is Dishant\n",
    "```\n",
    "\n",
    "`Output:`\n",
    "\n",
    "```bash\n",
    "Dishant is name my\n",
    "```"
   ]
  },
  {
   "cell_type": "code",
   "execution_count": 6,
   "metadata": {},
   "outputs": [
    {
     "name": "stdout",
     "output_type": "stream",
     "text": [
      "my name is Dishant\n",
      "Reversed words: Dishant is name my\n"
     ]
    }
   ],
   "source": [
    "def reverse_words(string):\n",
    "    words = string.split()\n",
    "    reverse_words = ' '.join(reversed(words)) \n",
    "    return reverse_words\n",
    "\n",
    "# for input\n",
    "string = input('enter the string: ')\n",
    "\n",
    "# reversimg string\n",
    "result = reverse_words(string)\n",
    "\n",
    "# print result\n",
    "# Displaying the reversed words\n",
    "\n",
    "print(string)\n",
    "print(f\"Reversed words: {result}\")  "
   ]
  }
 ],
 "metadata": {
  "kernelspec": {
   "display_name": "base",
   "language": "python",
   "name": "python3"
  },
  "language_info": {
   "codemirror_mode": {
    "name": "ipython",
    "version": 3
   },
   "file_extension": ".py",
   "mimetype": "text/x-python",
   "name": "python",
   "nbconvert_exporter": "python",
   "pygments_lexer": "ipython3",
   "version": "3.9.18"
  }
 },
 "nbformat": 4,
 "nbformat_minor": 2
}
