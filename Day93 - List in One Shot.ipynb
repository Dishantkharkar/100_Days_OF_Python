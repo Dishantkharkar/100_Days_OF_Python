{
 "cells": [
  {
   "cell_type": "markdown",
   "id": "0dad7753-34f8-4ba4-b95c-7d7300410690",
   "metadata": {},
   "source": [
    "# **Python List in One Shot**"
   ]
  },
  {
   "cell_type": "markdown",
   "id": "4e9f7c11-08bc-41d2-8636-4bc02e227626",
   "metadata": {},
   "source": [
    "* A list in Python is a collection of items that can be of different data types, such as integers, strings, or other lists.\n",
    "* Lists are ordered, changeable, and allow duplicates. -> mutable\n",
    "* Lists are created using square brackets `[ ]` and can be accessed using index numbers."
   ]
  },
  {
   "cell_type": "markdown",
   "id": "71b66218-b045-44f9-b2e5-97758475c77e",
   "metadata": {},
   "source": [
    "#### Example Of List"
   ]
  },
  {
   "cell_type": "code",
   "execution_count": 3,
   "id": "30e8dd04-0d38-461c-8a6a-d3aae5102982",
   "metadata": {},
   "outputs": [
    {
     "name": "stdout",
     "output_type": "stream",
     "text": [
      "[1, 2, 'Hello']\n"
     ]
    }
   ],
   "source": [
    "my_list = [1,2,'Hello']\n",
    "\n",
    "print(my_list)"
   ]
  },
  {
   "cell_type": "markdown",
   "id": "d5c909c3-24e4-41c2-a21a-8b8b8f9c9355",
   "metadata": {},
   "source": [
    "### **Properties of List**\n",
    "\n",
    "**1. List Items**:\n",
    "* List items are ordered, changeable, and allow duplicate values.\n",
    "* \n",
    "List items are indexed, the first item has inde`x [`0], the second item has inde`x [`1] et\n",
    "\n",
    "**2. Ordered**\n",
    "* When we say that lists are ordered, it means that the items have a defined order, and that order will not change.\n",
    "* \n",
    "If you add new items to a list, the new items will be placed at the end of the lis\n",
    "\n",
    "* **Note**: There are some list methods that will change the order, but in general: the order of the items will not change.\n",
    "\n",
    "**3. Changeable**\n",
    "* The list is changeable, meaning that we can change, add, and remove items in a list after it has been created.\n",
    "\n",
    "**4. Allow Duplicates**\n",
    "* Lists allow duplicate values\n",
    "\n",
    "**5. List Length**\n",
    "* To determine how many items a list has, use the `len()` function..c.\n",
    "\n",
    "\n"
   ]
  },
  {
   "cell_type": "markdown",
   "id": "265f6187-144f-496d-8f70-d6e85fc77552",
   "metadata": {},
   "source": [
    "### **Python List Methods**\n",
    "\n",
    "\n",
    "1. **list.append(x):**\n",
    "   - Add an item to the end of the list.\n",
    "\n",
    "2. **list.extend(iterable):**\n",
    "   - Extend the list by appending all the items from the iterable.\n",
    "\n",
    "3. **list.insert(i, x):**\n",
    "   - Insert an item at a given position. The first argument is the index of the element before which to insert, so `a.insert(0, x)` inserts at the front of the list, and `a.insert(len(a), x)` is equivalent to `a.append(x)`.\n",
    "\n",
    "4. **list.remove(x):**\n",
    "   - Remove the first item from the list whose value is equal to x. It raises a `ValueError` if there is no such item.\n",
    "\n",
    "5. **list.pop([i]):**\n",
    "   - Remove the item at the given position in the list, and return it. If no index is specified, `a.pop()` removes and returns the last item in the list.\n",
    "\n",
    "6. **list.clear():**\n",
    "   - Remove all items from the list. Equivalent to `del a[:]`.\n",
    "\n",
    "7. **list.index(x[, start[, end]]):**\n",
    "   - Return zero-based index in the list of the first item whose value is equal to x. Raises a `ValueError` if there is no such item.\n",
    "   - The optional arguments `start` and `end` are interpreted as in the slice notation and are used to limit the search to a particular subsequence of the list.\n",
    "\n",
    "8. **list.count(x):**\n",
    "   - Return the number of times x appears in the list.\n",
    "\n",
    "9. **list.sort(*, key=None, reverse=False):**\n",
    "   - Sort the items of the list in place. The arguments can be used for sort customization; see `sorted()` for their explanation.\n",
    "\n",
    "10. **list.reverse():**\n",
    "    - Reverse the elements of the list in place.\n",
    "\n",
    "11. **list.copy():**\n",
    "    - Return a shallow copy of the list. Equivalent to `a[:]`.\n"
   ]
  },
  {
   "cell_type": "markdown",
   "id": "f0356828",
   "metadata": {},
   "source": [
    "#### Examples:"
   ]
  },
  {
   "cell_type": "code",
   "execution_count": 1,
   "id": "b1e51c27-5a26-4d55-b5be-b5afb7ad33a8",
   "metadata": {},
   "outputs": [
    {
     "name": "stdout",
     "output_type": "stream",
     "text": [
      "After append: [1, 2, 3, 4, 5]\n",
      "After extend: [1, 2, 3, 4, 5, 6, 7]\n",
      "After insert: [1, 2, 8, 3, 4, 5, 6, 7]\n",
      "After remove: [1, 2, 8, 4, 5, 6, 7]\n",
      "Popped item: 2  List after pop: [1, 8, 4, 5, 6, 7]\n",
      "After clear: []\n",
      "Index of 2: 1\n",
      "Count of 2: 2\n",
      "Sorted list: [1, 2, 2, 3, 4, 5]\n",
      "Reversed list: [5, 4, 3, 2, 2, 1]\n",
      "Copied list: [5, 4, 3, 2, 2, 1]\n"
     ]
    }
   ],
   "source": [
    "# Create a sample list\n",
    "my_list = [1, 2, 3, 4]\n",
    "\n",
    "# list.append(x)\n",
    "my_list.append(5)\n",
    "print(\"After append:\", my_list)\n",
    "\n",
    "# list.extend(iterable)\n",
    "my_list.extend([6, 7])\n",
    "print(\"After extend:\", my_list)\n",
    "\n",
    "# list.insert(i, x)\n",
    "my_list.insert(2, 8)\n",
    "print(\"After insert:\", my_list)\n",
    "\n",
    "# list.remove(x)\n",
    "my_list.remove(3)\n",
    "print(\"After remove:\", my_list)\n",
    "\n",
    "# list.pop([i])\n",
    "popped_item = my_list.pop(1)\n",
    "print(\"Popped item:\", popped_item, \" List after pop:\", my_list)\n",
    "\n",
    "# list.clear()\n",
    "my_list.clear()\n",
    "print(\"After clear:\", my_list)\n",
    "\n",
    "# Re-populate the list for remaining methods\n",
    "my_list = [1, 2, 3, 4, 2, 5]\n",
    "\n",
    "# list.index(x[, start[, end]])\n",
    "index_of_2 = my_list.index(2)\n",
    "print(\"Index of 2:\", index_of_2)\n",
    "\n",
    "# list.count(x)\n",
    "count_of_2 = my_list.count(2)\n",
    "print(\"Count of 2:\", count_of_2)\n",
    "\n",
    "# list.sort(*, key=None, reverse=False)\n",
    "my_list.sort()\n",
    "print(\"Sorted list:\", my_list)\n",
    "\n",
    "# list.reverse()\n",
    "my_list.reverse()\n",
    "print(\"Reversed list:\", my_list)\n",
    "\n",
    "# list.copy()\n",
    "copied_list = my_list.copy()\n",
    "print(\"Copied list:\", copied_list)\n"
   ]
  },
  {
   "cell_type": "markdown",
   "id": "6d52579c-af47-4c57-9499-247f4e08688e",
   "metadata": {},
   "source": [
    "### **How to iterate through a nested List in Python?**\n",
    "\n",
    "1. Iterating through a nested list in Python involves using nested loops."
   ]
  },
  {
   "cell_type": "code",
   "execution_count": 3,
   "id": "4592d8d0-5a9e-4ce5-a7d4-c1d83399fc7d",
   "metadata": {},
   "outputs": [
    {
     "name": "stdout",
     "output_type": "stream",
     "text": [
      "1 2 3 \n",
      "4 5 6 \n",
      "7 8 9 \n"
     ]
    }
   ],
   "source": [
    "# Example of a nested list\n",
    "nested_list = [[1, 2, 3], [4, 5, 6], [7, 8, 9]]\n",
    "\n",
    "# Using nested loops to iterate through the nested list\n",
    "for sublist in nested_list:\n",
    "    for item in sublist:\n",
    "        print(item, end=' ')\n",
    "    print()  "
   ]
  },
  {
   "cell_type": "markdown",
   "id": "882d4667-e68d-4c9a-b014-3fefede61846",
   "metadata": {},
   "source": [
    "2. Loop Through the Index Numbers"
   ]
  },
  {
   "cell_type": "code",
   "execution_count": 4,
   "id": "885d5897-36d4-4b08-81f1-83f259e4bcfe",
   "metadata": {},
   "outputs": [
    {
     "name": "stdout",
     "output_type": "stream",
     "text": [
      "apple\n",
      "banana\n",
      "cherry\n"
     ]
    }
   ],
   "source": [
    "thislist = [\"apple\", \"banana\", \"cherry\"]\n",
    "for i in range(len(thislist)):\n",
    "  print(thislist[i])"
   ]
  },
  {
   "cell_type": "code",
   "execution_count": 5,
   "id": "d3583ad6-5bfc-498b-972c-4e9393bec38d",
   "metadata": {},
   "outputs": [
    {
     "name": "stdout",
     "output_type": "stream",
     "text": [
      "cherry\n",
      "cherry\n",
      "cherry\n"
     ]
    }
   ],
   "source": [
    "for i in range(len(thislist)):\n",
    "  print(thislist[2])"
   ]
  },
  {
   "cell_type": "markdown",
   "id": "6c505ff3-56d2-43de-96d1-94e522bb74b3",
   "metadata": {},
   "source": [
    "### **List Comprehension**"
   ]
  },
  {
   "cell_type": "markdown",
   "id": "ba1501cf-5ced-4cc5-85ee-afa053de2f64",
   "metadata": {},
   "source": [
    "List comprehensions provide a concise way to create lists in Python. They are also useful for iterating through and transforming elements in a list, including nested lists. "
   ]
  },
  {
   "cell_type": "code",
   "execution_count": 7,
   "id": "c8b35d30-12a9-4761-bf78-53c9fcba2417",
   "metadata": {},
   "outputs": [
    {
     "name": "stdout",
     "output_type": "stream",
     "text": [
      "['apple', 'banana', 'mango']\n"
     ]
    }
   ],
   "source": [
    "fruits = [\"apple\", \"banana\", \"cherry\", \"kiwi\", \"mango\"]\n",
    "\n",
    "newlist = [x for x in fruits if \"a\" in x]\n",
    "\n",
    "print(newlist)\n"
   ]
  },
  {
   "cell_type": "code",
   "execution_count": 10,
   "id": "11069eba-c838-4bf5-812b-4caf7ca4cbe9",
   "metadata": {},
   "outputs": [
    {
     "name": "stdout",
     "output_type": "stream",
     "text": [
      "[0, 1, 4, 9, 16, 25, 36, 49, 64, 81]\n"
     ]
    }
   ],
   "source": [
    "a = [x**2 for x in range(10)]\n",
    "print(a)"
   ]
  },
  {
   "cell_type": "markdown",
   "id": "fd073445-7686-45ee-83cf-29958d3bea0b",
   "metadata": {},
   "source": [
    "### **Interview Questions**\n",
    "\n",
    "### Question 1:\n",
    "**Question:**\n",
    "Explain the difference between the `append()` and `extend()` methods for lists.\n",
    "\n",
    "**Answer:**\n",
    "- `append(x)` adds the element `x` to the end of the list as a single element.\n",
    "- `extend(iterable)` appends all elements from the iterable to the end of the list.\n",
    "\n",
    "---\n",
    "\n",
    "### Question 2:\n",
    "**Question:**\n",
    "How do you remove an element from a list?\n",
    "\n",
    "**Answer:**\n",
    "- You can use the `remove(x)` method to remove the first occurrence of the value `x` from the list.\n",
    "- Alternatively, you can use the `pop(i)` method to remove the item at the specified index `i`.\n",
    "\n",
    "---\n",
    "\n",
    "### Question 3:\n",
    "**Question:**\n",
    "What is the difference between `remove()` and `pop()` methods?\n",
    "\n",
    "**Answer:**\n",
    "- `remove(x)` removes the first occurrence of the value `x` from the list, raising a `ValueError` if the value is not present.\n",
    "- `pop(i)` removes the item at the specified index `i` and returns it. If no index is specified, it removes and returns the last item in the list.\n",
    "\n",
    "---\n",
    "\n",
    "### Question 4:\n",
    "**Question:**\n",
    "How can you check if a specific element is present in a list?\n",
    "\n",
    "**Answer:**\n",
    "- You can use the `in` keyword to check if an element is present in a list. For example, `element in my_list` will return `True` if `element` is in `my_list`, and `False` otherwise.\n",
    "\n",
    "---\n",
    "\n",
    "### Question 5:\n",
    "**Question:**\n",
    "Explain the purpose of the `index(x[, start[, end]])` method.\n",
    "\n",
    "**Answer:**\n",
    "- `index(x)` returns the index of the first occurrence of the value `x` in the list.\n",
    "- The optional `start` and `end` parameters can be used to limit the search to a specific subsequence of the list.\n",
    "\n",
    "---\n",
    "\n",
    "### Question 6:\n",
    "**Question:**\n",
    "How do you sort a list in Python?\n",
    "\n",
    "**Answer:**\n",
    "- You can use the `sort()` method to sort the elements of a list in ascending order.\n",
    "- The `sorted()` function can also be used to obtain a sorted copy of the list without modifying the original list.\n",
    "\n",
    "---\n",
    "\n",
    "### Question 7:\n",
    "**Question:**\n",
    "Explain the concept of a shallow copy in the context of the `copy()` method.\n",
    "\n",
    "**Answer:**\n",
    "- The `copy()` method creates a shallow copy of the list, meaning that the new list is a new object but contains references to the same elements.\n",
    "- Changes to the elements inside the copied list will be reflected in the original list and vice versa.\n",
    "\n",
    "---\n",
    "\n",
    "### Question 8:\n",
    "**Question:**\n",
    "What is the significance of the `reverse()` method?\n",
    "\n",
    "**Answer:**\n",
    "- The `reverse()` method reverses the order of elements in a list in place.\n",
    "- It does not return a new reversed list but instead modifies the original list.\n",
    "\r\n",
    "\r\n",
    "### Question 9:\r\n",
    "**Question:**\r\n",
    "Explain the difference between a shallow copy and a deep copy of a list.\r\n",
    "\r\n",
    "**Answer:**\r\n",
    "- A shallow copy creates a new list object but still references the same objects as the original list.\r\n",
    "- A deep copy creates a completely independent copy of the original list, including all nested objects.\r\n",
    "\r\n",
    "---\r\n",
    "\r\n",
    "### Question 10:\r\n",
    "**Question:**\r\n",
    "How can you concatenate two lists?\r\n",
    "\r\n",
    "**Answer:**\r\n",
    "- You can use the `+` operator to concatenate two lists. For example, `list1 + list2` will create a new list containing elements from both `list1` and `list2`.\r\n",
    "\r\n",
    "---\r\n",
    "\r\n",
    "### Question 11:\r\n",
    "**Question:**\r\n",
    "What is the purpose of the `count(x)` method?\r\n",
    "\r\n",
    "**Answer:**\r\n",
    "- The `count(x)` method returns the number of occurrences of the value `x` in the list.\r\n",
    "\r\n",
    "---\r\n",
    "\r\n",
    "### Question 12:\r\n",
    "**Question:**\r\n",
    "How can you check if a list is empty?\r\n",
    "\r\n",
    "**Answer:**\r\n",
    "- You can use the `len()` function to check the length of the list. An empty list will have a length of 0.\r\n",
    "- Alternatively, you can use the truthiness of the list in a boolean context. An empty list evaluates to `False`.\r\n",
    "\r\n",
    "---\r\n",
    "\r\n",
    "### Question 13:\r\n",
    "**Question:**\r\n",
    "What is the significance of the `sorted()` function compared to the `sort()` method?\r\n",
    "\r\n",
    "**Answer:**\r\n",
    "- The `sort()` method sorts the list in place, modifying the original list.\r\n",
    "- The `sorted()` function returns a new sorted list without modifying the original list.\r\n",
    "\r\n",
    "---\r\n",
    "\r\n",
    "### Question 14:\r\n",
    "**Question:**\r\n",
    "Explain how to iterate through both the values and indices of a list simultaneously.\r\n",
    "\r\n",
    "**Answer:**\r\n",
    "- You can use the `enumerate()` function in a loop to iterate through both the values and indices of a list.\r\n",
    "  \r\n",
    "  ```python\r\n",
    "  for index, value in enumerate(my_list):\r\n",
    "      print(f\"Index: {index}, Value: {value}\")\r\n",
    "  ```\r\n",
    "\r\n",
    "---\r\n",
    "\r\n",
    "### Question 15:\r\n",
    "**Question:**\r\n",
    "What is the purpose of the `clear()` method?\r\n",
    "\r\n",
    "**Answer:**\r\n",
    "- The `clear()` method removes all elements from the list, making it an empty list. It is equivalent to using `del my_list[:]`.\r\n",
    "\r\n",
    "---\r\n",
    "\r\n",
    "### Question 16:\r\n",
    "**Question:**\r\n",
    "How can you reverse a list without modifying the original list?\r\n",
    "\r\n",
    "**Answer:**\r\n",
    "- You can use slicing to create a reversed copy of the list. For example, `reversed_list = my_list[::-1]`.\r\n",
    "\r\n",
    "---\r\n",
    "\r\n",
    "### Question 17:\r\n",
    "**Question:**\r\n",
    "Explain how to use list comprehension to filter elements based on a condition.\r\n",
    "\r\n",
    "**Answer:**\r\n",
    "- You can use list comprehension with an `if` statement to filter elements based on a condition.\r\n",
    "\r\n",
    "  ```python\r\n",
    "  filtered_list = [x for x in my_list if x > 0]\r\n",
    "  ```\r\n",
    "\r\n",
    "These questions cover a variety of topics related to Python lists, including copying, concatenating, filtering, and iterating through lists. Adjust the difficulty based on the candidate's level of expertise."
   ]
  }
 ],
 "metadata": {
  "kernelspec": {
   "display_name": "Python 3 (ipykernel)",
   "language": "python",
   "name": "python3"
  },
  "language_info": {
   "codemirror_mode": {
    "name": "ipython",
    "version": 3
   },
   "file_extension": ".py",
   "mimetype": "text/x-python",
   "name": "python",
   "nbconvert_exporter": "python",
   "pygments_lexer": "ipython3",
   "version": "3.9.18"
  }
 },
 "nbformat": 4,
 "nbformat_minor": 5
}
