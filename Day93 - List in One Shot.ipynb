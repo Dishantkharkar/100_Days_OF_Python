{
 "cells": [
  {
   "cell_type": "markdown",
   "id": "0dad7753-34f8-4ba4-b95c-7d7300410690",
   "metadata": {},
   "source": [
    "# **List in One Shot**"
   ]
  },
  {
   "cell_type": "markdown",
   "id": "4e9f7c11-08bc-41d2-8636-4bc02e227626",
   "metadata": {},
   "source": [
    "* A list in Python is a collection of items that can be of different data types, such as integers, strings, or other lists.\n",
    "* Lists are ordered, changeable, and allow duplicates. -> mutable\n",
    "* Lists are created using square brackets `[ ]` and can be accessed using index numbers."
   ]
  },
  {
   "cell_type": "markdown",
   "id": "71b66218-b045-44f9-b2e5-97758475c77e",
   "metadata": {},
   "source": [
    "#### Example Of List"
   ]
  },
  {
   "cell_type": "code",
   "execution_count": 3,
   "id": "30e8dd04-0d38-461c-8a6a-d3aae5102982",
   "metadata": {},
   "outputs": [
    {
     "name": "stdout",
     "output_type": "stream",
     "text": [
      "[1, 2, 'Hello']\n"
     ]
    }
   ],
   "source": [
    "my_list = [1,2,'Hello']\n",
    "\n",
    "print(my_list)"
   ]
  },
  {
   "cell_type": "markdown",
   "id": "d5c909c3-24e4-41c2-a21a-8b8b8f9c9355",
   "metadata": {},
   "source": [
    "### **Properties of List**\n",
    "\n",
    "**1. List Items**:\n",
    "* List items are ordered, changeable, and allow duplicate values.\n",
    "* \n",
    "List items are indexed, the first item has inde`x [`0], the second item has inde`x [`1] et\n",
    "\n",
    "**2. Ordered**\n",
    "* When we say that lists are ordered, it means that the items have a defined order, and that order will not change.\n",
    "* \n",
    "If you add new items to a list, the new items will be placed at the end of the lis\n",
    "\n",
    "* **Note**: There are some list methods that will change the order, but in general: the order of the items will not change.\n",
    "\n",
    "**3. Changeable**\n",
    "* The list is changeable, meaning that we can change, add, and remove items in a list after it has been created.\n",
    "\n",
    "**4. Allow Duplicates**\n",
    "* Lists allow duplicate values\n",
    "\n",
    "**5. List Length**\n",
    "* To determine how many items a list has, use the `len()` function..c.\n",
    "\n",
    "\n"
   ]
  },
  {
   "cell_type": "markdown",
   "id": "265f6187-144f-496d-8f70-d6e85fc77552",
   "metadata": {},
   "source": [
    "### **Python List Methods**\n",
    "\n",
    "\n",
    "1. **list.append(x):**\n",
    "   - Add an item to the end of the list.\n",
    "\n",
    "2. **list.extend(iterable):**\n",
    "   - Extend the list by appending all the items from the iterable.\n",
    "\n",
    "3. **list.insert(i, x):**\n",
    "   - Insert an item at a given position. The first argument is the index of the element before which to insert, so `a.insert(0, x)` inserts at the front of the list, and `a.insert(len(a), x)` is equivalent to `a.append(x)`.\n",
    "\n",
    "4. **list.remove(x):**\n",
    "   - Remove the first item from the list whose value is equal to x. It raises a `ValueError` if there is no such item.\n",
    "\n",
    "5. **list.pop([i]):**\n",
    "   - Remove the item at the given position in the list, and return it. If no index is specified, `a.pop()` removes and returns the last item in the list.\n",
    "\n",
    "6. **list.clear():**\n",
    "   - Remove all items from the list. Equivalent to `del a[:]`.\n",
    "\n",
    "7. **list.index(x[, start[, end]]):**\n",
    "   - Return zero-based index in the list of the first item whose value is equal to x. Raises a `ValueError` if there is no such item.\n",
    "   - The optional arguments `start` and `end` are interpreted as in the slice notation and are used to limit the search to a particular subsequence of the list.\n",
    "\n",
    "8. **list.count(x):**\n",
    "   - Return the number of times x appears in the list.\n",
    "\n",
    "9. **list.sort(*, key=None, reverse=False):**\n",
    "   - Sort the items of the list in place. The arguments can be used for sort customization; see `sorted()` for their explanation.\n",
    "\n",
    "10. **list.reverse():**\n",
    "    - Reverse the elements of the list in place.\n",
    "\n",
    "11. **list.copy():**\n",
    "    - Return a shallow copy of the list. Equivalent to `a[:]`.\n"
   ]
  },
  {
   "cell_type": "markdown",
   "id": "f0356828",
   "metadata": {},
   "source": []
  },
  {
   "cell_type": "code",
   "execution_count": null,
   "id": "b1e51c27-5a26-4d55-b5be-b5afb7ad33a8",
   "metadata": {},
   "outputs": [],
   "source": []
  },
  {
   "cell_type": "code",
   "execution_count": null,
   "id": "74c40845-ec64-4138-8761-c7f87184e3b2",
   "metadata": {},
   "outputs": [],
   "source": []
  }
 ],
 "metadata": {
  "kernelspec": {
   "display_name": "Python 3 (ipykernel)",
   "language": "python",
   "name": "python3"
  },
  "language_info": {
   "codemirror_mode": {
    "name": "ipython",
    "version": 3
   },
   "file_extension": ".py",
   "mimetype": "text/x-python",
   "name": "python",
   "nbconvert_exporter": "python",
   "pygments_lexer": "ipython3",
   "version": "3.9.18"
  }
 },
 "nbformat": 4,
 "nbformat_minor": 5
}
