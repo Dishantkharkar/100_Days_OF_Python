{
 "cells": [
  {
   "cell_type": "markdown",
   "metadata": {},
   "source": [
    "# **Polymorphism and Abstraction - Object-Oriented Programming (OOP)** "
   ]
  },
  {
   "cell_type": "markdown",
   "metadata": {},
   "source": [
    "## **Polymorphism**:\n",
    "Polymorphism is one of the four fundamental principles of Object-Oriented Programming (OOP), along with encapsulation, inheritance, and abstraction. It allows objects of different classes to be treated as objects of a common superclass. In Python, polymorphism is implemented through method overriding and method overloading, which are two related concepts."
   ]
  },
  {
   "cell_type": "markdown",
   "metadata": {},
   "source": [
    "### **1. Method Overriding**\n",
    "### **2. Method Overloading**"
   ]
  },
  {
   "cell_type": "markdown",
   "metadata": {},
   "source": [
    "## **1. Method Overriding**\n",
    "\n",
    "Method overriding occurs when a subclass provides a specific implementation of a method that is already defined in its superclass. This allows the subclass to provide its own behavior for a method while still adhering to the method signature defined in the superclass.\n",
    "\n",
    "Here's an example of method overriding in Python:\n"
   ]
  },
  {
   "cell_type": "code",
   "execution_count": 1,
   "metadata": {},
   "outputs": [
    {
     "name": "stdout",
     "output_type": "stream",
     "text": [
      "Woof!\n",
      "Meow!\n"
     ]
    }
   ],
   "source": [
    "class Animal:\n",
    "    def speak(self):\n",
    "        pass\n",
    "\n",
    "class Dog(Animal):\n",
    "    def speak(self):\n",
    "        return \"Woof!\"\n",
    "\n",
    "class Cat(Animal):\n",
    "    def speak(self):\n",
    "        return \"Meow!\"\n",
    "\n",
    "dog = Dog()\n",
    "cat = Cat()\n",
    "\n",
    "print(dog.speak()) \n",
    "print(cat.speak()) "
   ]
  },
  {
   "cell_type": "markdown",
   "metadata": {},
   "source": [
    "## **2.Method Overloading**:\n",
    "Method overloading allows a class to define multiple methods with the same name but different parameters. Python does not support traditional method overloading with different parameter types like some other languages (e.g., Java or C++). Instead, Python achieves a form of method overloading using default arguments and variable-length argument lists.\n",
    "\n",
    "Here's an example: "
   ]
  },
  {
   "cell_type": "code",
   "execution_count": 5,
   "metadata": {},
   "outputs": [],
   "source": [
    "class Calculator:\n",
    "    def add(self, a, b):\n",
    "        return a + b\n",
    "\n",
    "    def add(self, a, b, c):\n",
    "        return a + b + c\n",
    "\n",
    "calc = Calculator()\n",
    "\n",
    "#result1 = calc.add(1, 2)        # Error: The second add method with three parameters overwrites the first one.\n",
    "result2 = calc.add(1, 2, 3)     # This works fine.\n"
   ]
  },
  {
   "cell_type": "markdown",
   "metadata": {},
   "source": [
    "In Python, only the latest defined method with a particular name is accessible. Traditional method overloading with different parameter types isn't supported."
   ]
  },
  {
   "cell_type": "code",
   "execution_count": 6,
   "metadata": {},
   "outputs": [
    {
     "name": "stdout",
     "output_type": "stream",
     "text": [
      "12.56\n",
      "12\n"
     ]
    }
   ],
   "source": [
    "class Shape:\n",
    "\n",
    "  def area(self,a,b=0):\n",
    "    if b == 0:\n",
    "      return 3.14*a*a\n",
    "    else:\n",
    "      return a*b\n",
    "\n",
    "s = Shape()\n",
    "\n",
    "print(s.area(2))\n",
    "print(s.area(3,4))"
   ]
  },
  {
   "cell_type": "markdown",
   "metadata": {},
   "source": [
    "Polymorphism allows you to write more flexible and reusable code by treating different objects in a consistent way, regardless of their specific class. This promotes code flexibility and makes it easier to extend and maintain your programs as they grow in complexity."
   ]
  },
  {
   "cell_type": "markdown",
   "metadata": {},
   "source": [
    "## **Abstraction**\n",
    "Abstraction is one of the four fundamental principles of Object-Oriented Programming (OOP), along with encapsulation, inheritance, and polymorphism. Abstraction is the process of simplifying complex reality by modeling classes based on the essential properties and behaviors of objects, while ignoring or hiding the non-essential details.\n",
    "\n",
    "In software development, abstraction allows you to create a simplified representation of an object or system that focuses on what's relevant to your application and hides the unnecessary complexity. Here are some key aspects of abstraction:\n",
    "\n",
    "1. **Modeling:** Abstraction involves defining classes and objects that capture the essential characteristics and behaviors of real-world entities or concepts. You create classes to represent these abstractions, defining their attributes (data) and methods (behavior) to interact with them.\n",
    "\n",
    "2. **Hiding Complexity:** Abstraction allows you to hide the internal details and complexities of an object's implementation from the outside world. This is achieved through encapsulation, where you define private attributes and provide public methods to interact with the object.\n",
    "\n",
    "3. **Generalization:** Abstraction often involves creating abstract classes or interfaces that define a common set of attributes and behaviors shared by multiple related classes. This promotes code reusability and flexibility through inheritance.\n",
    "\n",
    "4. **Focus on What, Not How:** When you work with abstractions, you can focus on using objects based on what they do (their methods) rather than how they do it (their implementation details). This separation of concerns simplifies the design and maintenance of complex systems.\n",
    "\n",
    "Here's a simple example of abstraction in Python:\n"
   ]
  },
  {
   "cell_type": "code",
   "execution_count": 1,
   "metadata": {},
   "outputs": [],
   "source": [
    "class Vehicle:\n",
    "    def __init__(self, make, model):\n",
    "        self.make = make\n",
    "        self.model = model\n",
    "\n",
    "    def start(self):\n",
    "        pass\n",
    "\n",
    "    def stop(self):\n",
    "        pass\n",
    "\n",
    "class Car(Vehicle):\n",
    "    def start(self):\n",
    "        print(f\"{self.make} {self.model} is starting\")\n",
    "\n",
    "    def stop(self):\n",
    "        print(f\"{self.make} {self.model} is stopping\")\n",
    "\n",
    "class Motorcycle(Vehicle):\n",
    "    def start(self):\n",
    "        print(f\"{self.make} {self.model} is revving up\")\n",
    "\n",
    "    def stop(self):\n",
    "        print(f\"{self.make} {self.model} is slowing down\")"
   ]
  },
  {
   "cell_type": "markdown",
   "metadata": {},
   "source": [
    "In this example, the `Vehicle` class represents an abstraction of a general vehicle with common attributes (make and model) and methods (start and stop). Concrete subclasses like `Car` and `Motorcycle` inherit from `Vehicle` and provide specific implementations for the start and stop methods. Users of these classes can interact with them without needing to know the exact implementation details of each vehicle type.\n",
    "\n",
    "Abstraction helps in managing complexity, improving code organization, and making code more maintainable and understandable by focusing on high-level concepts and behaviors."
   ]
  },
  {
   "cell_type": "markdown",
   "metadata": {},
   "source": [
    "### How to Use Abstraction:"
   ]
  },
  {
   "cell_type": "code",
   "execution_count": 2,
   "metadata": {},
   "outputs": [],
   "source": [
    "from abc import ABC,abstractmethod\n",
    "class BankApp(ABC):\n",
    "\n",
    "  def database(self):\n",
    "    print('connected to database')\n",
    "\n",
    "  @abstractmethod    # This is absreactmethod\n",
    "  def security(self):\n",
    "    pass\n",
    "\n",
    "  @abstractmethod\n",
    "  def display(self):\n",
    "    pass"
   ]
  },
  {
   "cell_type": "code",
   "execution_count": 3,
   "metadata": {},
   "outputs": [],
   "source": [
    "class MobileApp(BankApp):\n",
    "\n",
    "  def mobile_login(self):\n",
    "    print('login into mobile')\n",
    "\n",
    "  def security(self):         # if we use some function in abstractmethod then we have to write abstractmethod when we use that function \n",
    "    print('mobile security')\n",
    "\n",
    "  def display(self):\n",
    "    print('display')"
   ]
  },
  {
   "cell_type": "code",
   "execution_count": 4,
   "metadata": {},
   "outputs": [],
   "source": [
    "mob = MobileApp()"
   ]
  },
  {
   "cell_type": "code",
   "execution_count": 5,
   "metadata": {},
   "outputs": [
    {
     "name": "stdout",
     "output_type": "stream",
     "text": [
      "mobile security\n"
     ]
    }
   ],
   "source": [
    "mob.security()"
   ]
  },
  {
   "cell_type": "code",
   "execution_count": 6,
   "metadata": {},
   "outputs": [
    {
     "ename": "TypeError",
     "evalue": "Can't instantiate abstract class BankApp with abstract methods display, security",
     "output_type": "error",
     "traceback": [
      "\u001b[1;31m---------------------------------------------------------------------------\u001b[0m",
      "\u001b[1;31mTypeError\u001b[0m                                 Traceback (most recent call last)",
      "\u001b[1;32mc:\\Users\\disha\\Downloads\\Pythoon 100 Days\\100_Days_OF_Python\\Polymorphism and Abstraction - Object-Oriented Programming (OOP).ipynb Cell 19\u001b[0m line \u001b[0;36m1\n\u001b[1;32m----> <a href='vscode-notebook-cell:/c%3A/Users/disha/Downloads/Pythoon%20100%20Days/100_Days_OF_Python/Polymorphism%20and%20Abstraction%20-%20Object-Oriented%20Programming%20%28OOP%29.ipynb#X26sZmlsZQ%3D%3D?line=0'>1</a>\u001b[0m obj \u001b[39m=\u001b[39m BankApp()\n",
      "\u001b[1;31mTypeError\u001b[0m: Can't instantiate abstract class BankApp with abstract methods display, security"
     ]
    }
   ],
   "source": [
    "obj = BankApp()"
   ]
  },
  {
   "cell_type": "markdown",
   "metadata": {},
   "source": [
    "The error message indicates that you are trying to instantiate an abstract class called BankApp, but this class contains abstract methods display and security that have not been implemented in the BankApp class or its subclasses.\n",
    "\n",
    "In Python, an abstract class is a class that cannot be instantiated directly, and it often serves as a blueprint for other classes. Abstract classes can contain abstract methods, which are methods declared without an implementation in the abstract class. Subclasses of the abstract class are required to provide implementations for these abstract methods."
   ]
  }
 ],
 "metadata": {
  "kernelspec": {
   "display_name": "base",
   "language": "python",
   "name": "python3"
  },
  "language_info": {
   "codemirror_mode": {
    "name": "ipython",
    "version": 3
   },
   "file_extension": ".py",
   "mimetype": "text/x-python",
   "name": "python",
   "nbconvert_exporter": "python",
   "pygments_lexer": "ipython3",
   "version": "3.9.18"
  }
 },
 "nbformat": 4,
 "nbformat_minor": 2
}
