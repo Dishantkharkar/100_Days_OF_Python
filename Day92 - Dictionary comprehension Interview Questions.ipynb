{
 "cells": [
  {
   "cell_type": "markdown",
   "id": "835a742d-de39-4fda-80f9-ea51e29f7655",
   "metadata": {},
   "source": [
    "# **Dictionary comprehension Interview Questions**"
   ]
  },
  {
   "cell_type": "markdown",
   "id": "9bb2ef01-039e-4376-98e6-1fd26ba2e109",
   "metadata": {},
   "source": [
    "### Question 1: Explain what a dictionary comprehension is in Python."
   ]
  },
  {
   "cell_type": "markdown",
   "id": "f17f3ad3-a97e-4511-b184-0639fa875d50",
   "metadata": {},
   "source": [
    "Answer:\n",
    "A dictionary comprehension is a concise way to create dictionaries in Python. It is similar to a list comprehension but produces key-value pairs in the form of a dictionary. The general syntax is \n",
    "\n",
    "\"{`key_expression`: `value_expression` **for** `item`**in** `iterable`}.\"\""
   ]
  },
  {
   "cell_type": "markdown",
   "id": "912a9e3c-bacb-47d4-a852-30cfe5c513fa",
   "metadata": {},
   "source": [
    "### Question 2: How can you use conditions in a dictionary comprehension? Provide an example."
   ]
  },
  {
   "cell_type": "markdown",
   "id": "ce910d81-0e37-46c0-bfc7-498ed285c9ff",
   "metadata": {},
   "source": [
    "Answer:\n",
    "Conditions can be incorporated into a dictionary comprehension using an if statement. \n",
    "\n",
    "For instance, consider the following example that creates a dictionary of squares for even numbers from 0 to 8:"
   ]
  },
  {
   "cell_type": "code",
   "execution_count": 2,
   "id": "b23433fe-c372-4b2d-be91-fa701ccf9609",
   "metadata": {},
   "outputs": [
    {
     "name": "stdout",
     "output_type": "stream",
     "text": [
      "{0: 0, 2: 4, 4: 16, 6: 36, 8: 64}\n"
     ]
    }
   ],
   "source": [
    "even_squares_dict = {x: x**2 for x in range(9) if x % 2 == 0}\n",
    "\n",
    "print(even_squares_dict)"
   ]
  },
  {
   "cell_type": "markdown",
   "id": "571fd61d-334d-4127-88cb-11007d15efdb",
   "metadata": {},
   "source": [
    "### Question 3: Can you explain the role of expressions key_expression and value_expression in a dictionary comprehension?"
   ]
  },
  {
   "cell_type": "markdown",
   "id": "c43c77b7-16fb-4717-b265-ba014221e934",
   "metadata": {},
   "source": [
    "Answer:\n",
    "key_expression and value_expression are the expressions that define the key and value for each key-value pair in the resulting dictionary. They are evaluated for each element in the iterable specified in the comprehension. \n",
    "\n",
    "For example, in the expression \n",
    "\n",
    "`{x: x**2 for x in range(5)}`, x is the key_expression, and x**2 is the value_expression."
   ]
  },
  {
   "cell_type": "markdown",
   "id": "152998d5-5d70-497a-8b46-05a622893840",
   "metadata": {},
   "source": [
    "### Question 4: How would you use a dictionary comprehension to filter and transform data from an existing dictionary?"
   ]
  },
  {
   "cell_type": "markdown",
   "id": "a1fc88a9-d084-4d85-a76d-85b01004a223",
   "metadata": {},
   "source": [
    "Answer:\n",
    "You can use a dictionary comprehension to filter and transform data by applying conditions and expressions to the existing dictionary. \n",
    "\n",
    "For instance, consider the following example that filters out odd squares from a dictionary:"
   ]
  },
  {
   "cell_type": "code",
   "execution_count": 3,
   "id": "a6c8485a-1d33-4abf-a188-1e3f0e7f72c7",
   "metadata": {},
   "outputs": [
    {
     "name": "stdout",
     "output_type": "stream",
     "text": [
      "{0: 0, 1: 1, 2: 4, 3: 9, 4: 16}\n",
      "--------------\n",
      "{0: 0, 2: 4, 4: 16}\n"
     ]
    }
   ],
   "source": [
    "original_dict = {x: x**2 for x in range(5)}\n",
    "filtered_dict = {key: value for key, value in original_dict.items() if value % 2 == 0}\n",
    "\n",
    "print(original_dict)\n",
    "\n",
    "print('--------------')\n",
    "\n",
    "print(filtered_dict)"
   ]
  },
  {
   "cell_type": "markdown",
   "id": "ec2206db-7ae9-4595-8a64-fe25f711a6a5",
   "metadata": {},
   "source": [
    "### Question 5: Are dictionary comprehensions more ef`icient than traditional methods of creating dictionaries in Python?"
   ]
  },
  {
   "cell_type": "markdown",
   "id": "86235c34-7593-49d8-9593-4330ab75628e",
   "metadata": {},
   "source": [
    "Answer:\n",
    "\n",
    "* In terms of efficiency, dictionary comprehensions are generally more concise and can be as efficient as traditional methods.\n",
    "* They provide a more readable and compact way to create dictionaries. However, for very large datasets or complex conditions, the difference in performance may be negligible.\n",
    "* It's always essential to consider readability and maintainability alongside performance when choosing between different approaches."
   ]
  }
 ],
 "metadata": {
  "kernelspec": {
   "display_name": "Python 3 (ipykernel)",
   "language": "python",
   "name": "python3"
  },
  "language_info": {
   "codemirror_mode": {
    "name": "ipython",
    "version": 3
   },
   "file_extension": ".py",
   "mimetype": "text/x-python",
   "name": "python",
   "nbconvert_exporter": "python",
   "pygments_lexer": "ipython3",
   "version": "3.9.18"
  }
 },
 "nbformat": 4,
 "nbformat_minor": 5
}
