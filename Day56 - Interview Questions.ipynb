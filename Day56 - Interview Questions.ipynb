{
 "cells": [
  {
   "cell_type": "markdown",
   "metadata": {},
   "source": [
    "# **Basic 5 Interview Questions on Python**"
   ]
  },
  {
   "cell_type": "markdown",
   "metadata": {},
   "source": [
    "`1. How do you reverse a string in Python?`"
   ]
  },
  {
   "cell_type": "code",
   "execution_count": 2,
   "metadata": {},
   "outputs": [
    {
     "data": {
      "text/plain": [
       "'dlroW olleH'"
      ]
     },
     "execution_count": 2,
     "metadata": {},
     "output_type": "execute_result"
    }
   ],
   "source": [
    "# if you have a string s\n",
    "s = \"Hello World\"\n",
    "\n",
    "def reverse_the_string(s):\n",
    "    return s[::-1]\n",
    "\n",
    "reverse_the_string(s)"
   ]
  },
  {
   "cell_type": "markdown",
   "metadata": {},
   "source": [
    "`2. What is the difference between a list and a Dictionary?`\n",
    "\n",
    "    1. List\n",
    "• A mutable data structure.\n",
    "• Can store heterogeneous data types.\n",
    "• Uses an index-based data structure.\n",
    "• Useful for storing multiple values of the same data type.\n",
    "\n",
    "\t2. Dictionary\n",
    "• A key-value data structure.\n",
    "• A mutable data structure.\n",
    "• Useful for storing student data, customer details, etc..\n",
    "Here are some other data structures in Python:\n",
    "Arrays, Strings, Queues, Stacks, Trees, Linked lists, Graphs.\n",
    "\n",
    "\n"
   ]
  },
  {
   "cell_type": "markdown",
   "metadata": {},
   "source": [
    "`3. Write a function that checks if a given word is a palindrome.`"
   ]
  },
  {
   "cell_type": "code",
   "execution_count": 3,
   "metadata": {},
   "outputs": [],
   "source": [
    "def is_palindrome(word):\n",
    "    return word == word[::-1]"
   ]
  },
  {
   "cell_type": "markdown",
   "metadata": {},
   "source": [
    "`4. How can you remove duplicates from a list?`"
   ]
  },
  {
   "cell_type": "code",
   "execution_count": 4,
   "metadata": {},
   "outputs": [
    {
     "data": {
      "text/plain": [
       "[1, 2, 4, 5, 6]"
      ]
     },
     "execution_count": 4,
     "metadata": {},
     "output_type": "execute_result"
    }
   ],
   "source": [
    "l = [1,2,2,4,4,5,6]\n",
    "\n",
    "def remove_duplicates(l):\n",
    "    return list(set(l))\n",
    "\n",
    "remove_duplicates(l)"
   ]
  },
  {
   "cell_type": "markdown",
   "metadata": {},
   "source": [
    "`5. What is a lambda function? Provide an example.`"
   ]
  },
  {
   "cell_type": "markdown",
   "metadata": {},
   "source": [
    "In Python, a lambda function is a small, anonymous function defined using the `lambda` keyword. Lambda functions are also sometimes referred to as anonymous functions or lambda expressions. The primary purpose of lambda functions is to create small, one-time-use functions without formally defining a full function using the `def` keyword.\n",
    "\n"
   ]
  },
  {
   "cell_type": "code",
   "execution_count": 5,
   "metadata": {},
   "outputs": [
    {
     "name": "stdout",
     "output_type": "stream",
     "text": [
      "5\n"
     ]
    }
   ],
   "source": [
    "add = lambda x, y: x + y\n",
    "print(add(2, 3))"
   ]
  },
  {
   "cell_type": "markdown",
   "metadata": {},
   "source": [
    "In this example, the lambda function takes two arguments (`x` and `y`) and returns their sum. It is equivalent to the following regular function:\n"
   ]
  },
  {
   "cell_type": "code",
   "execution_count": 6,
   "metadata": {},
   "outputs": [],
   "source": [
    "def add(x, y):\n",
    "    return x + y"
   ]
  },
  {
   "cell_type": "markdown",
   "metadata": {},
   "source": [
    "Lambda functions are often used for short, simple operations, especially in situations where you need to pass a function as an argument to another function "
   ]
  }
 ],
 "metadata": {
  "kernelspec": {
   "display_name": "base",
   "language": "python",
   "name": "python3"
  },
  "language_info": {
   "codemirror_mode": {
    "name": "ipython",
    "version": 3
   },
   "file_extension": ".py",
   "mimetype": "text/x-python",
   "name": "python",
   "nbconvert_exporter": "python",
   "pygments_lexer": "ipython3",
   "version": "3.9.18"
  }
 },
 "nbformat": 4,
 "nbformat_minor": 2
}
