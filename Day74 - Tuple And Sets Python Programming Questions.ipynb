{
 "cells": [
  {
   "cell_type": "markdown",
   "metadata": {},
   "source": [
    "# **Tuple and Sets Python Coding Questions**"
   ]
  },
  {
   "cell_type": "markdown",
   "metadata": {},
   "source": [
    "### `Questions 1: Check is tuples are same or not?`\n",
    "Two tuples would be same if both tuples have same element at same index\n",
    "```\n",
    "t1 = (1,2,3,0)\n",
    "t2 = (0,1,2,3)\n",
    "\n",
    "t1 and t2 are not same\n",
    "```"
   ]
  },
  {
   "cell_type": "code",
   "execution_count": 1,
   "metadata": {},
   "outputs": [
    {
     "name": "stdout",
     "output_type": "stream",
     "text": [
      "t1 and t2 are not same\n"
     ]
    }
   ],
   "source": [
    "t1 = (1,2,3,0)\n",
    "t2 = (0,1,2,3)\n",
    "\n",
    "# define function for same tuple\n",
    "\n",
    "def are_tuple_same(tuple1,tuple2):\n",
    "    # check if the length of the tuple is same or not\n",
    "    if len(tuple1)!=len(tuple2):\n",
    "        return False\n",
    "    \n",
    "    # check if elements at corresponding indices are the same \n",
    "    for i in range(len(tuple1)):\n",
    "        if tuple1[i] != tuple2[i]:\n",
    "            return False\n",
    "        \n",
    "    # tuples are same if all elemets are equal\n",
    "    return True\n",
    "\n",
    "if are_tuple_same(t1,t2):\n",
    "    print('t1 and t2 are the same')\n",
    "    \n",
    "else:\n",
    "    print('t1 and t2 are not same')"
   ]
  },
  {
   "cell_type": "code",
   "execution_count": 2,
   "metadata": {},
   "outputs": [
    {
     "name": "stdout",
     "output_type": "stream",
     "text": [
      "t1 and t2 are the same\n"
     ]
    }
   ],
   "source": [
    "# EXAMPLE 2\n",
    "t1 = (1,2,3,4,5)\n",
    "t2 = (1,2,3,4,5)\n",
    "\n",
    "if are_tuple_same(t1,t2):\n",
    "    print('t1 and t2 are the same')\n",
    "    \n",
    "else:\n",
    "    print('t1 and t2 are not same')\n",
    "\n"
   ]
  },
  {
   "cell_type": "markdown",
   "metadata": {},
   "source": [
    "### `Question 2: Count no of tuples, list and set from a list`\n",
    "\n",
    "```list1 = [{'hi', 'bye'},{'Geeks', 'forGeeks'},('a', 'b'),['hi', 'bye'],['a', 'b']]```\n",
    "\n",
    "\n",
    "Output:\n",
    "\n",
    "```\n",
    "List-2\n",
    "Set-2\n",
    "Tuples-1\n",
    "```"
   ]
  },
  {
   "cell_type": "code",
   "execution_count": 3,
   "metadata": {},
   "outputs": [
    {
     "name": "stdout",
     "output_type": "stream",
     "text": [
      "List-2\n",
      "Set-2\n",
      "Tuples-1\n"
     ]
    }
   ],
   "source": [
    "list1 = [{'hi', 'bye'}, {'Geeks', 'forGeeks'}, ('a', 'b'), ['hi', 'bye'], ['a', 'b']]\n",
    "\n",
    "# Initialize counters\n",
    "tuple_count = 0\n",
    "list_count = 0\n",
    "set_count = 0\n",
    "\n",
    "# Iterate through the elements in the list\n",
    "for elem in list1:\n",
    "    if isinstance(elem, tuple):\n",
    "        tuple_count += 1\n",
    "    elif isinstance(elem, list):\n",
    "        list_count += 1\n",
    "    elif isinstance(elem, set):\n",
    "        set_count += 1\n",
    "\n",
    "# Print the counts\n",
    "print(f\"List-{list_count}\")\n",
    "print(f\"Set-{set_count}\")\n",
    "print(f\"Tuples-{tuple_count}\")\n"
   ]
  },
  {
   "cell_type": "markdown",
   "metadata": {},
   "source": [
    "### `Question 3: Write a program to find set of common elements in three lists using sets.`\n",
    "```\n",
    "Input : ar1 = [1, 5, 10, 20, 40, 80]\n",
    "        ar2 = [6, 7, 20, 80, 100]\n",
    "        ar3 = [3, 4, 15, 20, 30, 70, 80, 120]\n",
    "\n",
    "Output : [80, 20]\n",
    "```"
   ]
  },
  {
   "cell_type": "code",
   "execution_count": 4,
   "metadata": {},
   "outputs": [
    {
     "name": "stdout",
     "output_type": "stream",
     "text": [
      "Output: [80, 20]\n"
     ]
    }
   ],
   "source": [
    "arr1 = [1,5,10,20,40,80]\n",
    "arr2 = [6,7,20,80,100]\n",
    "arr3 = [3,4,15,20,30,70,80,120]\n",
    "\n",
    "# convert list into sets\n",
    "set1 = set(arr1)\n",
    "set2 = set(arr2)\n",
    "set3 = set(arr3)\n",
    "\n",
    "# Find the common elements using set intersection\n",
    "common_elements = set1.intersection(set2, set3)\n",
    "\n",
    "# Convert the result back to a list\n",
    "result_list = list(common_elements)\n",
    "\n",
    "# Output\n",
    "print(\"Output:\", result_list)"
   ]
  },
  {
   "cell_type": "markdown",
   "metadata": {},
   "source": [
    "### `Question 4: find union of n arrays.`\n",
    "\n",
    "**Example 1:**\n",
    "\n",
    "Input:\n",
    "```bash\n",
    "[[1, 2, 2, 4, 3, 6],\n",
    " [5, 1, 3, 4],\n",
    " [9, 5, 7, 1],\n",
    " [2, 4, 1, 3]]\n",
    "```\n",
    "\n",
    "Output:\n",
    "\n",
    "```bash\n",
    "[1, 2, 3, 4, 5, 6, 7, 9]\n",
    "```"
   ]
  },
  {
   "cell_type": "code",
   "execution_count": 5,
   "metadata": {},
   "outputs": [
    {
     "name": "stdout",
     "output_type": "stream",
     "text": [
      "Output: [1, 2, 3, 4, 5, 6, 7, 9]\n"
     ]
    }
   ],
   "source": [
    "def find_union(arrays):\n",
    "    # Initialize an empty set for the union\n",
    "    union_set = set()\n",
    "\n",
    "    # Iterate through each array and update the union set\n",
    "    for array in arrays:\n",
    "        union_set.update(array)\n",
    "\n",
    "    # Convert the set to a list (if needed)\n",
    "    union_list = list(union_set)\n",
    "\n",
    "    return union_list\n",
    "\n",
    "# Example usage\n",
    "input_arrays = [\n",
    "    [1, 2, 2, 4, 3, 6],\n",
    "    [5, 1, 3, 4],\n",
    "    [9, 5, 7, 1],\n",
    "    [2, 4, 1, 3]\n",
    "]\n",
    "\n",
    "output_union = find_union(input_arrays)\n",
    "print(\"Output:\", output_union)"
   ]
  }
 ],
 "metadata": {
  "kernelspec": {
   "display_name": "base",
   "language": "python",
   "name": "python3"
  },
  "language_info": {
   "codemirror_mode": {
    "name": "ipython",
    "version": 3
   },
   "file_extension": ".py",
   "mimetype": "text/x-python",
   "name": "python",
   "nbconvert_exporter": "python",
   "pygments_lexer": "ipython3",
   "version": "3.9.18"
  }
 },
 "nbformat": 4,
 "nbformat_minor": 2
}
