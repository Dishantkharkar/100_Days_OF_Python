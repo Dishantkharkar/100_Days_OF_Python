{
 "cells": [
  {
   "cell_type": "markdown",
   "id": "8f8901cc-e48b-48db-8cf4-8c3c60fc1f93",
   "metadata": {},
   "source": [
    "# **What is Exceptional Handling???**"
   ]
  },
  {
   "cell_type": "markdown",
   "id": "2e4052be-02a5-45d3-a633-6e339f0b5cf9",
   "metadata": {},
   "source": [
    "* In programming, an exception is an event that occurs during the execution of a program and disrupts the normal flow of instructions. Exception handling is the mechanism used to handle such exceptional situations. It allows a program to respond to unexpected events, such as errors or unusual conditions, in a controlled and graceful manner."
   ]
  },
  {
   "cell_type": "markdown",
   "id": "34fda2a8-3e9f-4020-931c-9993cefe814f",
   "metadata": {},
   "source": [
    "## **Exceptional Handling in Python**"
   ]
  },
  {
   "cell_type": "markdown",
   "id": "6242cdde-cabf-4897-8c49-887cf5a62b0c",
   "metadata": {},
   "source": [
    "* In Python, \"exception handling\" refers to the process of managing and responding to errors that may occur during the execution of a program. When an error occurs in a Python program, it raises an exception, which is an object that represents the error.\n",
    "\n",
    "* Exception handling in Python is done using the try, except, else, and finally blocks. Here's a brief overview:\n",
    "\n",
    "1. **try**: The code that might raise an exception is placed inside the try block.\n",
    "2. **except**: If an exception occurs within the try block, the corresponding except block is executed. It allows you to handle the exception and take appropriate action.\n",
    "3. **else**: The code inside the else block is executed if no exceptions occur in the try block.\n",
    "4. **finally**: The finally block contains code that will be executed whether an exception occurs or not. It is typically used for cleanup operations."
   ]
  },
  {
   "cell_type": "code",
   "execution_count": 1,
   "id": "76a92027-f76a-48d1-b058-7cd68cce41c8",
   "metadata": {},
   "outputs": [
    {
     "name": "stdin",
     "output_type": "stream",
     "text": [
      "Enter a number:  5\n"
     ]
    },
    {
     "name": "stdout",
     "output_type": "stream",
     "text": [
      "Result: 2.0\n",
      "This will always be executed.\n"
     ]
    }
   ],
   "source": [
    "try:\n",
    "    # Code that might raise an exception\n",
    "    x = int(input(\"Enter a number: \"))\n",
    "    result = 10 / x\n",
    "\n",
    "except ZeroDivisionError:\n",
    "    print(\"Cannot divide by zero!\")\n",
    "\n",
    "except ValueError:\n",
    "    print(\"Invalid input. Please enter a valid number.\")\n",
    "\n",
    "else:\n",
    "    # Code to be executed if no exception occurs\n",
    "    print(\"Result:\", result)\n",
    "\n",
    "finally:\n",
    "    # Code that will be executed no matter what\n",
    "    print(\"This will always be executed.\")"
   ]
  },
  {
   "cell_type": "code",
   "execution_count": 3,
   "id": "f4b6b095-0fec-4a56-8f33-f1726be209ab",
   "metadata": {},
   "outputs": [
    {
     "name": "stdin",
     "output_type": "stream",
     "text": [
      "Enter a number:  me\n"
     ]
    },
    {
     "name": "stdout",
     "output_type": "stream",
     "text": [
      "Invalid input. Please enter a valid number.\n",
      "This will always be executed.\n"
     ]
    }
   ],
   "source": [
    "try:\n",
    "    # Code that might raise an exception\n",
    "    x = int(input(\"Enter a number: \"))\n",
    "    result = 10 / x\n",
    "\n",
    "except ZeroDivisionError:\n",
    "    print(\"Cannot divide by zero!\")\n",
    "\n",
    "except ValueError:\n",
    "    print(\"Invalid input. Please enter a valid number.\")\n",
    "\n",
    "else:\n",
    "    # Code to be executed if no exception occurs\n",
    "    print(\"Result:\", result)\n",
    "\n",
    "finally:\n",
    "    # Code that will be executed no matter what\n",
    "    print(\"This will always be executed.\")"
   ]
  },
  {
   "cell_type": "markdown",
   "id": "d2f28156-4740-46bc-9d16-43feb408b41b",
   "metadata": {},
   "source": [
    "* In this example, if the user enters a non-numeric value or tries to divide by zero, the appropriate except block is executed. If no exception occurs, the else block is executed. The finally block is executed regardless of whether an exception occurred or not.\n",
    "\n",
    "\n",
    "* Exception handling helps make your code more robust by allowing you to gracefully handle errors and prevent unexpected crashes."
   ]
  },
  {
   "cell_type": "markdown",
   "id": "9cb1c96b-41a3-4a15-897c-84b2419db505",
   "metadata": {},
   "source": [
    "## **Different types of exceptions in python**\n",
    "\n",
    "In Python, there are several built-in Python exceptions that can be raised when an error occurs during the execution of a program. Here are some of the most common types of exceptions in Python:\r\n",
    "\r\n",
    "- **SyntaxError:**  \r\n",
    "  Raised when the interpreter encounters a syntax error in the code, such as a misspelled keyword, a missing colon, or an unbalanced parenthesis.\r\n",
    "\r\n",
    "- **TypeError:**  \r\n",
    "  Raised when an operation or function is applied to an object of the wrong type, such as adding a string to an integer.\r\n",
    "\r\n",
    "- **NameError:**  \r\n",
    "  Raised when a variable or function name is not found in the current scope.\r\n",
    "\r\n",
    "- **IndexError:**  \r\n",
    "  Raised when an index is out of range for a list, tuple, or other sequence types.\r\n",
    "\r\n",
    "- **KeyError:**  \r\n",
    "  Raised when a key is not found in a dictionary.\r\n",
    "\r\n",
    "- **ValueError:**  \r\n",
    "  Raised when a function or method is called with an invalid argument or input, such as trying to convert a string to an integer when the string does not represent a valid integer.\r\n",
    "\r\n",
    "- **AttributeError:**  \r\n",
    "  Raised when an attribute or method is not found on an object, such as trying to access a non-existent attribute of a class instance.\r\n",
    "\r\n",
    "- **IOError:**  \r\n",
    "  Raised when an I/O operation, such as reading or writing a file, fails due to an input/output error.\r\n",
    "\r\n",
    "- **ZeroDivisionError:**  \r\n",
    "  Raised when an attempt is made to divide a number by zero.\r\n",
    "\r\n",
    "- **ImportError:**  \r\n",
    "  Raised when an import statement fails to find or load a module.\r\n",
    "a module."
   ]
  },
  {
   "cell_type": "markdown",
   "id": "ef98de97-8153-4613-a38e-02ba67c23c59",
   "metadata": {},
   "source": [
    "### **Try and Except Statement – Catching Exceptions**\n",
    "\n",
    "Try and except statements are used to catch and handle exceptions in Python. Statements that can raise exceptions are kept inside the try clause and the statements that handle the exception are written inside except clause.\n",
    "\n",
    "Example: Here we are trying to access the array element whose index is out of bound and handle the corresponding exception."
   ]
  },
  {
   "cell_type": "code",
   "execution_count": 5,
   "id": "fa8cadfd-c96f-4274-bebd-b120d637153f",
   "metadata": {},
   "outputs": [
    {
     "name": "stdout",
     "output_type": "stream",
     "text": [
      "Second element = 2\n",
      "An error occurred\n"
     ]
    }
   ],
   "source": [
    "a = [1, 2, 3]\n",
    "try: \n",
    "\tprint (\"Second element = %d\" %(a[1]))\n",
    "\n",
    "\tprint (\"Fourth element = %d\" %(a[3]))\n",
    "\n",
    "except:\n",
    "\tprint (\"An error occurred\")"
   ]
  },
  {
   "cell_type": "markdown",
   "id": "1ec67715-53eb-4811-8bec-83bef3e2835e",
   "metadata": {},
   "source": [
    "In the above example, the statements that can cause the error are placed inside the try statement (second print statement in our case). The second print statement tries to access the fourth element of the list which is not there and this throws an exception. This exception is then caught by the except statement."
   ]
  },
  {
   "cell_type": "markdown",
   "id": "06ba7f10-c6f1-4074-af08-33e4fd1fa3fd",
   "metadata": {},
   "source": [
    "### **Raising Exception**\n",
    "\n",
    "The raise statement allows the programmer to force a specific exception to occur. The sole argument in raise indicates the exception to be raised. This must be either an exception instance or an exception class (a class that derives from Exception).\n",
    "\n",
    "This code intentionally raises a NameError with the message “Hi there” using the raise statement within a try block. Then, it catches the NameError exception, prints “An exception,” and re-raises the same exception using raise. This demonstrates how exceptions can be raised and handled in Python, allowing for custom error messages and further exception propagation."
   ]
  },
  {
   "cell_type": "code",
   "execution_count": 8,
   "id": "9dc7713e-e8e9-422b-a2e3-29fab808addc",
   "metadata": {},
   "outputs": [
    {
     "name": "stdout",
     "output_type": "stream",
     "text": [
      "An exception\n"
     ]
    },
    {
     "ename": "NameError",
     "evalue": "Hi there",
     "output_type": "error",
     "traceback": [
      "\u001b[1;31m---------------------------------------------------------------------------\u001b[0m",
      "\u001b[1;31mNameError\u001b[0m                                 Traceback (most recent call last)",
      "Cell \u001b[1;32mIn[8], line 2\u001b[0m\n\u001b[0;32m      1\u001b[0m \u001b[38;5;28;01mtry\u001b[39;00m: \n\u001b[1;32m----> 2\u001b[0m \t\u001b[38;5;28;01mraise\u001b[39;00m \u001b[38;5;167;01mNameError\u001b[39;00m(\u001b[38;5;124m\"\u001b[39m\u001b[38;5;124mHi there\u001b[39m\u001b[38;5;124m\"\u001b[39m)\n\u001b[0;32m      3\u001b[0m \u001b[38;5;28;01mexcept\u001b[39;00m \u001b[38;5;167;01mNameError\u001b[39;00m:\n\u001b[0;32m      4\u001b[0m \t\u001b[38;5;28mprint\u001b[39m (\u001b[38;5;124m\"\u001b[39m\u001b[38;5;124mAn exception\u001b[39m\u001b[38;5;124m\"\u001b[39m)\n",
      "\u001b[1;31mNameError\u001b[0m: Hi there"
     ]
    }
   ],
   "source": [
    "try: \n",
    "\traise NameError(\"Hi there\")\n",
    "except NameError:\n",
    "\tprint (\"An exception\")\n",
    "\traise"
   ]
  },
  {
   "cell_type": "markdown",
   "id": "c7ab171e-b295-4d05-8efe-6f511392fffe",
   "metadata": {},
   "source": [
    "The output of the above code will simply line printed as “An exception” but a Runtime error will also occur in the last due to the raise statement in the last line. So, the output on your command line will look like "
   ]
  },
  {
   "cell_type": "markdown",
   "id": "660f24f0-1f46-4720-b28f-3e80308aaa27",
   "metadata": {},
   "source": [
    "## **Benefits of Exception Handling in Python**\n",
    "\n",
    "1. **Improved Program Reliability:**\n",
    "   - By handling exceptions properly, you can prevent your program from crashing or producing incorrect results due to unexpected errors or input.\n",
    "\n",
    "2. **Simplified Error Handling:**\n",
    "   - Exception handling allows you to separate error handling code from the main program logic, making it easier to read and maintain your code.\n",
    "\n",
    "3. **Cleaner Code:**\n",
    "   - With exception handling, you can avoid using complex conditional statements to check for errors, leading to cleaner and more readable code.\n",
    "\n",
    "4. **Easier Debugging:**\n",
    "   - When an exception is raised, the Python interpreter prints a traceback that shows the exact location where the exception occurred, making it easier to debug your code.\n",
    "\n",
    "\n"
   ]
  },
  {
   "cell_type": "markdown",
   "id": "03d7d83c-b3e9-43a3-9b61-1bfdf393c943",
   "metadata": {},
   "source": [
    "## **Disadvantages of Exception Handling in Python**\n",
    "\n",
    "1. **Performance Overhead:**\n",
    "   - Exception handling can introduce a performance overhead compared to using conditional statements to check for errors. The interpreter has to perform additional work to catch and handle exceptions, potentially slowing down the program.\n",
    "\n",
    "2. **Increased Code Complexity:**\n",
    "   - Exception handling can make your code more complex, especially when dealing with multiple types of exceptions or implementing intricate error-handling logic. This complexity may impact code readability and maintainability.\n",
    "\n",
    "3. **Possible Security Risks:**\n",
    "   - Improperly handled exceptions can potentially reveal sensitive information or create security vulnerabilities in your code. It is crucial to handle exceptions carefully and avoid exposing too much information about your program to mitigate potential security risks.\n"
   ]
  },
  {
   "cell_type": "markdown",
   "id": "b414e158-684f-4ff3-bae6-aef610a2a6c0",
   "metadata": {},
   "source": [
    "Overall, the benefits of exception handling in Python outweigh the drawbacks, but it’s important to use it judiciously and carefully in order to maintain code quality and program reliability."
   ]
  }
 ],
 "metadata": {
  "kernelspec": {
   "display_name": "Python 3 (ipykernel)",
   "language": "python",
   "name": "python3"
  },
  "language_info": {
   "codemirror_mode": {
    "name": "ipython",
    "version": 3
   },
   "file_extension": ".py",
   "mimetype": "text/x-python",
   "name": "python",
   "nbconvert_exporter": "python",
   "pygments_lexer": "ipython3",
   "version": "3.9.18"
  }
 },
 "nbformat": 4,
 "nbformat_minor": 5
}
