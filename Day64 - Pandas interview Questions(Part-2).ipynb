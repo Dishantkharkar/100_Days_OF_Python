{
 "cells": [
  {
   "cell_type": "markdown",
   "metadata": {},
   "source": [
    "# **Pandas Interview Questions(Part2)**"
   ]
  },
  {
   "cell_type": "markdown",
   "metadata": {},
   "source": [
    "### `1. Explain the process of merging two dataframe in pandas`\n",
    "\n",
    "Merging two DataFrames in Pandas involves combining their rows based on a common column (or index) called the key. This operation is similar to SQL joins. Pandas provides the merge() function to perform various types of joins between two or more DataFrames."
   ]
  },
  {
   "cell_type": "markdown",
   "metadata": {},
   "source": [
    "Step 1: Import Pandas"
   ]
  },
  {
   "cell_type": "code",
   "execution_count": 1,
   "metadata": {},
   "outputs": [],
   "source": [
    "import pandas as pd\n"
   ]
  },
  {
   "cell_type": "markdown",
   "metadata": {},
   "source": [
    "Step 2: Create Two DataFrames\n",
    "Assuming you have two DataFrames, df1 and df2, with a common key column:"
   ]
  },
  {
   "cell_type": "code",
   "execution_count": 2,
   "metadata": {},
   "outputs": [],
   "source": [
    "# Example DataFrames\n",
    "data1 = {'Key': ['A', 'B', 'C'], 'Value1': [1, 2, 3]}\n",
    "data2 = {'Key': ['A', 'B', 'D'], 'Value2': ['X', 'Y', 'Z']}\n",
    "\n",
    "df1 = pd.DataFrame(data1)\n",
    "df2 = pd.DataFrame(data2)\n"
   ]
  },
  {
   "cell_type": "markdown",
   "metadata": {},
   "source": [
    "Step 3: Choose the Type of Join\n",
    "Decide on the type of join you want to perform. The common types are:\n",
    "\n",
    "* Inner Join (how='inner'): Keeps only the rows with keys present in both DataFrames.\n",
    "* Outer Join (how='outer'): Keeps all rows from both DataFrames and fills in missing values with NaN where there is no match.\n",
    "* Left Join (how='left'): Keeps all rows from the left DataFrame and fills in missing values with NaN where there is no match in the right DataFrame.\n",
    "* Right Join (how='right'): Keeps all rows from the right DataFrame and fills in missing values with NaN where there is no match in the left DataFrame."
   ]
  },
  {
   "cell_type": "markdown",
   "metadata": {},
   "source": [
    "Step 4: Merge the DataFrames"
   ]
  },
  {
   "cell_type": "code",
   "execution_count": 4,
   "metadata": {},
   "outputs": [
    {
     "data": {
      "text/html": [
       "<div>\n",
       "<style scoped>\n",
       "    .dataframe tbody tr th:only-of-type {\n",
       "        vertical-align: middle;\n",
       "    }\n",
       "\n",
       "    .dataframe tbody tr th {\n",
       "        vertical-align: top;\n",
       "    }\n",
       "\n",
       "    .dataframe thead th {\n",
       "        text-align: right;\n",
       "    }\n",
       "</style>\n",
       "<table border=\"1\" class=\"dataframe\">\n",
       "  <thead>\n",
       "    <tr style=\"text-align: right;\">\n",
       "      <th></th>\n",
       "      <th>Key</th>\n",
       "      <th>Value1</th>\n",
       "      <th>Value2</th>\n",
       "    </tr>\n",
       "  </thead>\n",
       "  <tbody>\n",
       "    <tr>\n",
       "      <th>0</th>\n",
       "      <td>A</td>\n",
       "      <td>1</td>\n",
       "      <td>X</td>\n",
       "    </tr>\n",
       "    <tr>\n",
       "      <th>1</th>\n",
       "      <td>B</td>\n",
       "      <td>2</td>\n",
       "      <td>Y</td>\n",
       "    </tr>\n",
       "  </tbody>\n",
       "</table>\n",
       "</div>"
      ],
      "text/plain": [
       "  Key  Value1 Value2\n",
       "0   A       1      X\n",
       "1   B       2      Y"
      ]
     },
     "execution_count": 4,
     "metadata": {},
     "output_type": "execute_result"
    }
   ],
   "source": [
    "# Performing the merge (for example, an inner join)\n",
    "merged_df = pd.merge(df1, df2, on='Key', how='inner')\n",
    "merged_df"
   ]
  },
  {
   "cell_type": "markdown",
   "metadata": {},
   "source": [
    "In this example, we're performing an inner join based on the 'Key' column. The resulting DataFrame (merged_df) will have columns from both original DataFrames, and rows where the 'Key' values match in both DataFrames."
   ]
  },
  {
   "cell_type": "markdown",
   "metadata": {},
   "source": [
    "### `2.What is purpose of the groupby function in pandas?`\n",
    "\n"
   ]
  },
  {
   "cell_type": "markdown",
   "metadata": {},
   "source": [
    "The `groupby` function in Pandas is used for grouping data based on some criteria, and it is a powerful and flexible tool for data analysis and manipulation. The primary purpose of `groupby` is to split the data into groups based on some criteria, apply a function to each group independently, and then combine the results back into a DataFrame.\n",
    "\n",
    "Here's an overview of the purpose and usage of the `groupby` function:\n",
    "\n",
    "### Purpose of `groupby`:\n",
    "\n",
    "1. **Data Splitting:**\n",
    "   - `groupby` is used to split the data into groups based on one or more criteria, such as a column's values or a combination of columns.\n",
    "\n",
    "2. **Operations on Groups:**\n",
    "   - After splitting the data into groups, you can perform operations on each group independently. This might include aggregations, transformations, filtering, or other custom operations.\n",
    "\n",
    "3. **Aggregation:**\n",
    "   - One of the most common use cases for `groupby` is to perform aggregation operations on each group, such as calculating the mean, sum, count, minimum, maximum, etc.\n",
    "\n",
    "4. **Data Transformation:**\n",
    "   - `groupby` allows you to apply transformations to the groups and create new features or modify existing ones.\n",
    "\n",
    "5. **Filtering:**\n",
    "   - You can use `groupby` in combination with filtering operations to select specific groups based on certain conditions.\n",
    "\n",
    "\n",
    "\n",
    "\n",
    "\n",
    "\n",
    "\n",
    "\n"
   ]
  },
  {
   "cell_type": "markdown",
   "metadata": {},
   "source": [
    "### `3.Expalin the difference between Series and DataFrame in Pandas`"
   ]
  },
  {
   "cell_type": "markdown",
   "metadata": {},
   "source": [
    "In Pandas, both Series and DataFrame are fundamental data structures, but they serve different purposes and have distinct characteristics.\n",
    "\n",
    "### Series:\n",
    "\n",
    "1. **1-Dimensional Data Structure:**\n",
    "   - A Series is essentially a one-dimensional labeled array that can hold any data type, such as integers, floats, strings, or even Python objects.\n",
    "\n",
    "2. **Homogeneous Data:**\n",
    "   - All elements in a Series must be of the same data type. It is a homogeneous data structure.\n",
    "\n",
    "3. **Labeled Index:**\n",
    "   - Each element in a Series has a label (index), which can be customized or can be the default integer index. This index facilitates easy and efficient data retrieval.\n",
    "\n",
    "4. **Similar to a Column in a DataFrame:**\n",
    "   - A Series is similar to a single column in a DataFrame. In fact, you can think of a DataFrame as a collection of Series with the same index.\n",
    "\n",
    "5. **Creation:**\n",
    "   - You can create a Series from a list, NumPy array, or dictionary.\n",
    "\n",
    "\n",
    "\n",
    "\n",
    "\n",
    "\n",
    "\n"
   ]
  },
  {
   "cell_type": "code",
   "execution_count": 11,
   "metadata": {},
   "outputs": [
    {
     "data": {
      "text/plain": [
       "a    1\n",
       "b    2\n",
       "c    3\n",
       "d    4\n",
       "dtype: int64"
      ]
     },
     "execution_count": 11,
     "metadata": {},
     "output_type": "execute_result"
    }
   ],
   "source": [
    "import pandas as pd\n",
    "\n",
    "# Creating a Series from a list\n",
    "s = pd.Series([1, 2, 3, 4], index=['a', 'b', 'c', 'd'])\n",
    "s"
   ]
  },
  {
   "cell_type": "markdown",
   "metadata": {},
   "source": [
    "### DataFrame:\n",
    "\n",
    "1. **2-Dimensional Data Structure:**\n",
    "   - A DataFrame is a two-dimensional tabular data structure where you can store data of different data types. It consists of rows and columns.\n",
    "\n",
    "2. **Heterogeneous Data:**\n",
    "   - Different columns in a DataFrame can have different data types, making it a heterogeneous data structure.\n",
    "\n",
    "3. **Labeled Index and Columns:**\n",
    "   - Similar to a Series, a DataFrame also has a labeled index for rows, and additionally, it has labeled columns. The column names can be customized.\n",
    "\n",
    "4. **Collection of Series:**\n",
    "   - A DataFrame can be thought of as a collection of Series. Each column is a Series, and the columns share the same index.\n",
    "\n",
    "5. **Creation:**\n",
    "   - You can create a DataFrame from a dictionary, a list of dictionaries, a NumPy array, or another DataFrame."
   ]
  },
  {
   "cell_type": "code",
   "execution_count": 12,
   "metadata": {},
   "outputs": [
    {
     "data": {
      "text/html": [
       "<div>\n",
       "<style scoped>\n",
       "    .dataframe tbody tr th:only-of-type {\n",
       "        vertical-align: middle;\n",
       "    }\n",
       "\n",
       "    .dataframe tbody tr th {\n",
       "        vertical-align: top;\n",
       "    }\n",
       "\n",
       "    .dataframe thead th {\n",
       "        text-align: right;\n",
       "    }\n",
       "</style>\n",
       "<table border=\"1\" class=\"dataframe\">\n",
       "  <thead>\n",
       "    <tr style=\"text-align: right;\">\n",
       "      <th></th>\n",
       "      <th>Name</th>\n",
       "      <th>Age</th>\n",
       "      <th>City</th>\n",
       "    </tr>\n",
       "  </thead>\n",
       "  <tbody>\n",
       "    <tr>\n",
       "      <th>0</th>\n",
       "      <td>John</td>\n",
       "      <td>28</td>\n",
       "      <td>New York</td>\n",
       "    </tr>\n",
       "    <tr>\n",
       "      <th>1</th>\n",
       "      <td>Jane</td>\n",
       "      <td>24</td>\n",
       "      <td>San Francisco</td>\n",
       "    </tr>\n",
       "    <tr>\n",
       "      <th>2</th>\n",
       "      <td>Bob</td>\n",
       "      <td>22</td>\n",
       "      <td>Los Angeles</td>\n",
       "    </tr>\n",
       "  </tbody>\n",
       "</table>\n",
       "</div>"
      ],
      "text/plain": [
       "   Name  Age           City\n",
       "0  John   28       New York\n",
       "1  Jane   24  San Francisco\n",
       "2   Bob   22    Los Angeles"
      ]
     },
     "execution_count": 12,
     "metadata": {},
     "output_type": "execute_result"
    }
   ],
   "source": [
    "import pandas as pd\n",
    "\n",
    "# Creating a DataFrame from a dictionary\n",
    "data = {'Name': ['John', 'Jane', 'Bob'],\n",
    "        'Age': [28, 24, 22],\n",
    "        'City': ['New York', 'San Francisco', 'Los Angeles']}\n",
    "df = pd.DataFrame(data)\n",
    "df"
   ]
  },
  {
   "cell_type": "markdown",
   "metadata": {},
   "source": [
    "In summary, while both Series and DataFrames have labeled indices and support various operations, a Series is a one-dimensional array, and a DataFrame is a two-dimensional table. Series are often used to represent a single column, while DataFrames are used to represent a collection of columns with potentially different data types."
   ]
  },
  {
   "cell_type": "markdown",
   "metadata": {},
   "source": [
    "### `4.what is purpose ofthe apply unction in pandas, and how is it used?`\n",
    "\n",
    "The `apply` function in Pandas is a powerful tool used for applying a function along the axis of a DataFrame or a Series. It is particularly useful for performing element-wise operations, transformations, or custom functions on the data. The primary purpose of `apply` is to allow users to apply a function to each element in a DataFrame or Series, row-wise or column-wise.\n",
    "\n",
    "### Purpose of `apply`:\n",
    "\n",
    "1. **Element-wise Operations:**\n",
    "   - Apply allows you to perform element-wise operations on each element in a Series or DataFrame.\n",
    "\n",
    "2. **Custom Functions:**\n",
    "   - You can use `apply` to apply custom functions that you define to each element or row/column of your data.\n",
    "\n",
    "3. **Aggregation:**\n",
    "   - When used with DataFrames, `apply` can be used for column-wise or row-wise aggregation.\n",
    "\n",
    "4. **Function Composition:**\n",
    "   - `apply` is often used in combination with lambda functions or other callable objects, allowing for flexible and concise code.\n",
    "\n",
    "\n",
    "\n",
    "### Examples:\n",
    "\n",
    "\n",
    "\n",
    "\n"
   ]
  },
  {
   "cell_type": "code",
   "execution_count": 15,
   "metadata": {},
   "outputs": [
    {
     "data": {
      "text/plain": [
       "0     1\n",
       "1     4\n",
       "2     9\n",
       "3    16\n",
       "dtype: int64"
      ]
     },
     "execution_count": 15,
     "metadata": {},
     "output_type": "execute_result"
    }
   ],
   "source": [
    "#### Example 1: Element-wise Operation on Series\n",
    "import pandas as pd\n",
    "\n",
    "# Creating a Series\n",
    "s = pd.Series([1, 2, 3, 4])\n",
    "\n",
    "# Applying a square function element-wise\n",
    "result_series = s.apply(lambda x: x**2)\n",
    "result_series"
   ]
  },
  {
   "cell_type": "code",
   "execution_count": 16,
   "metadata": {},
   "outputs": [
    {
     "data": {
      "text/plain": [
       "A     6\n",
       "B    15\n",
       "dtype: int64"
      ]
     },
     "execution_count": 16,
     "metadata": {},
     "output_type": "execute_result"
    }
   ],
   "source": [
    "#### Example 2: Applying a Function to Each Column in a DataFrame\n",
    "\n",
    "\n",
    "import pandas as pd\n",
    "\n",
    "# Creating a DataFrame\n",
    "df = pd.DataFrame({'A': [1, 2, 3], 'B': [4, 5, 6]})\n",
    "\n",
    "# Applying a sum function column-wise\n",
    "result_dataframe = df.apply(sum, axis=0)\n",
    "result_dataframe"
   ]
  },
  {
   "cell_type": "code",
   "execution_count": 17,
   "metadata": {},
   "outputs": [
    {
     "data": {
      "text/plain": [
       "0    5\n",
       "1    7\n",
       "2    9\n",
       "dtype: int64"
      ]
     },
     "execution_count": 17,
     "metadata": {},
     "output_type": "execute_result"
    }
   ],
   "source": [
    "#### Example 3: Applying a Function to Each Row in a DataFrame\n",
    "\n",
    "# Creating a DataFrame\n",
    "df = pd.DataFrame({'A': [1, 2, 3], 'B': [4, 5, 6]})\n",
    "\n",
    "# Applying a sum function row-wise\n",
    "result_dataframe = df.apply(sum, axis=1)\n",
    "result_dataframe"
   ]
  },
  {
   "cell_type": "markdown",
   "metadata": {},
   "source": [
    "In these examples, the `apply` function is used to perform operations on each element in a Series or each row/column in a DataFrame. The flexibility of `apply` makes it a versatile tool for various data manipulation tasks in Pandas."
   ]
  },
  {
   "cell_type": "markdown",
   "metadata": {},
   "source": [
    "### `5.Explain the concept of Pivot Tables in pandas`"
   ]
  },
  {
   "cell_type": "markdown",
   "metadata": {},
   "source": [
    "In Pandas, a pivot table is a data summarization tool that allows you to reshape and analyze your data by aggregating and restructuring it. Pivot tables provide a way to rearrange, reshape, and aggregate data in a DataFrame to gain insights and perform complex analyses more efficiently. The concept is inspired by Excel's pivot table functionality.\n",
    "\n",
    "### Key Concepts of Pivot Tables:\n",
    "\n",
    "1. **Rows and Columns:**\n",
    "   - In a pivot table, you specify which columns of the original DataFrame should become the new index (rows) and which columns should become the new columns.\n",
    "\n",
    "2. **Values:**\n",
    "   - You specify which columns of the original DataFrame should be used as values in the new table. These values are then aggregated based on the specified rows and columns.\n",
    "\n",
    "3. **Aggregation Function:**\n",
    "   - You can specify an aggregation function to apply to the values. Common aggregation functions include sum, mean, count, max, min, etc.\n",
    "\n",
    "### How to Create a Pivot Table:\n",
    "\n",
    "- **`df`:** The original DataFrame.\n",
    "- **`values`:** The column to aggregate (can be a list if you want to aggregate multiple columns).\n",
    "- **`index`:** The column(s) to become the new index.\n",
    "- **`columns`:** The column(s) to become the new columns.\n",
    "- **`aggfunc`:** The aggregation function to apply to the values.\n",
    "\n",
    "### Example:\n",
    "\n",
    "\n",
    "\n"
   ]
  },
  {
   "cell_type": "code",
   "execution_count": 23,
   "metadata": {},
   "outputs": [
    {
     "name": "stdout",
     "output_type": "stream",
     "text": [
      "         Date         City  Temperature  Humidity\n",
      "0  2022-01-01     New York           32        80\n",
      "1  2022-01-01  Los Angeles           75        10\n",
      "2  2022-01-02     New York           30        85\n",
      "3  2022-01-02  Los Angeles           78        12\n",
      "-----------------------------------------------------------------------------\n",
      "City        Los Angeles  New York\n",
      "Date                             \n",
      "2022-01-01           75        32\n",
      "2022-01-02           78        30\n"
     ]
    }
   ],
   "source": [
    "import pandas as pd\n",
    "\n",
    "# Creating a sample DataFrame\n",
    "data = {'Date': ['2022-01-01', '2022-01-01', '2022-01-02', '2022-01-02'],\n",
    "        'City': ['New York', 'Los Angeles', 'New York', 'Los Angeles'],\n",
    "        'Temperature': [32, 75, 30, 78],\n",
    "        'Humidity': [80, 10, 85, 12]}\n",
    "\n",
    "df = pd.DataFrame(data)\n",
    "print(df)\n",
    "\n",
    "print('-----------------------------------------------------------------------------')\n",
    "\n",
    "# Creating a pivot table to show average temperature for each city on each date\n",
    "pivot_table = pd.pivot_table(df, values='Temperature', index='Date', columns='City', aggfunc='mean')\n",
    "\n",
    "print(pivot_table)"
   ]
  },
  {
   "cell_type": "markdown",
   "metadata": {},
   "source": [
    "In this example, the pivot table calculates the average temperature for each city on each date. The resulting table will have dates as rows, cities as columns, and the average temperature as values.\n",
    "\n",
    "Pivot tables are particularly useful for exploring and summarizing data with multiple dimensions, making complex data analysis tasks more accessible and efficient. They allow you to quickly gain insights into your data's patterns and relationships."
   ]
  }
 ],
 "metadata": {
  "kernelspec": {
   "display_name": "base",
   "language": "python",
   "name": "python3"
  },
  "language_info": {
   "codemirror_mode": {
    "name": "ipython",
    "version": 3
   },
   "file_extension": ".py",
   "mimetype": "text/x-python",
   "name": "python",
   "nbconvert_exporter": "python",
   "pygments_lexer": "ipython3",
   "version": "3.9.18"
  }
 },
 "nbformat": 4,
 "nbformat_minor": 2
}
