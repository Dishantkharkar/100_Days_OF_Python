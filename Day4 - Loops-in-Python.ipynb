{
 "cells": [
  {
   "cell_type": "markdown",
   "id": "9695c91f",
   "metadata": {},
   "source": [
    "# Loops In Python\n",
    "* In Python, loops are used to execute a block of code repeatedly\n",
    "* There are two main types of loops in Python:\n",
    "### 1. 'For' loops\n",
    "### 2. 'While' loops\n",
    "### 3. Loops Controls Statement"
   ]
  },
  {
   "cell_type": "markdown",
   "id": "0d719881",
   "metadata": {},
   "source": [
    "#### What is the use of Loops?why we used that??   (interview Question)\n",
    "Answer: \n",
    "* Loops in Python are used to execute a block of code repeatedly. \n",
    "* They are essential for automating repetitive tasks, processing collections of data (e.g., lists or strings), and iterating through sequences or until a specific condition is met. \n",
    "* for loops are commonly used for iteration, while while loops are used when you need to repeat code based on a condition. \n",
    "* Loop control statements like break and continue provide flexibility in managing loop execution, making Python a powerful language for tasks that involve repetition and iteration."
   ]
  },
  {
   "cell_type": "markdown",
   "id": "2d8813c3",
   "metadata": {},
   "source": [
    "## 1. For loops\n",
    "* A 'for loop' is used to iterate over a sequence (such as a list, tuple, string, or range) and execute a block of code for each item in the sequence."
   ]
  },
  {
   "cell_type": "code",
   "execution_count": 2,
   "id": "724d856b",
   "metadata": {},
   "outputs": [
    {
     "name": "stdout",
     "output_type": "stream",
     "text": [
      "1\n",
      "2\n",
      "3\n",
      "4\n",
      "5\n",
      "6\n",
      "7\n",
      "8\n",
      "9\n",
      "10\n"
     ]
    }
   ],
   "source": [
    "# if we have to print 1 to 10 number then we use fo loop\n",
    "\n",
    "for i in range(1,11):   # in for loop we have to sepcify the range or also mention datatype also\n",
    "    print(i)"
   ]
  },
  {
   "cell_type": "code",
   "execution_count": 4,
   "id": "3b5467be",
   "metadata": {},
   "outputs": [
    {
     "name": "stdout",
     "output_type": "stream",
     "text": [
      "1\n",
      "2\n",
      "3\n",
      "4\n",
      "5\n",
      "6\n",
      "7\n",
      "8\n"
     ]
    }
   ],
   "source": [
    "# for loop for datatype like tuple\n",
    "\n",
    "for i in (1,2,3,4,5,6,7,8):\n",
    "    print(i)\n",
    "    \n",
    "# for loop is very very flexible and powerful in python it used with all datatypes present in python"
   ]
  },
  {
   "cell_type": "code",
   "execution_count": 7,
   "id": "e54e690e",
   "metadata": {},
   "outputs": [
    {
     "name": "stdout",
     "output_type": "stream",
     "text": [
      "1\n",
      "3\n",
      "5\n",
      "7\n",
      "9\n",
      "11\n",
      "13\n",
      "15\n",
      "17\n",
      "19\n"
     ]
    }
   ],
   "source": [
    "# how to print 1 to 20 with differnce of 2\n",
    "\n",
    "for i in range(1,21,2): # 2 is the \n",
    "    print(i)"
   ]
  },
  {
   "cell_type": "markdown",
   "id": "b8353bff",
   "metadata": {},
   "source": [
    "* The 2 inside the range() function is called the \"step\" or \"stride.\" It determines the increment between each consecutive value in the range. In this case, the loop will iterate over the numbers from 1 to 20, with a step of 2.\n",
    "\n",
    "* So, the loop will print the following numbers: 1, 3, 5, 7, 9, 11, 13, 15, 17, and 19. The loop starts at 1, increments by 2 in each iteration, and stops before reaching or exceeding 21."
   ]
  },
  {
   "cell_type": "code",
   "execution_count": 8,
   "id": "b630e1a5",
   "metadata": {},
   "outputs": [
    {
     "name": "stdout",
     "output_type": "stream",
     "text": [
      "10\n",
      "9\n",
      "8\n",
      "7\n",
      "6\n",
      "5\n",
      "4\n",
      "3\n",
      "2\n",
      "1\n"
     ]
    }
   ],
   "source": [
    "# how to print 10 to 1 in reverse order\n",
    "\n",
    "for i in range(10,0,-1):\n",
    "    print(i)"
   ]
  },
  {
   "cell_type": "markdown",
   "id": "e47c6e6f",
   "metadata": {},
   "source": [
    "### Program - The current population of a town is 10000. The population of the town is increasing at the rate of 10% per year. You have to write a program to find out the population at the end of each of the last 10 years."
   ]
  },
  {
   "cell_type": "code",
   "execution_count": 12,
   "id": "7f929bf9",
   "metadata": {},
   "outputs": [
    {
     "name": "stdout",
     "output_type": "stream",
     "text": [
      "10 10000\n",
      "9 9090.90909090909\n",
      "8 8264.462809917353\n",
      "7 7513.148009015775\n",
      "6 6830.134553650703\n",
      "5 6209.213230591548\n",
      "4 5644.739300537771\n",
      "3 5131.5811823070635\n",
      "2 4665.07380209733\n",
      "1 4240.976183724845\n"
     ]
    }
   ],
   "source": [
    "# for this we use for loop\n",
    "curr_pop = 10000\n",
    "for i in range(10,0,-1):\n",
    "    print(i,curr_pop)\n",
    "    curr_pop /= 1.1\n",
    "    "
   ]
  },
  {
   "cell_type": "markdown",
   "id": "8683d958",
   "metadata": {},
   "source": [
    "# 2. While Loop\n",
    "* A while loop is used to repeatedly execute a block of code as long as a certain condition is true."
   ]
  },
  {
   "cell_type": "code",
   "execution_count": 14,
   "id": "5879911c",
   "metadata": {},
   "outputs": [
    {
     "name": "stdout",
     "output_type": "stream",
     "text": [
      "1\n",
      "2\n",
      "3\n",
      "4\n",
      "5\n"
     ]
    }
   ],
   "source": [
    "# if we want to print 1 to 5 with the help of while\n",
    "count = 1\n",
    "while count <= 5:\n",
    "    print(count)\n",
    "    count += 1"
   ]
  },
  {
   "cell_type": "code",
   "execution_count": 16,
   "id": "5d66e531",
   "metadata": {},
   "outputs": [
    {
     "name": "stdout",
     "output_type": "stream",
     "text": [
      "Enter the Number12\n",
      "12\n",
      "24\n",
      "36\n",
      "48\n",
      "60\n",
      "72\n",
      "84\n",
      "96\n",
      "108\n",
      "120\n"
     ]
    }
   ],
   "source": [
    "# Program ->print 12 table\n",
    "\n",
    "num = int(input('Enter the Number'))\n",
    "\n",
    "i = 1\n",
    "\n",
    "while i<11:\n",
    "    print(num * i)\n",
    "    i+=1"
   ]
  },
  {
   "cell_type": "markdown",
   "id": "4e482f44",
   "metadata": {},
   "source": [
    "# 3. Loop Control Statements:\n",
    "\n",
    "In addition to basic loops, Python provides loop control statements that allow you to customize loop behavior:\n",
    "* 'break': Used to exit the loop prematurely based on a certain condition.\n",
    "* 'continue': Skips the current iteration of the loop and proceeds to the next iteration.\n",
    "* 'else' clause: Can be used with a for or while loop to specify a block of code that will be executed after the loop has finished normally (i.e., without hitting a break statement)."
   ]
  },
  {
   "cell_type": "markdown",
   "id": "975bd6f6",
   "metadata": {},
   "source": [
    "### while loop with else"
   ]
  },
  {
   "cell_type": "code",
   "execution_count": 17,
   "id": "7339ee83",
   "metadata": {},
   "outputs": [
    {
     "name": "stdout",
     "output_type": "stream",
     "text": [
      "1\n",
      "2\n",
      "limit Crossed\n"
     ]
    }
   ],
   "source": [
    "x = 1\n",
    "\n",
    "while x < 3:\n",
    "    print(x)\n",
    "    x += 1\n",
    "    \n",
    "else:\n",
    "    print('limit Crossed')"
   ]
  },
  {
   "cell_type": "markdown",
   "id": "a715798e",
   "metadata": {},
   "source": [
    "## Break and Continue "
   ]
  },
  {
   "cell_type": "code",
   "execution_count": 20,
   "id": "4ea76650",
   "metadata": {},
   "outputs": [
    {
     "name": "stdout",
     "output_type": "stream",
     "text": [
      "1\n",
      "2\n",
      "3\n",
      "4\n",
      "5\n",
      "Loop ended\n"
     ]
    }
   ],
   "source": [
    "# Using break\n",
    "\n",
    "numbers = [1, 2, 3, 4, 5, 6, 7, 8, 9, 10]\n",
    "\n",
    "for num in numbers:\n",
    "    if num == 6:\n",
    "        break  # Exit the loop when num equals 6\n",
    "    print(num)\n",
    "\n",
    "print(\"Loop ended\")"
   ]
  },
  {
   "cell_type": "markdown",
   "id": "681f9979",
   "metadata": {},
   "source": [
    "In this example, the loop will print numbers 1 through 5 and then exit the loop when num becomes 6 due to the break statement. The \"Loop ended\" message will be printed after the loop finishes."
   ]
  },
  {
   "cell_type": "code",
   "execution_count": 21,
   "id": "2808af92",
   "metadata": {},
   "outputs": [
    {
     "name": "stdout",
     "output_type": "stream",
     "text": [
      "1\n",
      "2\n",
      "4\n",
      "5\n",
      "Loop ended\n"
     ]
    }
   ],
   "source": [
    "# Using continue\n",
    "\n",
    "numbers = [1, 2, 3, 4, 5]\n",
    "\n",
    "for num in numbers:\n",
    "    if num == 3:\n",
    "        continue  # Skip printing 3 and continue with the next iteration\n",
    "    print(num)\n",
    "\n",
    "print(\"Loop ended\")\n"
   ]
  },
  {
   "cell_type": "markdown",
   "id": "380ef821",
   "metadata": {},
   "source": [
    "In this example, when num equals 3, the continue statement is encountered, which skips the printing of 3 and moves on to the next iteration. As a result, the loop will print numbers 1, 2, 4, and 5. The \"Loop ended\" message will be printed after the loop finishes."
   ]
  },
  {
   "cell_type": "code",
   "execution_count": 23,
   "id": "0c892a25",
   "metadata": {},
   "outputs": [
    {
     "name": "stdout",
     "output_type": "stream",
     "text": [
      "1\n",
      "2\n",
      "4\n",
      "Loop finished normally\n"
     ]
    }
   ],
   "source": [
    "# Using Continue and Break\n",
    "numbers = [1, 2, 3, 4, 5]\n",
    "\n",
    "for num in numbers:\n",
    "    if num == 3:\n",
    "        continue  # Skip printing 3\n",
    "    elif num == 5:\n",
    "        break     # Exit the loop when 5 is encountered\n",
    "    print(num)\n",
    "\n",
    "print(\"Loop finished normally\")\n"
   ]
  }
 ],
 "metadata": {
  "kernelspec": {
   "display_name": "Python 3 (ipykernel)",
   "language": "python",
   "name": "python3"
  },
  "language_info": {
   "codemirror_mode": {
    "name": "ipython",
    "version": 3
   },
   "file_extension": ".py",
   "mimetype": "text/x-python",
   "name": "python",
   "nbconvert_exporter": "python",
   "pygments_lexer": "ipython3",
   "version": "3.9.13"
  }
 },
 "nbformat": 4,
 "nbformat_minor": 5
}
