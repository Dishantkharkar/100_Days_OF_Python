{
 "cells": [
  {
   "cell_type": "markdown",
   "id": "27f6bb94",
   "metadata": {},
   "source": [
    "# Python Output"
   ]
  },
  {
   "cell_type": "code",
   "execution_count": 1,
   "id": "d57a110a",
   "metadata": {},
   "outputs": [
    {
     "name": "stdout",
     "output_type": "stream",
     "text": [
      "Hello World\n"
     ]
    }
   ],
   "source": [
    "# Python is case sensitive\n",
    "print('Hello World')"
   ]
  },
  {
   "cell_type": "code",
   "execution_count": 2,
   "id": "8754ffd0",
   "metadata": {
    "collapsed": true
   },
   "outputs": [
    {
     "ename": "NameError",
     "evalue": "name 'hey' is not defined",
     "output_type": "error",
     "traceback": [
      "\u001b[1;31m---------------------------------------------------------------------------\u001b[0m",
      "\u001b[1;31mNameError\u001b[0m                                 Traceback (most recent call last)",
      "\u001b[1;32m~\\AppData\\Local\\Temp\\ipykernel_15336\\165467615.py\u001b[0m in \u001b[0;36m<module>\u001b[1;34m\u001b[0m\n\u001b[1;32m----> 1\u001b[1;33m \u001b[0mprint\u001b[0m\u001b[1;33m(\u001b[0m\u001b[0mhey\u001b[0m\u001b[1;33m)\u001b[0m\u001b[1;33m\u001b[0m\u001b[1;33m\u001b[0m\u001b[0m\n\u001b[0m",
      "\u001b[1;31mNameError\u001b[0m: name 'hey' is not defined"
     ]
    }
   ],
   "source": [
    "print(hey) # it throws error beacuse only string always in \" \""
   ]
  },
  {
   "cell_type": "code",
   "execution_count": 3,
   "id": "24c94382",
   "metadata": {},
   "outputs": [
    {
     "name": "stdout",
     "output_type": "stream",
     "text": [
      "7\n"
     ]
    }
   ],
   "source": [
    "print(7) "
   ]
  },
  {
   "cell_type": "code",
   "execution_count": 4,
   "id": "5f6dad4b",
   "metadata": {},
   "outputs": [
    {
     "name": "stdout",
     "output_type": "stream",
     "text": [
      "True\n"
     ]
    }
   ],
   "source": [
    "print(True)"
   ]
  },
  {
   "cell_type": "code",
   "execution_count": 5,
   "id": "3eb85c33",
   "metadata": {},
   "outputs": [
    {
     "name": "stdout",
     "output_type": "stream",
     "text": [
      "Hello 3 4 5 True\n"
     ]
    }
   ],
   "source": [
    "# how print function strng in python -- it print all the values which we want to print with space\n",
    "print('Hello',3,4,5,True)"
   ]
  },
  {
   "cell_type": "code",
   "execution_count": 8,
   "id": "b49201a4",
   "metadata": {},
   "outputs": [
    {
     "name": "stdout",
     "output_type": "stream",
     "text": [
      "Hello/3/4/5/True\n"
     ]
    }
   ],
   "source": [
    "# sep\n",
    "print('Hello',3,4,5,True,sep='/') # sep is separator where in print function space is given b sep function"
   ]
  },
  {
   "cell_type": "code",
   "execution_count": 11,
   "id": "e103c562",
   "metadata": {},
   "outputs": [
    {
     "name": "stdout",
     "output_type": "stream",
     "text": [
      "hello\n",
      "world\n"
     ]
    }
   ],
   "source": [
    "print('hello')\n",
    "print('world')"
   ]
  },
  {
   "cell_type": "code",
   "execution_count": 14,
   "id": "9821e303",
   "metadata": {},
   "outputs": [
    {
     "name": "stdout",
     "output_type": "stream",
     "text": [
      "you=me\n"
     ]
    }
   ],
   "source": [
    "# end\n",
    "print('you',end=\"=\")\n",
    "print ('me')"
   ]
  },
  {
   "cell_type": "markdown",
   "id": "f5f5a11b",
   "metadata": {},
   "source": [
    "# Data Types"
   ]
  },
  {
   "cell_type": "markdown",
   "id": "78009ca8",
   "metadata": {},
   "source": [
    "## 1. Integers"
   ]
  },
  {
   "cell_type": "code",
   "execution_count": 15,
   "id": "9c6d6a1e",
   "metadata": {},
   "outputs": [
    {
     "name": "stdout",
     "output_type": "stream",
     "text": [
      "8\n"
     ]
    }
   ],
   "source": [
    "print(8)"
   ]
  },
  {
   "cell_type": "markdown",
   "id": "5af9c0e1",
   "metadata": {},
   "source": [
    "## 2. Float (Decimal)"
   ]
  },
  {
   "cell_type": "code",
   "execution_count": 16,
   "id": "45e1e84c",
   "metadata": {},
   "outputs": [
    {
     "name": "stdout",
     "output_type": "stream",
     "text": [
      "8.44\n"
     ]
    }
   ],
   "source": [
    "print(8.44)"
   ]
  },
  {
   "cell_type": "markdown",
   "id": "39f75b0e",
   "metadata": {},
   "source": [
    "## 3. Boolean"
   ]
  },
  {
   "cell_type": "code",
   "execution_count": 17,
   "id": "2bbb3a5d",
   "metadata": {},
   "outputs": [
    {
     "name": "stdout",
     "output_type": "stream",
     "text": [
      "True\n",
      "False\n"
     ]
    }
   ],
   "source": [
    "print(True)\n",
    "print(False)"
   ]
  },
  {
   "cell_type": "markdown",
   "id": "d194ac74",
   "metadata": {},
   "source": [
    "## 4. String (Text)"
   ]
  },
  {
   "cell_type": "code",
   "execution_count": 18,
   "id": "1efa036a",
   "metadata": {},
   "outputs": [
    {
     "name": "stdout",
     "output_type": "stream",
     "text": [
      "Hello gem\n"
     ]
    }
   ],
   "source": [
    "print('Hello gem')"
   ]
  },
  {
   "cell_type": "markdown",
   "id": "64ccdb9b",
   "metadata": {},
   "source": [
    "## 5. Complex"
   ]
  },
  {
   "cell_type": "code",
   "execution_count": 19,
   "id": "c433968f",
   "metadata": {},
   "outputs": [
    {
     "name": "stdout",
     "output_type": "stream",
     "text": [
      "(5+6j)\n"
     ]
    }
   ],
   "source": [
    "print(5+6j)"
   ]
  },
  {
   "cell_type": "code",
   "execution_count": null,
   "id": "785bcc25",
   "metadata": {},
   "outputs": [],
   "source": []
  }
 ],
 "metadata": {
  "kernelspec": {
   "display_name": "Python 3 (ipykernel)",
   "language": "python",
   "name": "python3"
  },
  "language_info": {
   "codemirror_mode": {
    "name": "ipython",
    "version": 3
   },
   "file_extension": ".py",
   "mimetype": "text/x-python",
   "name": "python",
   "nbconvert_exporter": "python",
   "pygments_lexer": "ipython3",
   "version": "3.9.13"
  }
 },
 "nbformat": 4,
 "nbformat_minor": 5
}
