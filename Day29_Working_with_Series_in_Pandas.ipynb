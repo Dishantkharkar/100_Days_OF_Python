{
  "cells": [
    {
      "cell_type": "markdown",
      "metadata": {
        "id": "-7hueTpdO-Yh"
      },
      "source": [
        "# **Working with Series in Pandas: Cricket and Bollywood Datasets**"
      ]
    },
    {
      "cell_type": "markdown",
      "metadata": {
        "id": "L5_OkcxPO-Yl"
      },
      "source": [
        "### **Importing Libraries:**\n",
        "   - The code starts by importing the necessary Python libraries, including pandas (as 'pd') and NumPy (as 'np')."
      ]
    },
    {
      "cell_type": "code",
      "execution_count": 1,
      "metadata": {
        "id": "s3S-hKcUBd9a"
      },
      "outputs": [],
      "source": [
        "import pandas as pd\n",
        "import numpy as np"
      ]
    },
    {
      "cell_type": "code",
      "source": [
        "import warnings\n",
        "warnings.filterwarnings(\"ignore\")"
      ],
      "metadata": {
        "id": "7UKbZt-VPHvz"
      },
      "execution_count": 2,
      "outputs": []
    },
    {
      "cell_type": "markdown",
      "metadata": {
        "id": "HnLY1zUXO-Yo"
      },
      "source": [
        "### **Reading a CSV File with Pandas:**\n",
        "   - The code uses the `pd.read_csv()` function to read a CSV file located at '/content/kohli_ipl.csv'. It sets the 'match_no' column as the index and uses the `squeeze=True` parameter to read the data as a pandas Series."
      ]
    },
    {
      "cell_type": "code",
      "execution_count": 3,
      "metadata": {
        "colab": {
          "base_uri": "https://localhost:8080/"
        },
        "id": "-O65hDPvBo2K",
        "outputId": "72648353-35b6-47ac-b41e-f157299a0a57"
      },
      "outputs": [
        {
          "output_type": "execute_result",
          "data": {
            "text/plain": [
              "match_no\n",
              "1       1\n",
              "2      23\n",
              "3      13\n",
              "4      12\n",
              "5       1\n",
              "       ..\n",
              "211     0\n",
              "212    20\n",
              "213    73\n",
              "214    25\n",
              "215     7\n",
              "Name: runs, Length: 215, dtype: int64"
            ]
          },
          "metadata": {},
          "execution_count": 3
        }
      ],
      "source": [
        "vk = pd.read_csv('/content/kohli_ipl.csv',index_col='match_no',squeeze=True)\n",
        "vk"
      ]
    },
    {
      "cell_type": "markdown",
      "metadata": {
        "id": "JTxMV8PLO-Yp"
      },
      "source": [
        "**Displaying the 'vk' Series:**\n",
        "   - The code then displays the 'vk' Series, which represents data related to cricket matches with the match number as the index and the number of runs scored by a player."
      ]
    },
    {
      "cell_type": "markdown",
      "metadata": {
        "id": "1fWzKaRIO-Yp"
      },
      "source": [
        "### **Reading Another CSV File:**\n",
        "   - The code reads another CSV file located at '/content/bollywood.csv' and assigns it to the 'movies' Series. It sets the 'movie' column as the index."
      ]
    },
    {
      "cell_type": "code",
      "execution_count": 4,
      "metadata": {
        "colab": {
          "base_uri": "https://localhost:8080/"
        },
        "id": "Cu_Ru17SI1aR",
        "outputId": "21d1f666-8b31-4fa1-a77c-23f7123c5455"
      },
      "outputs": [
        {
          "output_type": "execute_result",
          "data": {
            "text/plain": [
              "movie\n",
              "Uri: The Surgical Strike                   Vicky Kaushal\n",
              "Battalion 609                                Vicky Ahuja\n",
              "The Accidental Prime Minister (film)         Anupam Kher\n",
              "Why Cheat India                            Emraan Hashmi\n",
              "Evening Shadows                         Mona Ambegaonkar\n",
              "                                              ...       \n",
              "Hum Tumhare Hain Sanam                    Shah Rukh Khan\n",
              "Aankhen (2002 film)                     Amitabh Bachchan\n",
              "Saathiya (film)                             Vivek Oberoi\n",
              "Company (film)                                Ajay Devgn\n",
              "Awara Paagal Deewana                        Akshay Kumar\n",
              "Name: lead, Length: 1500, dtype: object"
            ]
          },
          "metadata": {},
          "execution_count": 4
        }
      ],
      "source": [
        "movies = pd.read_csv('/content/bollywood.csv',index_col='movie',squeeze=True)\n",
        "movies"
      ]
    },
    {
      "cell_type": "markdown",
      "metadata": {
        "id": "9nLs8bosO-Yq"
      },
      "source": [
        "**Displaying the 'movies' Series:**\n",
        "   - The 'movies' Series is displayed, containing data related to Bollywood movies with the movie title as the index and the lead actor's name as the data."
      ]
    },
    {
      "cell_type": "markdown",
      "metadata": {
        "id": "E-W2gzmdI405"
      },
      "source": [
        "## **Series methods**"
      ]
    },
    {
      "cell_type": "code",
      "execution_count": 5,
      "metadata": {
        "colab": {
          "base_uri": "https://localhost:8080/"
        },
        "id": "f-Wb_MnhJHEv",
        "outputId": "2c922def-c22e-4207-c535-5dd2ffbde443"
      },
      "outputs": [
        {
          "output_type": "execute_result",
          "data": {
            "text/plain": [
              "match_no\n",
              "1     1\n",
              "2    23\n",
              "3    13\n",
              "4    12\n",
              "5     1\n",
              "Name: runs, dtype: int64"
            ]
          },
          "metadata": {},
          "execution_count": 5
        }
      ],
      "source": [
        "# head and tail\n",
        "\n",
        "# `head()`: Displays the first 5 rows of the 'vk' Series.\n",
        "vk.head()"
      ]
    },
    {
      "cell_type": "code",
      "execution_count": 6,
      "metadata": {
        "colab": {
          "base_uri": "https://localhost:8080/"
        },
        "id": "7_A9GbWSJHJj",
        "outputId": "938fbfb2-64d4-415a-eae2-2f86b14f2f26"
      },
      "outputs": [
        {
          "output_type": "execute_result",
          "data": {
            "text/plain": [
              "match_no\n",
              "1      1\n",
              "2     23\n",
              "3     13\n",
              "4     12\n",
              "5      1\n",
              "6      9\n",
              "7     34\n",
              "8      0\n",
              "9     21\n",
              "10     3\n",
              "Name: runs, dtype: int64"
            ]
          },
          "metadata": {},
          "execution_count": 6
        }
      ],
      "source": [
        "# head(10): Displays the first 10 rows of the 'vk' Series.\n",
        "vk.head(10)"
      ]
    },
    {
      "cell_type": "code",
      "execution_count": 7,
      "metadata": {
        "colab": {
          "base_uri": "https://localhost:8080/"
        },
        "id": "Hg2Wf1BnJTPx",
        "outputId": "7fcfc71b-0c7e-499c-b99f-5c9b60af8666"
      },
      "outputs": [
        {
          "output_type": "execute_result",
          "data": {
            "text/plain": [
              "match_no\n",
              "211     0\n",
              "212    20\n",
              "213    73\n",
              "214    25\n",
              "215     7\n",
              "Name: runs, dtype: int64"
            ]
          },
          "metadata": {},
          "execution_count": 7
        }
      ],
      "source": [
        "# tail -> last 5 rows\n",
        "vk.tail()"
      ]
    },
    {
      "cell_type": "code",
      "execution_count": 8,
      "metadata": {
        "colab": {
          "base_uri": "https://localhost:8080/"
        },
        "id": "KcCX8QzSJcH_",
        "outputId": "3cd30b19-3429-4e79-d62c-6c2628baff92"
      },
      "outputs": [
        {
          "output_type": "execute_result",
          "data": {
            "text/plain": [
              "movie\n",
              "Dhund (2003 film)    Amar Upadhyaya\n",
              "Name: lead, dtype: object"
            ]
          },
          "metadata": {},
          "execution_count": 8
        }
      ],
      "source": [
        "# `sample()`: Retrieves a random sample from the 'movies' Series.\n",
        "movies.sample()"
      ]
    },
    {
      "cell_type": "code",
      "execution_count": 9,
      "metadata": {
        "colab": {
          "base_uri": "https://localhost:8080/"
        },
        "id": "UMXu2xqVJj8J",
        "outputId": "4c866b8a-9be7-4b9a-af49-ca7f210ec14a"
      },
      "outputs": [
        {
          "output_type": "execute_result",
          "data": {
            "text/plain": [
              "movie\n",
              "Halla Bol                     Ajay Devgn\n",
              "Shaadi No. 1                Fardeen Khan\n",
              "Karma Aur Holi            Rati Agnihotri\n",
              "Patiala House (film)        Rishi Kapoor\n",
              "Chaalis Chauraasi       Naseeruddin Shah\n",
              "Name: lead, dtype: object"
            ]
          },
          "metadata": {},
          "execution_count": 9
        }
      ],
      "source": [
        "# `sample(5)`: Retrieves 5 random samples from the 'movies' Series.\n",
        "movies.sample(5)"
      ]
    },
    {
      "cell_type": "code",
      "execution_count": 10,
      "metadata": {
        "colab": {
          "base_uri": "https://localhost:8080/"
        },
        "id": "w1wP5KyRJnhZ",
        "outputId": "ace23d99-ebaa-454c-8fca-95015268206a"
      },
      "outputs": [
        {
          "output_type": "execute_result",
          "data": {
            "text/plain": [
              "Akshay Kumar        48\n",
              "Amitabh Bachchan    45\n",
              "Ajay Devgn          38\n",
              "Salman Khan         31\n",
              "Sanjay Dutt         26\n",
              "                    ..\n",
              "Diganth              1\n",
              "Parveen Kaur         1\n",
              "Seema Azmi           1\n",
              "Akanksha Puri        1\n",
              "Edwin Fernandes      1\n",
              "Name: lead, Length: 566, dtype: int64"
            ]
          },
          "metadata": {},
          "execution_count": 10
        }
      ],
      "source": [
        "# `value_counts()`: Counts the number of occurrences of each lead actor in the 'movies' Series.\n",
        "movies.value_counts()"
      ]
    },
    {
      "cell_type": "code",
      "execution_count": 11,
      "metadata": {
        "colab": {
          "base_uri": "https://localhost:8080/"
        },
        "id": "rZzrVOB-Jpon",
        "outputId": "5aea60f9-536e-4c84-8f56-7065b944d958"
      },
      "outputs": [
        {
          "output_type": "execute_result",
          "data": {
            "text/plain": [
              "match_no\n",
              "87       0\n",
              "211      0\n",
              "207      0\n",
              "206      0\n",
              "91       0\n",
              "      ... \n",
              "164    100\n",
              "120    100\n",
              "123    108\n",
              "126    109\n",
              "128    113\n",
              "Name: runs, Length: 215, dtype: int64"
            ]
          },
          "metadata": {},
          "execution_count": 11
        }
      ],
      "source": [
        "# `sort_values()`: Sorts the 'vk' Series in ascending order.\n",
        "vk.sort_values()"
      ]
    },
    {
      "cell_type": "code",
      "execution_count": 12,
      "metadata": {
        "colab": {
          "base_uri": "https://localhost:8080/"
        },
        "id": "EhoOO4SVJwa5",
        "outputId": "fcc3d59b-63c8-4609-a5dc-eaa6a9490fc7"
      },
      "outputs": [
        {
          "output_type": "execute_result",
          "data": {
            "text/plain": [
              "113"
            ]
          },
          "metadata": {},
          "execution_count": 12
        }
      ],
      "source": [
        "# `sort_values(ascending=False)`: Sorts the 'vk' Series in descending order.\n",
        "vk.sort_values(ascending=False).head(1).values[0]"
      ]
    },
    {
      "cell_type": "code",
      "execution_count": 13,
      "metadata": {
        "colab": {
          "base_uri": "https://localhost:8080/"
        },
        "id": "r4k-bXDMJ0GH",
        "outputId": "8d42726e-94fc-49e6-af37-3bf0a99893f6"
      },
      "outputs": [
        {
          "output_type": "execute_result",
          "data": {
            "text/plain": [
              "match_no\n",
              "128    113\n",
              "126    109\n",
              "123    108\n",
              "164    100\n",
              "120    100\n",
              "      ... \n",
              "93       0\n",
              "211      0\n",
              "130      0\n",
              "8        0\n",
              "135      0\n",
              "Name: runs, Length: 215, dtype: int64"
            ]
          },
          "metadata": {},
          "execution_count": 13
        }
      ],
      "source": [
        "#`sort_index(ascending=False)`: Sorts the 'movies' Series by index in descending order.\n",
        "vk.sort_values(ascending=False)"
      ]
    },
    {
      "cell_type": "code",
      "execution_count": 14,
      "metadata": {
        "colab": {
          "base_uri": "https://localhost:8080/"
        },
        "id": "7blxJLeZJ2BI",
        "outputId": "9135b751-40bc-4df8-9aff-56aac1ba7931"
      },
      "outputs": [
        {
          "output_type": "execute_result",
          "data": {
            "text/plain": [
              "movie\n",
              "Zor Lagaa Ke...Haiya!            Meghan Jadhav\n",
              "Zokkomon                       Darsheel Safary\n",
              "Zindagi Tere Naam           Mithun Chakraborty\n",
              "Zindagi Na Milegi Dobara        Hrithik Roshan\n",
              "Zindagi 50-50                      Veena Malik\n",
              "                                   ...        \n",
              "2 States (2014 film)              Arjun Kapoor\n",
              "1971 (2007 film)                Manoj Bajpayee\n",
              "1920: The Evil Returns             Vicky Ahuja\n",
              "1920: London                     Sharman Joshi\n",
              "1920 (film)                   Rajniesh Duggall\n",
              "Name: lead, Length: 1500, dtype: object"
            ]
          },
          "metadata": {},
          "execution_count": 14
        }
      ],
      "source": [
        "# sort_index\n",
        "movies.sort_index(ascending=False)"
      ]
    },
    {
      "cell_type": "code",
      "execution_count": 15,
      "metadata": {
        "id": "1j2b_c_AJ6bZ"
      },
      "outputs": [],
      "source": [
        "# inplace -> for permanant change\n",
        "movies.sort_index(ascending=False,inplace=True)"
      ]
    },
    {
      "cell_type": "markdown",
      "metadata": {
        "id": "uFFGcG8yO-Yx"
      },
      "source": [
        "**In-Place Sorting:**\n",
        "   - The code shows how to perform in-place sorting by using the `inplace=True` argument with the `sort_index()` method for the 'movies' Series."
      ]
    },
    {
      "cell_type": "code",
      "execution_count": 16,
      "metadata": {
        "colab": {
          "base_uri": "https://localhost:8080/"
        },
        "id": "sVbBdeqHKHxY",
        "outputId": "2abca3d7-96e9-475a-94b6-75c561955adb"
      },
      "outputs": [
        {
          "output_type": "execute_result",
          "data": {
            "text/plain": [
              "movie\n",
              "Zor Lagaa Ke...Haiya!            Meghan Jadhav\n",
              "Zokkomon                       Darsheel Safary\n",
              "Zindagi Tere Naam           Mithun Chakraborty\n",
              "Zindagi Na Milegi Dobara        Hrithik Roshan\n",
              "Zindagi 50-50                      Veena Malik\n",
              "                                   ...        \n",
              "2 States (2014 film)              Arjun Kapoor\n",
              "1971 (2007 film)                Manoj Bajpayee\n",
              "1920: The Evil Returns             Vicky Ahuja\n",
              "1920: London                     Sharman Joshi\n",
              "1920 (film)                   Rajniesh Duggall\n",
              "Name: lead, Length: 1500, dtype: object"
            ]
          },
          "metadata": {},
          "execution_count": 16
        }
      ],
      "source": [
        "movies"
      ]
    },
    {
      "cell_type": "markdown",
      "metadata": {
        "id": "55zHxnRvKJVJ"
      },
      "source": [
        "## **Series Maths Methods**"
      ]
    },
    {
      "cell_type": "code",
      "execution_count": 17,
      "metadata": {
        "colab": {
          "base_uri": "https://localhost:8080/"
        },
        "id": "m3_Yo4wHKP8p",
        "outputId": "666bd201-eb6b-48d5-f614-023beb966e4b"
      },
      "outputs": [
        {
          "output_type": "execute_result",
          "data": {
            "text/plain": [
              "215"
            ]
          },
          "metadata": {},
          "execution_count": 17
        }
      ],
      "source": [
        "# `count()`: Counts the number of non-null elements in the 'vk' Series\n",
        "vk.count()"
      ]
    },
    {
      "cell_type": "code",
      "execution_count": 18,
      "metadata": {
        "colab": {
          "base_uri": "https://localhost:8080/"
        },
        "id": "jfH4gorYKUD_",
        "outputId": "49df29fe-92e8-4f50-b0bd-3832d9d6841f"
      },
      "outputs": [
        {
          "output_type": "execute_result",
          "data": {
            "text/plain": [
              "6634"
            ]
          },
          "metadata": {},
          "execution_count": 18
        }
      ],
      "source": [
        "# `sum()`: Calculates the total runs scored by the player in the 'vk' Series\n",
        "vk.sum()"
      ]
    },
    {
      "cell_type": "code",
      "execution_count": 19,
      "metadata": {
        "colab": {
          "base_uri": "https://localhost:8080/"
        },
        "id": "c34vrk9ZKXeA",
        "outputId": "78ad41b8-614b-43e5-87ec-fc4c9ec29f02"
      },
      "outputs": [
        {
          "output_type": "stream",
          "name": "stdout",
          "text": [
            "30.855813953488372\n",
            "---------\n",
            "24.0\n",
            "---------\n",
            "0    Akshay Kumar\n",
            "Name: lead, dtype: object\n",
            "---------\n",
            "26.22980132830278\n",
            "---------\n",
            "688.0024777222343\n"
          ]
        }
      ],
      "source": [
        "# `mean()`: Calculates the mean (average) value of the 'vk' Series.\n",
        "# `median()`: Calculates the median (middle) value of the 'vk' Series.\n",
        "# `mode()`: Calculates the mode (most frequent value) of the 'vk' Series.'''\n",
        "\n",
        "print(vk.mean())\n",
        "print('---------')\n",
        "print(vk.median())\n",
        "print('---------')\n",
        "print(movies.mode())\n",
        "print('---------')\n",
        "print(vk.std())\n",
        "print('---------')\n",
        "print(vk.var())"
      ]
    },
    {
      "cell_type": "code",
      "execution_count": 20,
      "metadata": {
        "colab": {
          "base_uri": "https://localhost:8080/"
        },
        "id": "cwWHDd36Kg34",
        "outputId": "c9164a9a-7f16-4cd3-9598-0293c2adc534"
      },
      "outputs": [
        {
          "output_type": "execute_result",
          "data": {
            "text/plain": [
              "0"
            ]
          },
          "metadata": {},
          "execution_count": 20
        }
      ],
      "source": [
        "# min/max\n",
        "vk.min()"
      ]
    },
    {
      "cell_type": "code",
      "execution_count": 21,
      "metadata": {
        "colab": {
          "base_uri": "https://localhost:8080/"
        },
        "id": "jFOP89lIKvgo",
        "outputId": "f2e1c371-c637-4f6f-82cd-153ad59a204a"
      },
      "outputs": [
        {
          "output_type": "execute_result",
          "data": {
            "text/plain": [
              "113"
            ]
          },
          "metadata": {},
          "execution_count": 21
        }
      ],
      "source": [
        "vk.max()"
      ]
    },
    {
      "cell_type": "code",
      "execution_count": 22,
      "metadata": {
        "colab": {
          "base_uri": "https://localhost:8080/"
        },
        "id": "67JHOWjHKxEv",
        "outputId": "150fb990-2da0-419d-afb1-9ce1cadea747"
      },
      "outputs": [
        {
          "output_type": "execute_result",
          "data": {
            "text/plain": [
              "count    215.000000\n",
              "mean      30.855814\n",
              "std       26.229801\n",
              "min        0.000000\n",
              "25%        9.000000\n",
              "50%       24.000000\n",
              "75%       48.000000\n",
              "max      113.000000\n",
              "Name: runs, dtype: float64"
            ]
          },
          "metadata": {},
          "execution_count": 22
        }
      ],
      "source": [
        "# `describe()`: Provides summary statistics for the 'vk' Series, including count, mean, standard deviation, min, max, and quartiles.\n",
        "vk.describe()"
      ]
    }
  ],
  "metadata": {
    "colab": {
      "provenance": []
    },
    "kernelspec": {
      "display_name": "Python 3",
      "name": "python3"
    },
    "language_info": {
      "name": "python"
    }
  },
  "nbformat": 4,
  "nbformat_minor": 0
}