{
 "cells": [
  {
   "cell_type": "markdown",
   "metadata": {},
   "source": [
    "# **Dictionary Data Structure based Interview Questions**"
   ]
  },
  {
   "cell_type": "markdown",
   "metadata": {},
   "source": [
    "`1. What is a dictionary in Python?`\n",
    "\n",
    "* A dictionary in Python is an unordered collection of key-value pairs. \n",
    "* It is defined using curly braces '{}', and each key-value pair is separated by a colon ':'. \n",
    "* Dictionaries are **mutable**, and the keys must be unique.\n",
    "\n"
   ]
  },
  {
   "cell_type": "code",
   "execution_count": 1,
   "metadata": {},
   "outputs": [
    {
     "name": "stdout",
     "output_type": "stream",
     "text": [
      "{'name': 'mradul', 'age': 23, 'city': 'indore'}\n"
     ]
    }
   ],
   "source": [
    "#Example of a Dictionary\n",
    "\n",
    "dict1={\"name\": \"mradul\",\"age\": 23,\"city\": \"indore\"}\n",
    "print(dict1)\n",
    " "
   ]
  },
  {
   "cell_type": "markdown",
   "metadata": {},
   "source": [
    "`2.Write a code to create a dictionary using dictionary comprehension?`"
   ]
  },
  {
   "cell_type": "code",
   "execution_count": 3,
   "metadata": {},
   "outputs": [
    {
     "name": "stdout",
     "output_type": "stream",
     "text": [
      "{2: 4, 4: 16, 6: 36}\n"
     ]
    }
   ],
   "source": [
    "dict = {x: x**2 for x in (2, 4, 6)}\n",
    "\n",
    "print(dict)"
   ]
  },
  {
   "cell_type": "markdown",
   "metadata": {},
   "source": [
    "`3.What does .pop() method do in dictionary?`\n",
    "\n",
    "Pop inside dictionary can be used to remove the last item as well as any specific item. While in list the pop was just used to remove the last element."
   ]
  },
  {
   "cell_type": "code",
   "execution_count": 6,
   "metadata": {},
   "outputs": [
    {
     "name": "stdout",
     "output_type": "stream",
     "text": [
      "{'name': 'mradul', 'age': 23, 'city': 'indore'}\n",
      "-----------------\n",
      "{'name': 'mradul', 'age': 23}\n"
     ]
    }
   ],
   "source": [
    "dict1={\"name\": \"mradul\",\"age\": 23,\"city\": \"indore\"}\n",
    "print(dict1)\n",
    "\n",
    "print('-----------------')\n",
    "\n",
    "dict1.pop(\"city\")\n",
    "print(dict1)"
   ]
  },
  {
   "cell_type": "markdown",
   "metadata": {},
   "source": [
    "`4.How do you iterate through both keys and values simultaneously in a dictionary??`"
   ]
  },
  {
   "cell_type": "code",
   "execution_count": 7,
   "metadata": {},
   "outputs": [
    {
     "name": "stdout",
     "output_type": "stream",
     "text": [
      "gallahad the pure\n",
      "robin the brave\n"
     ]
    }
   ],
   "source": [
    "knights = {'gallahad': 'the pure', 'robin': 'the brave'}\n",
    "for k, v in knights.items():\n",
    "    print(k, v)"
   ]
  },
  {
   "cell_type": "markdown",
   "metadata": {},
   "source": [
    "`5.Explain the purpose and usage of the update() method in Python dictionaries. Provide an example to illustrate its functionality.`\n",
    "\n",
    "\n",
    "* The update() method in Python dictionaries is used to merge the key-value pairs of one dictionary into another. It takes either another dictionary or an iterable of key-value pairs as its argument and adds them to the calling dictionary. If a key from the provided dictionary already exists in the calling dictionary, its value will be updated with the new value."
   ]
  },
  {
   "cell_type": "code",
   "execution_count": 8,
   "metadata": {},
   "outputs": [
    {
     "name": "stdout",
     "output_type": "stream",
     "text": [
      "Merged Dictionary: {'a': 1, 'b': 3, 'c': 4}\n"
     ]
    }
   ],
   "source": [
    "# Initial dictionaries\n",
    "dict1 = {'a': 1, 'b': 2}\n",
    "dict2 = {'b': 3, 'c': 4}\n",
    "\n",
    "# Using update() to merge dict2 into dict1\n",
    "dict1.update(dict2)\n",
    "\n",
    "# Displaying the result\n",
    "print(\"Merged Dictionary:\", dict1)"
   ]
  },
  {
   "cell_type": "markdown",
   "metadata": {},
   "source": [
    "In this example, dict2 is merged into dict1 using the update() method. The key 'b' existed in dict1, so its value is updated to 3 with the corresponding value from dict2. The key 'c' is added to dict1 since it did not exist previously."
   ]
  }
 ],
 "metadata": {
  "kernelspec": {
   "display_name": "base",
   "language": "python",
   "name": "python3"
  },
  "language_info": {
   "codemirror_mode": {
    "name": "ipython",
    "version": 3
   },
   "file_extension": ".py",
   "mimetype": "text/x-python",
   "name": "python",
   "nbconvert_exporter": "python",
   "pygments_lexer": "ipython3",
   "version": "3.9.18"
  }
 },
 "nbformat": 4,
 "nbformat_minor": 2
}
