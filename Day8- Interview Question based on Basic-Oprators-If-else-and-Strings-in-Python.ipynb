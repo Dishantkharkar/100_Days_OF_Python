{
 "cells": [
  {
   "cell_type": "markdown",
   "metadata": {},
   "source": [
    "# **Interview Question Based on Basics-Operators-If-else-loops-and-Strings-In-PYTHON**"
   ]
  },
  {
   "cell_type": "markdown",
   "metadata": {},
   "source": [
    "### 1. What is Python? What are the benefits of using Python?\n",
    "* Python is a high-level, interpreted, general-purpose programming language. Being a general-purpose language, it can be used to build almost any type of application with the right tools/libraries. Additionally, python supports objects, modules, threads, exception-handling, and automatic memory management which help in modelling real-world problems and building applications to solve these problems.\n",
    "\n",
    "##### Benefits of using Python:\n",
    "\n",
    "* Python is a general-purpose programming language that has a simple, easy-to-learn syntax that emphasizes readability and therefore reduces the cost of program maintenance. Moreover, the language is capable of scripting, is completely open-source, and supports third-party packages encouraging modularity and code reuse.\n",
    "* Its high-level data structures, combined with dynamic typing and dynamic binding, attract a huge community of developers for Rapid Application Development and deployment."
   ]
  },
  {
   "cell_type": "markdown",
   "metadata": {},
   "source": [
    "### 2. What is Python, and why is it often called a \"high-level\" programming language?\n",
    "\n",
    "* Python is a high-level programming language known for its simplicity and readability. It is called \"high-level\" because it abstracts low-level details and provides a more human-readable syntax, making it easier to write and understand code."
   ]
  },
  {
   "cell_type": "markdown",
   "metadata": {},
   "source": [
    "### 3. What is an **Interpreted language**?\n",
    "* An Interpreted language executes its statements line by line. Languages such as Python, Javascript, R, PHP, and Ruby are prime examples of Interpreted languages. Programs written in an interpreted language runs directly from the source code, with no intermediary compilation step."
   ]
  },
  {
   "cell_type": "markdown",
   "metadata": {},
   "source": [
    "### 4. What is **PEP 8** and why is it important?\n",
    "* PEP stands for Python Enhancement Proposal. A PEP is an official design document providing information to the Python community, or describing a new feature for Python or its processes. PEP 8 is especially important since it documents the style guidelines for Python Code. Apparently contributing to the Python open-source community requires you to follow these style guidelines sincerely and strictly.\n",
    "\n",
    "* Read more - https://realpython.com/python-pep8/#:~:text=PEP%208%2C%20sometimes%20spelled%20PEP8,and%20consistency%20of%20Python%20code."
   ]
  },
  {
   "cell_type": "markdown",
   "metadata": {},
   "source": [
    "### 5. What are the common built-in data types in Python?\n",
    "\n",
    "Python provides several built-in data types to represent different kinds of data. Some of the common built-in data types in Python include:\n",
    "\n",
    "1. **int:** This data type is used to represent integers, both positive and negative whole numbers. For example, `x = 5` or `y = -10`.\n",
    "\n",
    "2. **float:** Floats are used to represent floating-point numbers, which include decimal points. For example, `pi = 3.14159` or `value = 2.5`.\n",
    "\n",
    "3. **str:** Strings are used to represent sequences of characters, such as text. They can be enclosed in single quotes (' '), double quotes (\" \"), or triple quotes for multi-line strings. For example, `name = \"Alice\"` or `sentence = 'Hello, World!'`.\n",
    "\n",
    "4. **bool:** Booleans represent either `True` or `False`. They are used for logical operations and comparisons. For example, `is_true = True` or `is_false = False`.\n",
    "\n",
    "5. **list:** Lists are ordered collections of items. They can contain elements of different data types, and the elements can be changed (mutable). For example, `my_list = [1, 2, 'three', True]`.\n",
    "\n",
    "6. **tuple:** Tuples are similar to lists but are immutable, meaning their elements cannot be changed after creation. They are often used to represent fixed collections of items. For example, `my_tuple = (1, 2, 'three')`.\n",
    "\n",
    "7. **dict (dictionary):** Dictionaries are collections of key-value pairs, where each key is unique. They are used to store and retrieve data using keys. For example, `person = {'name': 'John', 'age': 30}`.\n",
    "\n",
    "8. **set:** Sets are unordered collections of unique elements. They are used for tasks like removing duplicates or checking for membership. For example, `my_set = {1, 2, 3}`.\n",
    "\n",
    "9. **NoneType:** The `None` type represents the absence of a value or a null value. It is often used to indicate that a variable or result has no meaningful value assigned to it.\n",
    "\n",
    "10. **complex:** Complex numbers represent numbers with both real and imaginary parts. They are written as `a + bj`, where `a` is the real part, and `b` is the imaginary part. For example, `z = 3 + 4j`.\n",
    "\n",
    "11. **bytes and bytearray:** These data types are used to represent sequences of bytes, often used for binary data or working with file I/O.\n",
    "\n",
    "12. **range:** The `range` type is used to generate a sequence of numbers, commonly used in for loops and iterations.\n",
    "\n",
    "13. **datetime:** The `datetime` data type is used to represent dates and times and provides functionality for working with dates and times."
   ]
  },
  {
   "cell_type": "markdown",
   "metadata": {},
   "source": [
    "### 6. Explain the difference between '==' and '!=' operators in Python.\n",
    "\n",
    "* '==' is used for equality comparison and returns True if two values are equal.\n",
    "* '!=' is used for inequality comparison and returns True if two values are not equal.\n",
    "\n"
   ]
  },
  {
   "cell_type": "markdown",
   "metadata": {},
   "source": [
    "### 7. Identity operator (is) vs ==?\n",
    "* Here’s the main difference between python “==” vs “is:”\n",
    "\n",
    "* Identity operators: The “is” and “is not” keywords are called identity operators that compare objects based on their identity. Equality operator: The “==” and “!=” are called equality operators that compare the objects based on their values."
   ]
  },
  {
   "cell_type": "markdown",
   "metadata": {},
   "source": [
    "### 8. Modules vs packages vs Library\n",
    "Python uses some terms that you may not be familiar with if you’re coming from a different language. Among these are modules, packages, and libraries.\n",
    "\n",
    "* A **module** is a Python file that’s intended to be imported into scripts or other modules. It often defines members like classes, functions, and variables intended to be used in other files that import it.\n",
    "\n",
    "* A **package** is a collection of related modules that work together to provide certain functionality. These modules are contained within a folder and can be imported just like any other modules. This folder will often contain a special __init__ file that tells Python it’s a package, potentially containing more modules nested within subfolders\n",
    "\n",
    "* A **library** is an umbrella term that loosely means “a bundle of code.” These can have tens or even hundreds of individual modules that can provide a wide range of functionality. Matplotlib is a plotting library. The Python Standard Library contains hundreds of modules for performing common tasks, like sending emails or reading JSON data. What’s special about the Standard Library is that it comes bundled with your installation of Python, so you can use its modules without having to download them from anywhere."
   ]
  },
  {
   "cell_type": "markdown",
   "metadata": {},
   "source": [
    "### 9. How do you use the 'if' statement in Python, and what is the purpose of 'elif' and 'else'?\n",
    "\n",
    "* The 'if' statement is used for conditional execution. 'elif' (short for \"else if\") is used to test multiple conditions, and 'else' is used to specify code that should be executed when the 'if' or 'elif' conditions are not met."
   ]
  },
  {
   "cell_type": "markdown",
   "metadata": {},
   "source": [
    "### 10. What is the purpose of a 'for' loop in Python, and how does it work?\n",
    "\n",
    "* A 'for' loop is used for iterating over a sequence (such as a list, tuple, or string) or other iterable objects. It repeatedly executes a block of code for each item in the sequence."
   ]
  },
  {
   "cell_type": "markdown",
   "metadata": {},
   "source": [
    "### 11. How can you check if a substring exists within a given string in Python?\n",
    "* You can use the 'in' operator to check if a substring exists within a string for example:"
   ]
  },
  {
   "cell_type": "code",
   "execution_count": 1,
   "metadata": {},
   "outputs": [
    {
     "name": "stdout",
     "output_type": "stream",
     "text": [
      "Substring 'is' found\n"
     ]
    }
   ],
   "source": [
    "text = \"Python is great\"\n",
    "if \"is\" in text:\n",
    "    print(\"Substring 'is' found\")\n"
   ]
  }
 ],
 "metadata": {
  "kernelspec": {
   "display_name": "base",
   "language": "python",
   "name": "python3"
  },
  "language_info": {
   "codemirror_mode": {
    "name": "ipython",
    "version": 3
   },
   "file_extension": ".py",
   "mimetype": "text/x-python",
   "name": "python",
   "nbconvert_exporter": "python",
   "pygments_lexer": "ipython3",
   "version": "3.9.18"
  },
  "orig_nbformat": 4
 },
 "nbformat": 4,
 "nbformat_minor": 2
}
