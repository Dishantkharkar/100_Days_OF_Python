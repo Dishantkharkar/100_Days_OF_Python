{
 "cells": [
  {
   "cell_type": "markdown",
   "metadata": {},
   "source": [
    "# **Pandas Questions**"
   ]
  },
  {
   "cell_type": "markdown",
   "metadata": {},
   "source": [
    "### `Que-1: Write a program to create an empty series.`"
   ]
  },
  {
   "cell_type": "code",
   "execution_count": 2,
   "metadata": {},
   "outputs": [
    {
     "name": "stdout",
     "output_type": "stream",
     "text": [
      "Series([], dtype: object)\n"
     ]
    }
   ],
   "source": [
    "import pandas as pd\n",
    "\n",
    "# Creating an empty series\n",
    "empty_series = pd.Series()\n",
    "\n",
    "\n",
    "print(empty_series)\n"
   ]
  },
  {
   "cell_type": "markdown",
   "metadata": {},
   "source": [
    "### `Que-2: Write a Pandas program to add, subtract, multiple and divide two Pandas Series.`"
   ]
  },
  {
   "cell_type": "code",
   "execution_count": 5,
   "metadata": {},
   "outputs": [
    {
     "name": "stdout",
     "output_type": "stream",
     "text": [
      "\n",
      "Addition Result:\n",
      " 0     6\n",
      "1     8\n",
      "2    10\n",
      "3    12\n",
      "dtype: int64\n",
      "Subtraction Result:\n",
      " 0   -4\n",
      "1   -4\n",
      "2   -4\n",
      "3   -4\n",
      "dtype: int64\n",
      "Multiplication Result:\n",
      " 0     5\n",
      "1    12\n",
      "2    21\n",
      "3    32\n",
      "dtype: int64\n",
      "Division Result:\n",
      " 0    0.200000\n",
      "1    0.333333\n",
      "2    0.428571\n",
      "3    0.500000\n",
      "dtype: float64\n"
     ]
    }
   ],
   "source": [
    "# Creating two Pandas Series\n",
    "series1 = pd.Series([1, 2, 3, 4])\n",
    "series2 = pd.Series([5, 6, 7, 8])\n",
    "\n",
    "# Addition\n",
    "addition_result = series1 + series2\n",
    "\n",
    "# Subtraction\n",
    "subtraction_result = series1 - series2\n",
    "\n",
    "# Multiplication\n",
    "multiplication_result = series1 * series2\n",
    "\n",
    "# Division\n",
    "division_result = series1 / series2\n",
    "\n",
    "\n",
    "\n",
    "print(\"\\nAddition Result:\\n\", addition_result)\n",
    "print(\"Subtraction Result:\\n\", subtraction_result)\n",
    "print(\"Multiplication Result:\\n\", multiplication_result)\n",
    "print(\"Division Result:\\n\", division_result)"
   ]
  },
  {
   "cell_type": "markdown",
   "metadata": {},
   "source": [
    "### `Que-3: Write a Pandas program to compare the elements of the two Pandas Series.`\n",
    "Sample Series: [2, 4, 6, 8, 10], [1, 3, 5, 7, 10]"
   ]
  },
  {
   "cell_type": "code",
   "execution_count": 6,
   "metadata": {},
   "outputs": [
    {
     "name": "stdout",
     "output_type": "stream",
     "text": [
      "\n",
      "Elements in Series 1 greater than Series 2:\n",
      " 0     True\n",
      "1     True\n",
      "2     True\n",
      "3     True\n",
      "4    False\n",
      "dtype: bool\n",
      "Elements in Series 1 less than Series 2:\n",
      " 0    False\n",
      "1    False\n",
      "2    False\n",
      "3    False\n",
      "4    False\n",
      "dtype: bool\n",
      "Elements in Series 1 equal to Series 2:\n",
      " 0    False\n",
      "1    False\n",
      "2    False\n",
      "3    False\n",
      "4     True\n",
      "dtype: bool\n"
     ]
    }
   ],
   "source": [
    "# Creating two Pandas Series\n",
    "series1 = pd.Series([2, 4, 6, 8, 10])\n",
    "series2 = pd.Series([1, 3, 5, 7, 10])\n",
    "\n",
    "# Comparing elements\n",
    "comparison_result_greater = series1 > series2\n",
    "comparison_result_less = series1 < series2\n",
    "comparison_result_equal = series1 == series2\n",
    "\n",
    "\n",
    "\n",
    "print(\"\\nElements in Series 1 greater than Series 2:\\n\", comparison_result_greater)\n",
    "print(\"Elements in Series 1 less than Series 2:\\n\", comparison_result_less)\n",
    "print(\"Elements in Series 1 equal to Series 2:\\n\", comparison_result_equal)\n"
   ]
  },
  {
   "cell_type": "markdown",
   "metadata": {},
   "source": [
    "### `Que-4.Write a function to change the data type of given a column or a Series. Function takes series and data type as input, returns the converted series.`\n",
    "\n",
    "```\n",
    "series = pd.Series([1,2,'Python', 2.0, True, 100])\n",
    "change to float type data\n",
    "```\n"
   ]
  },
  {
   "cell_type": "code",
   "execution_count": 7,
   "metadata": {},
   "outputs": [
    {
     "name": "stdout",
     "output_type": "stream",
     "text": [
      "Original Series:\n",
      " 0         1\n",
      "1         2\n",
      "2    Python\n",
      "3       2.0\n",
      "4      True\n",
      "5       100\n",
      "dtype: object\n",
      "\n",
      "Converted Series to <class 'float'> :\n",
      " 0      1.0\n",
      "1      2.0\n",
      "2      NaN\n",
      "3      2.0\n",
      "4      1.0\n",
      "5    100.0\n",
      "dtype: float64\n"
     ]
    }
   ],
   "source": [
    "def convert_to_dtype(series, target_dtype):\n",
    "    # Convert the series to numeric values\n",
    "    numeric_series = pd.to_numeric(series, errors='coerce')\n",
    "    \n",
    "    # Convert the numeric series to the target data type\n",
    "    converted_series = numeric_series.astype(target_dtype)\n",
    "    \n",
    "    return converted_series\n",
    "\n",
    "# Example usage\n",
    "input_series = pd.Series([1, 2, 'Python', 2.0, True, 100])\n",
    "target_data_type = float\n",
    "\n",
    "converted_series = convert_to_dtype(input_series, target_data_type)\n",
    "\n",
    "# Displaying the results\n",
    "print(\"Original Series:\\n\", input_series)\n",
    "print(\"\\nConverted Series to\", target_data_type, \":\\n\", converted_series)\n"
   ]
  }
 ],
 "metadata": {
  "kernelspec": {
   "display_name": "base",
   "language": "python",
   "name": "python3"
  },
  "language_info": {
   "codemirror_mode": {
    "name": "ipython",
    "version": 3
   },
   "file_extension": ".py",
   "mimetype": "text/x-python",
   "name": "python",
   "nbconvert_exporter": "python",
   "pygments_lexer": "ipython3",
   "version": "3.9.18"
  }
 },
 "nbformat": 4,
 "nbformat_minor": 2
}
