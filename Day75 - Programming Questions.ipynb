{
 "cells": [
  {
   "cell_type": "markdown",
   "metadata": {},
   "source": [
    "# **Python Programming Questions**"
   ]
  },
  {
   "cell_type": "markdown",
   "metadata": {},
   "source": [
    "### `Problem-1: Write a Python function that takes a list and returns a new list with unique elements of the first list.`\n",
    "\n",
    "\n",
    "\n",
    "Input:\n",
    "\n",
    "```bash\n",
    "[1,2,3,3,3,3,4,5]\n",
    "```\n",
    "\n",
    "Output:\n",
    "\n",
    "```bash\n",
    "[1, 2, 3, 4, 5]\n",
    "```"
   ]
  },
  {
   "cell_type": "code",
   "execution_count": 1,
   "metadata": {},
   "outputs": [
    {
     "name": "stdout",
     "output_type": "stream",
     "text": [
      "[1, 2, 3, 4, 5]\n"
     ]
    }
   ],
   "source": [
    "def unique_elements(input_list):\n",
    "    # Convert the list to a set to remove duplicates\n",
    "    unique_set = set(input_list)\n",
    "    \n",
    "    # Convert the set back to a list\n",
    "    result_list = list(unique_set)\n",
    "    \n",
    "    return result_list\n",
    "\n",
    "# Example usage\n",
    "input_list = [1, 2, 3, 3, 3, 3, 4, 5]\n",
    "\n",
    "\n",
    "output_list = unique_elements(input_list)\n",
    "print(output_list)\n"
   ]
  },
  {
   "cell_type": "markdown",
   "metadata": {},
   "source": [
    "### `Problem-2: Write a Python function that accepts a hyphen-separated sequence of words as parameter and returns the words in a hyphen-separated sequence after sorting them alphabetically.`\n",
    "\n",
    "\n",
    "\n",
    "Input:\n",
    "```bash\n",
    "green-red-yellow-black-white\n",
    "```\n",
    "\n",
    "Output:\n",
    "```bash\n",
    "black-green-red-white-yellow\n",
    "```"
   ]
  },
  {
   "cell_type": "code",
   "execution_count": 2,
   "metadata": {},
   "outputs": [
    {
     "name": "stdout",
     "output_type": "stream",
     "text": [
      "black-green-red-white-yellow\n"
     ]
    }
   ],
   "source": [
    "def sort_words(input_sequence):\n",
    "    # Split the hyphen-separated sequence into a list of words\n",
    "    words_list = input_sequence.split('-')\n",
    "    \n",
    "    # Sort the list of words alphabetically\n",
    "    sorted_words = sorted(words_list)\n",
    "    \n",
    "    # Join the sorted words into a hyphen-separated sequence\n",
    "    result_sequence = '-'.join(sorted_words)\n",
    "    \n",
    "    return result_sequence\n",
    "\n",
    "# Example \n",
    "input_sequence = \"green-red-yellow-black-white\"\n",
    "output_sequence = sort_words(input_sequence)\n",
    "print(output_sequence)\n"
   ]
  },
  {
   "cell_type": "markdown",
   "metadata": {},
   "source": [
    "### `Problem 3: Write a Python program to print the even numbers from a given list.`\n",
    "\n",
    "```\n",
    "Sample List : [1, 2, 3, 4, 5, 6, 7, 8, 9]\n",
    "Expected Result : [2, 4, 6, 8]\n",
    "```"
   ]
  },
  {
   "cell_type": "code",
   "execution_count": 3,
   "metadata": {},
   "outputs": [
    {
     "name": "stdout",
     "output_type": "stream",
     "text": [
      "[2, 4, 6, 8]\n"
     ]
    }
   ],
   "source": [
    "def print_even_numbers(input_list):\n",
    "    # Use a list comprehension to filter even numbers\n",
    "    even_numbers = [i for i in input_list if i % 2 == 0]\n",
    "    \n",
    "    # Print the result or return the list\n",
    "    print(even_numbers)\n",
    "\n",
    "\n",
    "sample_list = [1, 2, 3, 4, 5, 6, 7, 8, 9]\n",
    "print_even_numbers(sample_list)\n"
   ]
  },
  {
   "cell_type": "markdown",
   "metadata": {},
   "source": [
    "### `Problem-4: Write a Python function to concatenate any no of dictionaries to create a new one.`\n",
    "\n",
    "```\n",
    "Sample Dictionary :\n",
    "dic1={1:10, 2:20}\n",
    "dic2={3:30, 4:40}\n",
    "dic3={5:50,6:60}\n",
    "Expected Result : {1: 10, 2: 20, 3: 30, 4: 40, 5: 50, 6: 60}\n",
    "```"
   ]
  },
  {
   "cell_type": "code",
   "execution_count": 4,
   "metadata": {},
   "outputs": [
    {
     "name": "stdout",
     "output_type": "stream",
     "text": [
      "{1: 10, 2: 20, 3: 30, 4: 40, 5: 50, 6: 60}\n"
     ]
    }
   ],
   "source": [
    "def concatenate_dictionaries(*dict):\n",
    "    # Initialize an empty dictionary to store the result\n",
    "    result_dict = {}\n",
    "    \n",
    "    # Iterate through each dictionary and update the result_dict\n",
    "    for d in dict:\n",
    "        result_dict.update(d)\n",
    "    \n",
    "    return result_dict\n",
    "\n",
    "# Example usage\n",
    "dic1 = {1: 10, 2: 20}\n",
    "dic2 = {3: 30, 4: 40}\n",
    "dic3 = {5: 50, 6: 60}\n",
    "\n",
    "result_dictionary = concatenate_dictionaries(dic1, dic2, dic3)\n",
    "print(result_dictionary)\n"
   ]
  }
 ],
 "metadata": {
  "kernelspec": {
   "display_name": "base",
   "language": "python",
   "name": "python3"
  },
  "language_info": {
   "codemirror_mode": {
    "name": "ipython",
    "version": 3
   },
   "file_extension": ".py",
   "mimetype": "text/x-python",
   "name": "python",
   "nbconvert_exporter": "python",
   "pygments_lexer": "ipython3",
   "version": "3.9.18"
  }
 },
 "nbformat": 4,
 "nbformat_minor": 2
}
