{
 "cells": [
  {
   "cell_type": "markdown",
   "metadata": {},
   "source": [
    "# **Python Dictionaries in One Shot** "
   ]
  },
  {
   "cell_type": "markdown",
   "metadata": {},
   "source": [
    "* A dictionary is a data structure that stores key-value pairs.\n",
    "* To create a dictionary, use curly braces `{}` and separate the key-value pairs by commas.\n",
    "* The keys must be immutable (such as strings, numbers, or tuples) and unique.\n",
    "* The values can be any data type and can be repeated."
   ]
  },
  {
   "cell_type": "code",
   "execution_count": 1,
   "metadata": {},
   "outputs": [
    {
     "name": "stdout",
     "output_type": "stream",
     "text": [
      "{'name': 'Alice', 'age': 25, 'gender': 'female', 'hobbies': ['reading', 'writing', 'coding']}\n"
     ]
    }
   ],
   "source": [
    "# For example, this is a dictionary that stores some information about a person\n",
    "person = {\"name\": \"Alice\", \"age\": 25, \"gender\": \"female\", \"hobbies\": [\"reading\", \"writing\", \"coding\"]}\n",
    "\n",
    "print(person)"
   ]
  },
  {
   "cell_type": "code",
   "execution_count": 2,
   "metadata": {},
   "outputs": [
    {
     "name": "stdout",
     "output_type": "stream",
     "text": [
      "Alice\n"
     ]
    }
   ],
   "source": [
    "# To access the value of a key, use square brackets [] and the key name\n",
    "# For example, this prints the value of the key \"name\"\n",
    "print(person[\"name\"])"
   ]
  },
  {
   "cell_type": "code",
   "execution_count": 3,
   "metadata": {},
   "outputs": [
    {
     "name": "stdout",
     "output_type": "stream",
     "text": [
      "{'name': 'Alice', 'age': 26.369, 'gender': 'female', 'hobbies': ['reading', 'writing', 'coding']}\n"
     ]
    }
   ],
   "source": [
    "# To modify the value of a key, use the assignment operator =\n",
    "# For example, this changes the value of the key \"age\" to 26\n",
    "person[\"age\"] = 26.369\n",
    "\n",
    "print(person)"
   ]
  },
  {
   "cell_type": "code",
   "execution_count": 4,
   "metadata": {},
   "outputs": [
    {
     "name": "stdout",
     "output_type": "stream",
     "text": [
      "{'name': 'Alice', 'age': 26.369, 'gender': 'female', 'hobbies': ['reading', 'writing', 'coding'], 'occupation': 'teacher'}\n"
     ]
    }
   ],
   "source": [
    "# To add a new key-value pair, use the assignment operator = and the new key name\n",
    "# For example, this adds a new key-value pair \"occupation\" and \"teacher\"\n",
    "person[\"occupation\"] = \"teacher\"\n",
    "print(person)"
   ]
  },
  {
   "cell_type": "code",
   "execution_count": 5,
   "metadata": {},
   "outputs": [],
   "source": [
    "# To delete a key-value pair, use the del keyword and the key name\n",
    "# For example, this deletes the key-value pair \"gender\" and \"female\"\n",
    "del person[\"gender\"]"
   ]
  },
  {
   "cell_type": "code",
   "execution_count": 6,
   "metadata": {},
   "outputs": [
    {
     "name": "stdout",
     "output_type": "stream",
     "text": [
      "{'name': 'Alice', 'age': 26.369, 'hobbies': ['reading', 'writing', 'coding'], 'occupation': 'teacher'}\n"
     ]
    }
   ],
   "source": [
    "print(person)"
   ]
  },
  {
   "cell_type": "markdown",
   "metadata": {},
   "source": [
    "## **Properties**"
   ]
  },
  {
   "cell_type": "markdown",
   "metadata": {},
   "source": [
    "Python dictionaries are a versatile and commonly used data structure that allows you to store and retrieve key-value pairs. Here are some key properties and characteristics of Python dictionaries:\n",
    "\n",
    "1. **Mutable**: Dictionaries in Python are mutable, meaning you can modify their content by adding, removing, or updating key-value pairs.\n",
    "\n",
    "2. **Unordered**: The items in a dictionary are not ordered. In Python 3.7 and later versions, the insertion order is preserved, meaning the order in which items are added is maintained when iterating over the dictionary. However, you should not rely on this behavior, as it is not guaranteed in all situations.\n",
    "\n",
    "3. **Key-Value Pairs**: Dictionaries consist of key-value pairs, where each key must be unique. Keys can be of any hashable data type (e.g., strings, numbers, tuples), while values can be of any data type.\n",
    "\n",
    "4. **Dynamic Size**: Dictionaries can dynamically grow or shrink as key-value pairs are added or removed.\n",
    "\n",
    "5. **Accessing Elements by Key**: Items in a dictionary are accessed using their keys rather than indices. This provides fast access to values based on their associated key\n",
    "Python dictionaries are a versatile and commonly used data structure that allows you to store and retrieve key-value pairs. Here are some key properties and characteristics of Python dictionaries:t: John\r\n",
    "   ```\r\n",
    "\r\n",
    "6. **No Duplicate Keys**: Each key in a dictionary must be unique. If you try to add a duplicate key, the existing value associated with that key willhe 'name' key\r\n",
    "   ```\r\n",
    "\r\n",
    "7. **Methods for Manipulation**: Dictionaries come with a variety of built-in methods for common operations such as adding items, removing items, checki' in my_dict)  # Output: True\r\n",
    "   ```\r\n",
    "\r\n",
    "8. **Dictionary Comprehensions**: Like lists, dictionaries support comprehensions ies a powerful tool in Python programming.\n",
    "\n",
    "  "
   ]
  },
  {
   "cell_type": "code",
   "execution_count": 7,
   "metadata": {},
   "outputs": [
    {
     "name": "stdout",
     "output_type": "stream",
     "text": [
      "{0: 0, 1: 1, 2: 4, 3: 9, 4: 16}\n"
     ]
    }
   ],
   "source": [
    "squares = {x: x**2 for x in range(5)}\n",
    "print(squares)"
   ]
  },
  {
   "cell_type": "markdown",
   "metadata": {},
   "source": [
    "## **Python Dictionaries Methods**\n",
    "\n",
    "1. **`clear()`**: Removes all items from the dictionary.\n",
    "\n",
    "2. **`copy()`**: Returns a shallow copy of the dictionary.\n",
    "\n",
    "3. **`get(key, default)`**: Returns the value for the given key. If the key is not present, it returns the default value.\n",
    "\n",
    "4. **`items()`**: Returns a view of the dictionary's key-value pairs as tuples.\n",
    "\n",
    "5. **`keys()`**: Returns a view of the dictionary's keys.\n",
    "\n",
    "6. **`values()`**: Returns a view of the dictionary's values.\n",
    "\n",
    "7. **`pop(key, default)`**: Removes the item with the specified key and returns its value. If the key is not found, it returns the default value or raises a KeyError.\n",
    "\n",
    "8. **`popitem()`**: Removes and returns the last key-value pair as a tuple.\n",
    "\n",
    "9. **`update(iterable)`**: Updates the dictionary with elements from another iterable or dictionary.\n",
    "\n",
    "10. **`setdefault(key, default)`**: Returns the value for the given key. If the key is not present, it sets the key with the default value and returns the default value.\n",
    "\n",
    "11. **`fromkeys(iterable, value)`**: Creates a new dictionary with keys from the iterable and values set to the specified value.\n"
   ]
  },
  {
   "cell_type": "code",
   "execution_count": 8,
   "metadata": {},
   "outputs": [],
   "source": [
    "# 1. clear()\n",
    "my_dict = {'a': 1, 'b': 2, 'c': 3}\n",
    "my_dict.clear()\n",
    "# Result: my_dict is now an empty dictionary\n",
    "\n",
    "# 2. copy()\n",
    "original_dict = {'a': 1, 'b': 2, 'c': 3}\n",
    "copied_dict = original_dict.copy()\n",
    "# Result: copied_dict is a new dictionary with the same key-value pairs\n",
    "\n",
    "# 3. get(key, default)\n",
    "my_dict = {'a': 1, 'b': 2, 'c': 3}\n",
    "value = my_dict.get('a', 0)\n",
    "# Result: value is 1\n",
    "\n",
    "# 4. items()\n",
    "my_dict = {'a': 1, 'b': 2, 'c': 3}\n",
    "items = my_dict.items()\n",
    "# Result: items is a view object of the dictionary's key-value pairs as tuples\n",
    "\n",
    "# 5. keys()\n",
    "my_dict = {'a': 1, 'b': 2, 'c': 3}\n",
    "keys = my_dict.keys()\n",
    "# Result: keys is a view object of the dictionary's keys\n",
    "\n",
    "# 6. values()\n",
    "my_dict = {'a': 1, 'b': 2, 'c': 3}\n",
    "values = my_dict.values()\n",
    "# Result: values is a view object of the dictionary's values\n",
    "\n",
    "# 7. pop(key, default)\n",
    "my_dict = {'a': 1, 'b': 2, 'c': 3}\n",
    "value = my_dict.pop('b', 0)\n",
    "# Result: value is 2, and 'b' is removed from my_dict\n",
    "\n",
    "# 8. popitem()\n",
    "my_dict = {'a': 1, 'b': 2, 'c': 3}\n",
    "key, value = my_dict.popitem()\n",
    "# Result: key and value are the last key-value pair, and it is removed from my_dict\n",
    "\n",
    "# 9. update(iterable)\n",
    "my_dict = {'a': 1, 'b': 2}\n",
    "my_dict.update({'b': 3, 'c': 4})\n",
    "# Result: my_dict is now {'a': 1, 'b': 3, 'c': 4}\n",
    "\n",
    "# 10. setdefault(key, default)\n",
    "my_dict = {'a': 1, 'b': 2}\n",
    "value = my_dict.setdefault('c', 3)\n",
    "# Result: value is 3, and 'c' is added to my_dict with the value 3\n",
    "\n",
    "# 11. fromkeys(iterable, value)\n",
    "keys = ['a', 'b', 'c']\n",
    "value = 0\n",
    "new_dict = dict.fromkeys(keys, value)\n",
    "# Result: new_dict is {'a': 0, 'b': 0, 'c': 0}\n"
   ]
  },
  {
   "cell_type": "markdown",
   "metadata": {},
   "source": [
    "## **Interview Questions**\n",
    "\n",
    "### Question 1:\n",
    "**Question:**\n",
    "Explain what a Python dictionary is and how it differs from a list.\n",
    "\n",
    "**Answer:**\n",
    "A Python dictionary is an unordered collection of key-value pairs. Each key must be unique within the dictionary, and it is associated with a specific value. Dictionaries are defined using curly braces `{}` and can be accessed using keys. Unlike lists, dictionaries are not ordered, and the elements are accessed by their keys rather than indices.\n",
    "\n",
    "---\n",
    "\n",
    "### Question 2:\n",
    "**Question:**\n",
    "How can you check if a key exists in a Python dictionary?\n",
    "\n",
    "**Answer:**\n",
    "You can use the `in` keyword to check if a key exists in a dictionary. For example:"
   ]
  },
  {
   "cell_type": "code",
   "execution_count": 9,
   "metadata": {},
   "outputs": [
    {
     "name": "stdout",
     "output_type": "stream",
     "text": [
      "Key 'b' exists in the dictionary.\n"
     ]
    }
   ],
   "source": [
    "my_dict = {'a': 1, 'b': 2, 'c': 3}\n",
    "if 'b' in my_dict:\n",
    "    print(\"Key 'b' exists in the dictionary.\")"
   ]
  },
  {
   "cell_type": "markdown",
   "metadata": {},
   "source": [
    "### Question 3:\n",
    "**Question:**\n",
    "What is the purpose of the `get` method in dictionaries?\n",
    "\n",
    "**Answer:**\n",
    "The `get` method in dictionaries is used to retrieve the value for a specified key. If the key is not found, it returns a default value instead of raising a `KeyError`. The syntax is `dictionary.get(key, default)`.\n",
    "\n",
    "---\n",
    "\n",
    "### Question 4:\n",
    "**Question:**\n",
    "How can you remove a key-value pair from a dictionary?\n",
    "\n",
    "**Answer:**\n",
    "You can use the `pop` method to remove a key-value pair from a dictionary. For example:"
   ]
  },
  {
   "cell_type": "code",
   "execution_count": 11,
   "metadata": {},
   "outputs": [
    {
     "name": "stdout",
     "output_type": "stream",
     "text": [
      "{'a': 1, 'c': 3}\n"
     ]
    }
   ],
   "source": [
    "my_dict = {'a': 1, 'b': 2, 'c': 3}\n",
    "value = my_dict.pop('b')\n",
    "\n",
    "print(my_dict)"
   ]
  },
  {
   "cell_type": "markdown",
   "metadata": {},
   "source": [
    "### Question 5:\n",
    "**Question:**\n",
    "Explain the difference between `items()`, `keys()`, and `values()` methods in Python dictionaries.\n",
    "\n",
    "**Answer:**\n",
    "- `items()`: Returns a view object that displays a list of dictionary's key-value tuples.\n",
    "- `keys()`: Returns a view object that displays a list of dictionary's keys.\n",
    "- `values()`: Returns a view object that displays a list of dictionary's values.\n",
    "\n",
    "---\n",
    "\n",
    "### Question 6:\n",
    "**Question:**\n",
    "What is the purpose of the `update` method in dictionaries?\n",
    "\n",
    "**Answer:**\n",
    "The `update` method is used to update a dictionary with elements from another dictionary or iterable. It adds key-value pairs from the specified iterable to the dictionary. If a key already exists, its value is updated. The syntax is `dictionary.update(iterable)`.\n",
    "\n",
    "---\n",
    "\n",
    "### Question 7:\n",
    "**Question:**\n",
    "How can you create a new dictionary with specific keys and a default value for all keys?\n",
    "\n",
    "**Answer:**\n",
    "You can use the `fromkeys` method to create a new dictionary with specific keys and a default value. For example:\n"
   ]
  },
  {
   "cell_type": "code",
   "execution_count": 15,
   "metadata": {},
   "outputs": [
    {
     "data": {
      "text/plain": [
       "{'a': 0, 'b': 0, 'c': 0}"
      ]
     },
     "execution_count": 15,
     "metadata": {},
     "output_type": "execute_result"
    }
   ],
   "source": [
    "keys = ['a', 'b', 'c']\n",
    "value = 0\n",
    "new_dict = dict.fromkeys(keys, value)\n",
    "new_dict"
   ]
  },
  {
   "cell_type": "markdown",
   "metadata": {},
   "source": [
    "### Question 8:\n",
    "**Question:**\n",
    "Can a Python dictionary have mutable objects as keys?\n",
    "\n",
    "**Answer:**\n",
    "No, dictionaries in Python require keys to be immutable. This is because dictionaries use the hash values of keys for quick access, and mutable objects can't be hashed.\n",
    "\n",
    "---\n",
    "\n",
    "### Question 9:\n",
    "**Question:**\n",
    "What happens if you try to access a key that does not exist in a dictionary?\n",
    "\n",
    "**Answer:**\n",
    "If you try to access a key that does not exist in a dictionary using square brackets (`[]`), a `KeyError` will be raised. To avoid this, you can use the `get` method, which allows you to specify a default value if the key is not found.\n",
    "\n",
    "---\n",
    "\n",
    "### Question 10:\n",
    "**Question:**\n",
    "How do you sort a dictionary by its keys or values?\n",
    "\n",
    "**Answer:**\n",
    "You can use the `sorted` function along with a lambda function as the `key` parameter to sort a dictionary by either keys or values. For example:\n"
   ]
  },
  {
   "cell_type": "code",
   "execution_count": 19,
   "metadata": {},
   "outputs": [],
   "source": [
    "my_dict = {'b': 2, 'a': 1, 'c': 3}\n",
    "sorted_by_keys = dict(sorted(my_dict.items()))\n",
    "sorted_by_values = dict(sorted(my_dict.items(), key=lambda item: item[1]))"
   ]
  }
 ],
 "metadata": {
  "kernelspec": {
   "display_name": "Python 3 (ipykernel)",
   "language": "python",
   "name": "python3"
  },
  "language_info": {
   "codemirror_mode": {
    "name": "ipython",
    "version": 3
   },
   "file_extension": ".py",
   "mimetype": "text/x-python",
   "name": "python",
   "nbconvert_exporter": "python",
   "pygments_lexer": "ipython3",
   "version": "3.9.18"
  }
 },
 "nbformat": 4,
 "nbformat_minor": 4
}
