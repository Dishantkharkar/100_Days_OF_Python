{
 "cells": [
  {
   "cell_type": "markdown",
   "metadata": {},
   "source": [
    "# **Revision Of GroupBy Object in Pandas: GroupBy Foundation**"
   ]
  },
  {
   "cell_type": "markdown",
   "metadata": {},
   "source": [
    "In pandas, a `GroupBy` object is a crucial part of the data manipulation process, specifically for data aggregation and transformation. It is a result of the `groupby()` method applied to a pandas DataFrame, which allows you to group the data in the DataFrame based on one or more columns.\n",
    "\n",
    "When you apply `groupby()` to a DataFrame, it creates a `GroupBy` object, which acts as a kind of intermediate step before applying aggregation functions or other operations to the grouped data. This intermediate step helps you perform operations on subsets of data based on the grouping criteria. Some common aggregation functions you can apply to a `GroupBy` object include `sum()`, `mean()`, `count()`, `max()`, `min()`, and more.\n",
    "\n",
    "Here's a basic example of how you can create a `GroupBy` object and perform aggregation with it:\n",
    "\n"
   ]
  },
  {
   "cell_type": "code",
   "execution_count": 2,
   "metadata": {},
   "outputs": [],
   "source": [
    "import pandas as pd\n",
    "import numpy as np\n",
    "\n",
    "# Create a sample DataFrame\n",
    "data = {\n",
    "    'Category': ['A', 'B', 'A', 'B', 'A'],\n",
    "    'Value': [10, 20, 15, 25, 30]\n",
    "}\n",
    "\n",
    "df = pd.DataFrame(data)\n",
    "\n",
    "# Group the data by the 'Category' column\n",
    "grouped = df.groupby('Category')\n"
   ]
  },
  {
   "cell_type": "code",
   "execution_count": 3,
   "metadata": {},
   "outputs": [],
   "source": [
    "# Calculate the sum of 'Value' for each group\n",
    "sum_values = grouped['Value'].sum()"
   ]
  },
  {
   "cell_type": "code",
   "execution_count": 4,
   "metadata": {},
   "outputs": [
    {
     "name": "stdout",
     "output_type": "stream",
     "text": [
      "Category\n",
      "A    55\n",
      "B    45\n",
      "Name: Value, dtype: int64\n"
     ]
    }
   ],
   "source": [
    "# Display the result\n",
    "print(sum_values)"
   ]
  },
  {
   "cell_type": "markdown",
   "metadata": {},
   "source": [
    "In this example, we group the DataFrame `df` by the 'Category' column, creating a `GroupBy` object. Then, we calculate the sum of 'Value' for each group using the `sum()` method on the `GroupBy` object, resulting in a new DataFrame or Series with the aggregated values."
   ]
  },
  {
   "cell_type": "markdown",
   "metadata": {},
   "source": [
    "## **Practical Use** "
   ]
  },
  {
   "cell_type": "code",
   "execution_count": 5,
   "metadata": {},
   "outputs": [],
   "source": [
    "movies = pd.read_csv('Data\\Day35\\imdb-top-1000.csv')"
   ]
  },
  {
   "cell_type": "code",
   "execution_count": 7,
   "metadata": {},
   "outputs": [
    {
     "data": {
      "text/html": [
       "<div>\n",
       "<style scoped>\n",
       "    .dataframe tbody tr th:only-of-type {\n",
       "        vertical-align: middle;\n",
       "    }\n",
       "\n",
       "    .dataframe tbody tr th {\n",
       "        vertical-align: top;\n",
       "    }\n",
       "\n",
       "    .dataframe thead th {\n",
       "        text-align: right;\n",
       "    }\n",
       "</style>\n",
       "<table border=\"1\" class=\"dataframe\">\n",
       "  <thead>\n",
       "    <tr style=\"text-align: right;\">\n",
       "      <th></th>\n",
       "      <th>Series_Title</th>\n",
       "      <th>Released_Year</th>\n",
       "      <th>Runtime</th>\n",
       "      <th>Genre</th>\n",
       "      <th>IMDB_Rating</th>\n",
       "      <th>Director</th>\n",
       "      <th>Star1</th>\n",
       "      <th>No_of_Votes</th>\n",
       "      <th>Gross</th>\n",
       "      <th>Metascore</th>\n",
       "    </tr>\n",
       "  </thead>\n",
       "  <tbody>\n",
       "    <tr>\n",
       "      <th>0</th>\n",
       "      <td>The Shawshank Redemption</td>\n",
       "      <td>1994</td>\n",
       "      <td>142</td>\n",
       "      <td>Drama</td>\n",
       "      <td>9.3</td>\n",
       "      <td>Frank Darabont</td>\n",
       "      <td>Tim Robbins</td>\n",
       "      <td>2343110</td>\n",
       "      <td>28341469.0</td>\n",
       "      <td>80.0</td>\n",
       "    </tr>\n",
       "    <tr>\n",
       "      <th>1</th>\n",
       "      <td>The Godfather</td>\n",
       "      <td>1972</td>\n",
       "      <td>175</td>\n",
       "      <td>Crime</td>\n",
       "      <td>9.2</td>\n",
       "      <td>Francis Ford Coppola</td>\n",
       "      <td>Marlon Brando</td>\n",
       "      <td>1620367</td>\n",
       "      <td>134966411.0</td>\n",
       "      <td>100.0</td>\n",
       "    </tr>\n",
       "    <tr>\n",
       "      <th>2</th>\n",
       "      <td>The Dark Knight</td>\n",
       "      <td>2008</td>\n",
       "      <td>152</td>\n",
       "      <td>Action</td>\n",
       "      <td>9.0</td>\n",
       "      <td>Christopher Nolan</td>\n",
       "      <td>Christian Bale</td>\n",
       "      <td>2303232</td>\n",
       "      <td>534858444.0</td>\n",
       "      <td>84.0</td>\n",
       "    </tr>\n",
       "  </tbody>\n",
       "</table>\n",
       "</div>"
      ],
      "text/plain": [
       "               Series_Title Released_Year  Runtime   Genre  IMDB_Rating  \\\n",
       "0  The Shawshank Redemption          1994      142   Drama          9.3   \n",
       "1             The Godfather          1972      175   Crime          9.2   \n",
       "2           The Dark Knight          2008      152  Action          9.0   \n",
       "\n",
       "               Director           Star1  No_of_Votes        Gross  Metascore  \n",
       "0        Frank Darabont     Tim Robbins      2343110   28341469.0       80.0  \n",
       "1  Francis Ford Coppola   Marlon Brando      1620367  134966411.0      100.0  \n",
       "2     Christopher Nolan  Christian Bale      2303232  534858444.0       84.0  "
      ]
     },
     "execution_count": 7,
     "metadata": {},
     "output_type": "execute_result"
    }
   ],
   "source": [
    "movies.head(3)"
   ]
  },
  {
   "cell_type": "markdown",
   "metadata": {},
   "source": [
    "### Applying builtin aggregation fuctions on groupby objects"
   ]
  },
  {
   "cell_type": "code",
   "execution_count": 13,
   "metadata": {},
   "outputs": [],
   "source": [
    "genres = movies.groupby('Genre')"
   ]
  },
  {
   "cell_type": "code",
   "execution_count": 14,
   "metadata": {},
   "outputs": [
    {
     "data": {
      "text/html": [
       "<div>\n",
       "<style scoped>\n",
       "    .dataframe tbody tr th:only-of-type {\n",
       "        vertical-align: middle;\n",
       "    }\n",
       "\n",
       "    .dataframe tbody tr th {\n",
       "        vertical-align: top;\n",
       "    }\n",
       "\n",
       "    .dataframe thead th {\n",
       "        text-align: right;\n",
       "    }\n",
       "</style>\n",
       "<table border=\"1\" class=\"dataframe\">\n",
       "  <thead>\n",
       "    <tr style=\"text-align: right;\">\n",
       "      <th></th>\n",
       "      <th>Runtime</th>\n",
       "      <th>IMDB_Rating</th>\n",
       "      <th>No_of_Votes</th>\n",
       "      <th>Gross</th>\n",
       "      <th>Metascore</th>\n",
       "    </tr>\n",
       "    <tr>\n",
       "      <th>Genre</th>\n",
       "      <th></th>\n",
       "      <th></th>\n",
       "      <th></th>\n",
       "      <th></th>\n",
       "      <th></th>\n",
       "    </tr>\n",
       "  </thead>\n",
       "  <tbody>\n",
       "    <tr>\n",
       "      <th>Action</th>\n",
       "      <td>22196</td>\n",
       "      <td>1367.3</td>\n",
       "      <td>72282412</td>\n",
       "      <td>3.263226e+10</td>\n",
       "      <td>10499.0</td>\n",
       "    </tr>\n",
       "    <tr>\n",
       "      <th>Adventure</th>\n",
       "      <td>9656</td>\n",
       "      <td>571.5</td>\n",
       "      <td>22576163</td>\n",
       "      <td>9.496922e+09</td>\n",
       "      <td>5020.0</td>\n",
       "    </tr>\n",
       "    <tr>\n",
       "      <th>Animation</th>\n",
       "      <td>8166</td>\n",
       "      <td>650.3</td>\n",
       "      <td>21978630</td>\n",
       "      <td>1.463147e+10</td>\n",
       "      <td>6082.0</td>\n",
       "    </tr>\n",
       "    <tr>\n",
       "      <th>Biography</th>\n",
       "      <td>11970</td>\n",
       "      <td>698.6</td>\n",
       "      <td>24006844</td>\n",
       "      <td>8.276358e+09</td>\n",
       "      <td>6023.0</td>\n",
       "    </tr>\n",
       "    <tr>\n",
       "      <th>Comedy</th>\n",
       "      <td>17380</td>\n",
       "      <td>1224.7</td>\n",
       "      <td>27620327</td>\n",
       "      <td>1.566387e+10</td>\n",
       "      <td>9840.0</td>\n",
       "    </tr>\n",
       "    <tr>\n",
       "      <th>Crime</th>\n",
       "      <td>13524</td>\n",
       "      <td>857.8</td>\n",
       "      <td>33533615</td>\n",
       "      <td>8.452632e+09</td>\n",
       "      <td>6706.0</td>\n",
       "    </tr>\n",
       "    <tr>\n",
       "      <th>Drama</th>\n",
       "      <td>36049</td>\n",
       "      <td>2299.7</td>\n",
       "      <td>61367304</td>\n",
       "      <td>3.540997e+10</td>\n",
       "      <td>19208.0</td>\n",
       "    </tr>\n",
       "    <tr>\n",
       "      <th>Family</th>\n",
       "      <td>215</td>\n",
       "      <td>15.6</td>\n",
       "      <td>551221</td>\n",
       "      <td>4.391106e+08</td>\n",
       "      <td>158.0</td>\n",
       "    </tr>\n",
       "    <tr>\n",
       "      <th>Fantasy</th>\n",
       "      <td>170</td>\n",
       "      <td>16.0</td>\n",
       "      <td>146222</td>\n",
       "      <td>7.827267e+08</td>\n",
       "      <td>0.0</td>\n",
       "    </tr>\n",
       "    <tr>\n",
       "      <th>Film-Noir</th>\n",
       "      <td>312</td>\n",
       "      <td>23.9</td>\n",
       "      <td>367215</td>\n",
       "      <td>1.259105e+08</td>\n",
       "      <td>287.0</td>\n",
       "    </tr>\n",
       "    <tr>\n",
       "      <th>Horror</th>\n",
       "      <td>1123</td>\n",
       "      <td>87.0</td>\n",
       "      <td>3742556</td>\n",
       "      <td>1.034649e+09</td>\n",
       "      <td>880.0</td>\n",
       "    </tr>\n",
       "    <tr>\n",
       "      <th>Mystery</th>\n",
       "      <td>1429</td>\n",
       "      <td>95.7</td>\n",
       "      <td>4203004</td>\n",
       "      <td>1.256417e+09</td>\n",
       "      <td>633.0</td>\n",
       "    </tr>\n",
       "    <tr>\n",
       "      <th>Thriller</th>\n",
       "      <td>108</td>\n",
       "      <td>7.8</td>\n",
       "      <td>27733</td>\n",
       "      <td>1.755074e+07</td>\n",
       "      <td>81.0</td>\n",
       "    </tr>\n",
       "    <tr>\n",
       "      <th>Western</th>\n",
       "      <td>593</td>\n",
       "      <td>33.4</td>\n",
       "      <td>1289665</td>\n",
       "      <td>5.822151e+07</td>\n",
       "      <td>313.0</td>\n",
       "    </tr>\n",
       "  </tbody>\n",
       "</table>\n",
       "</div>"
      ],
      "text/plain": [
       "           Runtime  IMDB_Rating  No_of_Votes         Gross  Metascore\n",
       "Genre                                                                \n",
       "Action       22196       1367.3     72282412  3.263226e+10    10499.0\n",
       "Adventure     9656        571.5     22576163  9.496922e+09     5020.0\n",
       "Animation     8166        650.3     21978630  1.463147e+10     6082.0\n",
       "Biography    11970        698.6     24006844  8.276358e+09     6023.0\n",
       "Comedy       17380       1224.7     27620327  1.566387e+10     9840.0\n",
       "Crime        13524        857.8     33533615  8.452632e+09     6706.0\n",
       "Drama        36049       2299.7     61367304  3.540997e+10    19208.0\n",
       "Family         215         15.6       551221  4.391106e+08      158.0\n",
       "Fantasy        170         16.0       146222  7.827267e+08        0.0\n",
       "Film-Noir      312         23.9       367215  1.259105e+08      287.0\n",
       "Horror        1123         87.0      3742556  1.034649e+09      880.0\n",
       "Mystery       1429         95.7      4203004  1.256417e+09      633.0\n",
       "Thriller       108          7.8        27733  1.755074e+07       81.0\n",
       "Western        593         33.4      1289665  5.822151e+07      313.0"
      ]
     },
     "execution_count": 14,
     "metadata": {},
     "output_type": "execute_result"
    }
   ],
   "source": [
    "genres.sum(3)"
   ]
  },
  {
   "cell_type": "code",
   "execution_count": 17,
   "metadata": {},
   "outputs": [
    {
     "data": {
      "text/html": [
       "<div>\n",
       "<style scoped>\n",
       "    .dataframe tbody tr th:only-of-type {\n",
       "        vertical-align: middle;\n",
       "    }\n",
       "\n",
       "    .dataframe tbody tr th {\n",
       "        vertical-align: top;\n",
       "    }\n",
       "\n",
       "    .dataframe thead th {\n",
       "        text-align: right;\n",
       "    }\n",
       "</style>\n",
       "<table border=\"1\" class=\"dataframe\">\n",
       "  <thead>\n",
       "    <tr style=\"text-align: right;\">\n",
       "      <th></th>\n",
       "      <th>Runtime</th>\n",
       "      <th>IMDB_Rating</th>\n",
       "      <th>No_of_Votes</th>\n",
       "      <th>Gross</th>\n",
       "      <th>Metascore</th>\n",
       "    </tr>\n",
       "    <tr>\n",
       "      <th>Genre</th>\n",
       "      <th></th>\n",
       "      <th></th>\n",
       "      <th></th>\n",
       "      <th></th>\n",
       "      <th></th>\n",
       "    </tr>\n",
       "  </thead>\n",
       "  <tbody>\n",
       "    <tr>\n",
       "      <th>Action</th>\n",
       "      <td>129.046512</td>\n",
       "      <td>7.949419</td>\n",
       "      <td>420246.581395</td>\n",
       "      <td>1.897224e+08</td>\n",
       "      <td>73.419580</td>\n",
       "    </tr>\n",
       "    <tr>\n",
       "      <th>Adventure</th>\n",
       "      <td>134.111111</td>\n",
       "      <td>7.937500</td>\n",
       "      <td>313557.819444</td>\n",
       "      <td>1.319017e+08</td>\n",
       "      <td>78.437500</td>\n",
       "    </tr>\n",
       "    <tr>\n",
       "      <th>Animation</th>\n",
       "      <td>99.585366</td>\n",
       "      <td>7.930488</td>\n",
       "      <td>268032.073171</td>\n",
       "      <td>1.784326e+08</td>\n",
       "      <td>81.093333</td>\n",
       "    </tr>\n",
       "    <tr>\n",
       "      <th>Biography</th>\n",
       "      <td>136.022727</td>\n",
       "      <td>7.938636</td>\n",
       "      <td>272805.045455</td>\n",
       "      <td>9.404952e+07</td>\n",
       "      <td>76.240506</td>\n",
       "    </tr>\n",
       "    <tr>\n",
       "      <th>Comedy</th>\n",
       "      <td>112.129032</td>\n",
       "      <td>7.901290</td>\n",
       "      <td>178195.658065</td>\n",
       "      <td>1.010572e+08</td>\n",
       "      <td>78.720000</td>\n",
       "    </tr>\n",
       "    <tr>\n",
       "      <th>Crime</th>\n",
       "      <td>126.392523</td>\n",
       "      <td>8.016822</td>\n",
       "      <td>313398.271028</td>\n",
       "      <td>7.899656e+07</td>\n",
       "      <td>77.080460</td>\n",
       "    </tr>\n",
       "    <tr>\n",
       "      <th>Drama</th>\n",
       "      <td>124.737024</td>\n",
       "      <td>7.957439</td>\n",
       "      <td>212343.612457</td>\n",
       "      <td>1.225259e+08</td>\n",
       "      <td>79.701245</td>\n",
       "    </tr>\n",
       "    <tr>\n",
       "      <th>Family</th>\n",
       "      <td>107.500000</td>\n",
       "      <td>7.800000</td>\n",
       "      <td>275610.500000</td>\n",
       "      <td>2.195553e+08</td>\n",
       "      <td>79.000000</td>\n",
       "    </tr>\n",
       "    <tr>\n",
       "      <th>Fantasy</th>\n",
       "      <td>85.000000</td>\n",
       "      <td>8.000000</td>\n",
       "      <td>73111.000000</td>\n",
       "      <td>3.913633e+08</td>\n",
       "      <td>NaN</td>\n",
       "    </tr>\n",
       "    <tr>\n",
       "      <th>Film-Noir</th>\n",
       "      <td>104.000000</td>\n",
       "      <td>7.966667</td>\n",
       "      <td>122405.000000</td>\n",
       "      <td>4.197018e+07</td>\n",
       "      <td>95.666667</td>\n",
       "    </tr>\n",
       "    <tr>\n",
       "      <th>Horror</th>\n",
       "      <td>102.090909</td>\n",
       "      <td>7.909091</td>\n",
       "      <td>340232.363636</td>\n",
       "      <td>9.405902e+07</td>\n",
       "      <td>80.000000</td>\n",
       "    </tr>\n",
       "    <tr>\n",
       "      <th>Mystery</th>\n",
       "      <td>119.083333</td>\n",
       "      <td>7.975000</td>\n",
       "      <td>350250.333333</td>\n",
       "      <td>1.047014e+08</td>\n",
       "      <td>79.125000</td>\n",
       "    </tr>\n",
       "    <tr>\n",
       "      <th>Thriller</th>\n",
       "      <td>108.000000</td>\n",
       "      <td>7.800000</td>\n",
       "      <td>27733.000000</td>\n",
       "      <td>1.755074e+07</td>\n",
       "      <td>81.000000</td>\n",
       "    </tr>\n",
       "    <tr>\n",
       "      <th>Western</th>\n",
       "      <td>148.250000</td>\n",
       "      <td>8.350000</td>\n",
       "      <td>322416.250000</td>\n",
       "      <td>1.455538e+07</td>\n",
       "      <td>78.250000</td>\n",
       "    </tr>\n",
       "  </tbody>\n",
       "</table>\n",
       "</div>"
      ],
      "text/plain": [
       "              Runtime  IMDB_Rating    No_of_Votes         Gross  Metascore\n",
       "Genre                                                                     \n",
       "Action     129.046512     7.949419  420246.581395  1.897224e+08  73.419580\n",
       "Adventure  134.111111     7.937500  313557.819444  1.319017e+08  78.437500\n",
       "Animation   99.585366     7.930488  268032.073171  1.784326e+08  81.093333\n",
       "Biography  136.022727     7.938636  272805.045455  9.404952e+07  76.240506\n",
       "Comedy     112.129032     7.901290  178195.658065  1.010572e+08  78.720000\n",
       "Crime      126.392523     8.016822  313398.271028  7.899656e+07  77.080460\n",
       "Drama      124.737024     7.957439  212343.612457  1.225259e+08  79.701245\n",
       "Family     107.500000     7.800000  275610.500000  2.195553e+08  79.000000\n",
       "Fantasy     85.000000     8.000000   73111.000000  3.913633e+08        NaN\n",
       "Film-Noir  104.000000     7.966667  122405.000000  4.197018e+07  95.666667\n",
       "Horror     102.090909     7.909091  340232.363636  9.405902e+07  80.000000\n",
       "Mystery    119.083333     7.975000  350250.333333  1.047014e+08  79.125000\n",
       "Thriller   108.000000     7.800000   27733.000000  1.755074e+07  81.000000\n",
       "Western    148.250000     8.350000  322416.250000  1.455538e+07  78.250000"
      ]
     },
     "execution_count": 17,
     "metadata": {},
     "output_type": "execute_result"
    }
   ],
   "source": [
    "genres.mean(3)"
   ]
  },
  {
   "cell_type": "markdown",
   "metadata": {},
   "source": [
    "### find the top 3 genres by total earning"
   ]
  },
  {
   "cell_type": "code",
   "execution_count": 20,
   "metadata": {},
   "outputs": [
    {
     "data": {
      "text/plain": [
       "Genre\n",
       "Drama     3.540997e+10\n",
       "Action    3.263226e+10\n",
       "Comedy    1.566387e+10\n",
       "Name: Gross, dtype: float64"
      ]
     },
     "execution_count": 20,
     "metadata": {},
     "output_type": "execute_result"
    }
   ],
   "source": [
    "movies.groupby('Genre')['Gross'].sum().sort_values(ascending=False).head(3)"
   ]
  },
  {
   "cell_type": "code",
   "execution_count": 21,
   "metadata": {},
   "outputs": [
    {
     "data": {
      "text/plain": [
       "Genre\n",
       "Drama     3.540997e+10\n",
       "Action    3.263226e+10\n",
       "Comedy    1.566387e+10\n",
       "Name: Gross, dtype: float64"
      ]
     },
     "execution_count": 21,
     "metadata": {},
     "output_type": "execute_result"
    }
   ],
   "source": [
    "movies.groupby('Genre').sum()['Gross'].sort_values(ascending=False).head(3)"
   ]
  },
  {
   "cell_type": "markdown",
   "metadata": {},
   "source": [
    "### find the genre with highest avg IMDB rating"
   ]
  },
  {
   "cell_type": "code",
   "execution_count": 22,
   "metadata": {},
   "outputs": [
    {
     "data": {
      "text/plain": [
       "Genre\n",
       "Western    8.35\n",
       "Name: IMDB_Rating, dtype: float64"
      ]
     },
     "execution_count": 22,
     "metadata": {},
     "output_type": "execute_result"
    }
   ],
   "source": [
    "movies.groupby('Genre')['IMDB_Rating'].mean().sort_values(ascending=False).head(1)"
   ]
  },
  {
   "cell_type": "markdown",
   "metadata": {},
   "source": [
    "### find director with most popularity"
   ]
  },
  {
   "cell_type": "code",
   "execution_count": 23,
   "metadata": {},
   "outputs": [
    {
     "data": {
      "text/plain": [
       "Director\n",
       "Christopher Nolan    11578345\n",
       "Name: No_of_Votes, dtype: int64"
      ]
     },
     "execution_count": 23,
     "metadata": {},
     "output_type": "execute_result"
    }
   ],
   "source": [
    "movies.groupby('Director')['No_of_Votes'].sum().sort_values(ascending=False).head(1)"
   ]
  },
  {
   "cell_type": "markdown",
   "metadata": {},
   "source": [
    "### find number of movies done by each actor"
   ]
  },
  {
   "cell_type": "code",
   "execution_count": 24,
   "metadata": {},
   "outputs": [
    {
     "data": {
      "text/plain": [
       "Star1\n",
       "Tom Hanks             12\n",
       "Robert De Niro        11\n",
       "Clint Eastwood        10\n",
       "Al Pacino             10\n",
       "Leonardo DiCaprio      9\n",
       "                      ..\n",
       "Glen Hansard           1\n",
       "Giuseppe Battiston     1\n",
       "Giulietta Masina       1\n",
       "Gerardo Taracena       1\n",
       "Ömer Faruk Sorak       1\n",
       "Name: Series_Title, Length: 660, dtype: int64"
      ]
     },
     "execution_count": 24,
     "metadata": {},
     "output_type": "execute_result"
    }
   ],
   "source": [
    "movies.groupby('Star1')['Series_Title'].count().sort_values(ascending=False)"
   ]
  },
  {
   "cell_type": "markdown",
   "metadata": {},
   "source": [
    " A GroupBy object is a powerful tool for performing group-wise operations on data. It enables data analysts and scientists to gain insights into their data by aggregating, filtering, and transforming information based on specific grouping criteria. These operations are essential for understanding data patterns and making informed decisions."
   ]
  }
 ],
 "metadata": {
  "kernelspec": {
   "display_name": "base",
   "language": "python",
   "name": "python3"
  },
  "language_info": {
   "codemirror_mode": {
    "name": "ipython",
    "version": 3
   },
   "file_extension": ".py",
   "mimetype": "text/x-python",
   "name": "python",
   "nbconvert_exporter": "python",
   "pygments_lexer": "ipython3",
   "version": "3.9.18"
  }
 },
 "nbformat": 4,
 "nbformat_minor": 2
}
