{
 "cells": [
  {
   "cell_type": "markdown",
   "metadata": {},
   "source": [
    "# **OOP in Python**\n",
    "### (Object-Oriented Programming)"
   ]
  },
  {
   "cell_type": "markdown",
   "metadata": {},
   "source": [
    "* Object-Oriented Programming (OOP) is a programming paradigm that uses objects to organize and structure code. \n",
    "* Python is a multi-paradigm programming language, and it supports object-oriented programming. \n",
    "* OOP is a powerful way to design and structure your code, making it more modular, reusable, and maintainable. \n",
    "* In Python, **everything is an object**, and you can use OOP principles to create and manipulate these objects."
   ]
  },
  {
   "cell_type": "markdown",
   "metadata": {},
   "source": [
    "## **OOPs Concepts in Python**\n",
    "* Class\n",
    "* Objects\n",
    "* Polymorphism\n",
    "* Encapsulation\n",
    "* Inheritance\n",
    "* Data Abstraction\n"
   ]
  },
  {
   "cell_type": "markdown",
   "metadata": {},
   "source": [
    "## **1. Python Class**"
   ]
  },
  {
   "cell_type": "markdown",
   "metadata": {},
   "source": []
  }
 ],
 "metadata": {
  "language_info": {
   "name": "python"
  },
  "orig_nbformat": 4
 },
 "nbformat": 4,
 "nbformat_minor": 2
}
