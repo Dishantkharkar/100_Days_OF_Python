{
 "cells": [
  {
   "cell_type": "markdown",
   "metadata": {},
   "source": [
    "# **OOP in Python**\n",
    "### (Object-Oriented Programming)"
   ]
  },
  {
   "cell_type": "markdown",
   "metadata": {},
   "source": [
    "* Object-Oriented Programming (OOP) is a programming paradigm that uses objects to organize and structure code. \n",
    "* Python is a multi-paradigm programming language, and it supports object-oriented programming. \n",
    "* OOP is a powerful way to design and structure your code, making it more modular, reusable, and maintainable. \n",
    "* In Python, **everything is an object**, and you can use OOP principles to create and manipulate these objects."
   ]
  },
  {
   "cell_type": "markdown",
   "metadata": {},
   "source": [
    "## **OOPs Concepts in Python**\n",
    "* Class\n",
    "* Objects\n",
    "* Polymorphism\n",
    "* Encapsulation\n",
    "* Inheritance\n",
    "* Data Abstraction\n"
   ]
  },
  {
   "cell_type": "markdown",
   "metadata": {},
   "source": [
    "## **1. Python Class**"
   ]
  },
  {
   "cell_type": "markdown",
   "metadata": {},
   "source": [
    "* A class is a collection of objects. A class contains the blueprints or the prototype from which the objects are being created. It is a logical entity that contains some attributes and methods. \n",
    "\n",
    "To understand the need for creating a class let’s consider an example, let’s say you wanted to track the number of dogs that may have different attributes like breed, and age. If a list is used, the first element could be the dog’s breed while the second element could represent its age. Let’s suppose there are 100 different dogs, then how would you know which element is supposed to be which? What if you wanted to add other properties to these dogs? This lacks organization and it’s the exact need for classes. \n",
    "\n",
    "* Classes are created by keyword class.\n",
    "* Attributes are the variables that belong to a class.\n",
    "* Attributes are always public and can be accessed using the dot (.) operator. Eg.: Myclass.Myattribute"
   ]
  },
  {
   "cell_type": "code",
   "execution_count": null,
   "metadata": {},
   "outputs": [],
   "source": [
    "class ClassName:\n",
    "   # Statement-1\n",
    "   .\n",
    "   .\n",
    "   .\n",
    "   # Statement-N"
   ]
  },
  {
   "cell_type": "markdown",
   "metadata": {},
   "source": [
    "## **Creating an Empty Class in Python**"
   ]
  },
  {
   "cell_type": "code",
   "execution_count": 2,
   "metadata": {},
   "outputs": [],
   "source": [
    "# Python3 program to\n",
    "# demonstrate defining\n",
    "# a class\n",
    " \n",
    "class Dog:\n",
    "    pass"
   ]
  },
  {
   "cell_type": "markdown",
   "metadata": {},
   "source": [
    "## **2. Python Objects**"
   ]
  },
  {
   "cell_type": "markdown",
   "metadata": {},
   "source": [
    "* The object is an entity that has a state and behavior associated with it. It may be any real-world object like a mouse, keyboard, chair, table, pen, etc. Integers, strings, floating-point numbers, even arrays, and dictionaries, are all objects. \n",
    "* More specifically, any single integer or any single string is an object. The number 12 is an object, the string “Hello, world” is an object, a list is an object that can hold other objects, and so on. You’ve been using objects all along and may not even realize it."
   ]
  },
  {
   "cell_type": "code",
   "execution_count": 4,
   "metadata": {},
   "outputs": [],
   "source": [
    "obj = Dog()"
   ]
  },
  {
   "cell_type": "markdown",
   "metadata": {},
   "source": [
    "## **The Python self** "
   ]
  },
  {
   "cell_type": "markdown",
   "metadata": {},
   "source": [
    "When working with classes in Python, the term “self” refers to the instance of the class that is currently being used. It is customary to use “self” as the first parameter in instance methods of a class. Whenever you call a method of an object created from a class, the object is automatically passed as the first argument using the “self” parameter. This enables you to modify the object’s properties and execute tasks unique to that particular instance."
   ]
  },
  {
   "cell_type": "code",
   "execution_count": 5,
   "metadata": {},
   "outputs": [
    {
     "name": "stdout",
     "output_type": "stream",
     "text": [
      "17\n"
     ]
    }
   ],
   "source": [
    "class mynumber:\n",
    "    def __init__(self, value):\n",
    "        self.value = value\n",
    "     \n",
    "    def print_value(self):\n",
    "        print(self.value)\n",
    " \n",
    "obj1 = mynumber(17)\n",
    "obj1.print_value()"
   ]
  },
  {
   "cell_type": "markdown",
   "metadata": {},
   "source": [
    "## **Python Class self Constructor** "
   ]
  },
  {
   "cell_type": "markdown",
   "metadata": {},
   "source": [
    "When working with classes, it’s important to understand that in Python, a class constructor is a special method named **__init__** that gets called when you create an instance (object) of a class. This method is used to initialize the attributes of the object. Keep in mind that the self parameter in the constructor refers to the instance being created and allows you to access and set its attributes. By following these guidelines, you can create powerful and efficient classes in Python."
   ]
  },
  {
   "cell_type": "code",
   "execution_count": 8,
   "metadata": {},
   "outputs": [
    {
     "name": "stdout",
     "output_type": "stream",
     "text": [
      "Maths\n",
      "Science\n"
     ]
    }
   ],
   "source": [
    "# _init_\n",
    "class Subject:\n",
    " \n",
    "    def __init__(self, attr1, attr2):\n",
    "        self.attr1 = attr1\n",
    "        self.attr2 = attr2\n",
    " \n",
    " \n",
    "obj = Subject('Maths', 'Science')\n",
    "print(obj.attr1) \n",
    "print(obj.attr2)"
   ]
  }
 ],
 "metadata": {
  "kernelspec": {
   "display_name": "base",
   "language": "python",
   "name": "python3"
  },
  "language_info": {
   "codemirror_mode": {
    "name": "ipython",
    "version": 3
   },
   "file_extension": ".py",
   "mimetype": "text/x-python",
   "name": "python",
   "nbconvert_exporter": "python",
   "pygments_lexer": "ipython3",
   "version": "3.9.18"
  },
  "orig_nbformat": 4
 },
 "nbformat": 4,
 "nbformat_minor": 2
}
