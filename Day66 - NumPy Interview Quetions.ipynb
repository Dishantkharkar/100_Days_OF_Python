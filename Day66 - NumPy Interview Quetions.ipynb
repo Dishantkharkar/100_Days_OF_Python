{
 "cells": [
  {
   "cell_type": "markdown",
   "metadata": {},
   "source": [
    "# **NumPy Interview Questions**"
   ]
  },
  {
   "cell_type": "markdown",
   "metadata": {},
   "source": [
    "### `1. What is NumPy, and how is it different from Python List?`"
   ]
  },
  {
   "cell_type": "markdown",
   "metadata": {},
   "source": [
    "NumPy is a powerful numerical computing library in Python. It provides support for large, multi-dimensional arrays and matrices, along with mathematical functions to operate on these arrays. NumPy is a fundamental package for scientific computing in Python, and many other libraries, such as pandas and scikit-learn, are built on top of it.\n",
    "\n",
    "Here are some key differences between NumPy arrays and Python lists:\n",
    "\n",
    "1. **Homogeneity:**\n",
    "   - NumPy arrays are homogeneous, meaning that all elements of an array must be of the same data type. This allows for more efficient storage and computation.\n",
    "   - Python lists can contain elements of different data types.\n",
    "\n",
    "2. **Size:**\n",
    "   - NumPy arrays are more compact in memory compared to Python lists. This is because NumPy arrays are implemented in C and allow for more efficient storage of data.\n",
    "   - Python lists have more overhead and are generally less memory-efficient.\n",
    "\n",
    "3. **Performance:**\n",
    "   - NumPy operations are implemented in C, which makes them much faster than equivalent operations on Python lists, especially for large datasets.\n",
    "   - NumPy provides a wide range of efficient functions for array operations, such as element-wise operations, linear algebra, and statistical operations.\n",
    "\n",
    "4. **Functionality:**\n",
    "   - NumPy provides a variety of functions for performing operations on arrays, such as element-wise operations, linear algebra, statistical operations, and more.\n",
    "   - While Python lists have some built-in functions, NumPy provides a more extensive set of tools specifically designed for numerical operations.\n",
    "\n",
    "5. **Syntax:**\n",
    "   - NumPy arrays support vectorized operations, which means that operations can be performed on entire arrays without the need for explicit loops. This leads to more concise and readable code.\n",
    "   - In Python lists, you often need to use explicit loops for element-wise operations.\n",
    "\n",
    "Here's a simple example to illustrate the differences:\n",
    "\n"
   ]
  },
  {
   "cell_type": "code",
   "execution_count": 10,
   "metadata": {},
   "outputs": [
    {
     "name": "stdout",
     "output_type": "stream",
     "text": [
      "Sum_Python_list - [1, 2, 3, 4, 5, 6]\n",
      "Numpy_list_sum - [5 7 9]\n"
     ]
    }
   ],
   "source": [
    "# Using Python lists\n",
    "python_list1 = [1, 2, 3]\n",
    "python_list2 = [4, 5, 6]\n",
    "sum_python_lists = python_list1 + python_list2  # Concatenation, not element-wise addition\n",
    "print('Sum_Python_list -',sum_python_lists)\n",
    "\n",
    "# Using NumPy arrays\n",
    "import numpy as np\n",
    "\n",
    "numpy_array1 = np.array([1, 2, 3])\n",
    "numpy_array2 = np.array([4, 5, 6])\n",
    "sum_numpy_arrays = numpy_array1 + numpy_array2  # Element-wise addition\n",
    "print('Numpy_list_sum -',sum_numpy_arrays)"
   ]
  },
  {
   "cell_type": "markdown",
   "metadata": {},
   "source": [
    "In the NumPy example, the addition is performed element-wise, which is a fundamental concept in numerical computing. In contrast, the Python list example concatenates the two lists without performing element-wise addition."
   ]
  },
  {
   "cell_type": "markdown",
   "metadata": {},
   "source": [
    "### `2.Explain the concept of Broadcasting in NumPy?`"
   ]
  },
  {
   "cell_type": "markdown",
   "metadata": {},
   "source": [
    "Broadcasting is a powerful feature in NumPy that allows you to perform operations on arrays of different shapes and sizes. The term \"broadcasting\" refers to how NumPy treats arrays with different shapes during arithmetic operations. The smaller array is \"broadcast\" across the larger array so that they have compatible shapes.\n",
    "\n",
    "The broadcasting rule in NumPy is as follows:\n",
    "\n",
    "1. If the arrays do not have the same rank (number of dimensions), pad the smaller shape with ones on its left side.\n",
    "\n",
    "2. Compare the sizes of the corresponding dimensions:\n",
    "   - If the sizes of the dimensions are different, but one of them is 1, then the arrays are compatible for broadcasting.\n",
    "   - If the sizes in a dimension are neither equal nor one, broadcasting is not possible, and a `ValueError` is raised.\n",
    "\n",
    "3. After the broadcasting, each array behaves as if its shape was the element-wise maximum of both shapes.\n",
    "\n",
    "Let's go through a simple example to illustrate broadcasting:\n",
    "\n",
    "\n"
   ]
  },
  {
   "cell_type": "code",
   "execution_count": 12,
   "metadata": {},
   "outputs": [
    {
     "data": {
      "text/plain": [
       "array([6, 7, 8])"
      ]
     },
     "execution_count": 12,
     "metadata": {},
     "output_type": "execute_result"
    }
   ],
   "source": [
    "import numpy as np\n",
    "\n",
    "# Example 1: Broadcasting a scalar to an array\n",
    "scalar_value = 5\n",
    "array = np.array([1, 2, 3])\n",
    "result = scalar_value + array\n",
    "# The scalar is broadcasted to the shape of the array, resulting in [6, 7, 8]\n",
    "result"
   ]
  },
  {
   "cell_type": "code",
   "execution_count": 13,
   "metadata": {},
   "outputs": [
    {
     "data": {
      "text/plain": [
       "array([[ 5,  7,  9],\n",
       "       [ 8, 10, 12]])"
      ]
     },
     "execution_count": 13,
     "metadata": {},
     "output_type": "execute_result"
    }
   ],
   "source": [
    "# Example 2: Broadcasting a 1D array to a 2D array\n",
    "array_1d = np.array([1, 2, 3])\n",
    "array_2d = np.array([[4, 5, 6], [7, 8, 9]])\n",
    "result = array_1d + array_2d\n",
    "# The 1D array is broadcasted along the second dimension of the 2D array,\n",
    "# resulting in [[5, 7, 9], [8, 10, 12]]\n",
    "result"
   ]
  },
  {
   "cell_type": "code",
   "execution_count": 14,
   "metadata": {},
   "outputs": [
    {
     "data": {
      "text/plain": [
       "array([[5, 6, 7],\n",
       "       [6, 7, 8],\n",
       "       [7, 8, 9]])"
      ]
     },
     "execution_count": 14,
     "metadata": {},
     "output_type": "execute_result"
    }
   ],
   "source": [
    "# Example 3: Broadcasting both arrays\n",
    "array_a = np.array([[1], [2], [3]])\n",
    "array_b = np.array([4, 5, 6])\n",
    "result = array_a + array_b\n",
    "# Both arrays are broadcasted, resulting in [[5, 6, 7], [6, 7, 8], [7, 8, 9]]\n",
    "result"
   ]
  },
  {
   "cell_type": "markdown",
   "metadata": {},
   "source": [
    "In these examples, the smaller array or scalar is broadcasted to match the shape of the larger array, and the element-wise operation is then performed. This broadcasting mechanism allows for more concise and readable code when working with arrays of different shapes, making NumPy operations more flexible."
   ]
  },
  {
   "cell_type": "markdown",
   "metadata": {},
   "source": [
    "### `3.How do you perform Element wise addition of two NumPy arrays?`\n",
    "\n",
    "Performing element-wise addition of two NumPy arrays is straightforward. You can use the + operator, and NumPy will handle the element-wise addition automatically. Here's an example:"
   ]
  },
  {
   "cell_type": "code",
   "execution_count": 15,
   "metadata": {},
   "outputs": [
    {
     "name": "stdout",
     "output_type": "stream",
     "text": [
      "[5 7 9]\n"
     ]
    }
   ],
   "source": [
    "import numpy as np\n",
    "\n",
    "# Create two NumPy arrays\n",
    "array1 = np.array([1, 2, 3])\n",
    "array2 = np.array([4, 5, 6])\n",
    "\n",
    "# Perform element-wise addition\n",
    "result_array = array1 + array2\n",
    "\n",
    "# Display the result\n",
    "print(result_array)\n"
   ]
  },
  {
   "cell_type": "markdown",
   "metadata": {},
   "source": [
    "In this example, array1 + array2 performs element-wise addition, resulting in a new NumPy array [5, 7, 9]. NumPy takes care of broadcasting if the arrays have different shapes but are still compatible according to the broadcasting rules."
   ]
  },
  {
   "cell_type": "markdown",
   "metadata": {},
   "source": [
    "You can perform element-wise addition, subtraction, multiplication, and division using the standard arithmetic operators (+, -, *, /). NumPy will apply these operations element-wise to the corresponding elements of the arrays."
   ]
  },
  {
   "cell_type": "code",
   "execution_count": 16,
   "metadata": {},
   "outputs": [
    {
     "name": "stdout",
     "output_type": "stream",
     "text": [
      "Addition: [5 7 9]\n",
      "Subtraction: [-3 -3 -3]\n",
      "Multiplication: [ 4 10 18]\n",
      "Division: [0.25 0.4  0.5 ]\n"
     ]
    }
   ],
   "source": [
    "import numpy as np\n",
    "\n",
    "# Create two NumPy arrays\n",
    "array1 = np.array([1, 2, 3])\n",
    "array2 = np.array([4, 5, 6])\n",
    "\n",
    "# Element-wise operations\n",
    "result_addition = array1 + array2  # Element-wise addition\n",
    "result_subtraction = array1 - array2  # Element-wise subtraction\n",
    "result_multiplication = array1 * array2  # Element-wise multiplication\n",
    "result_division = array1 / array2  # Element-wise division\n",
    "\n",
    "# Display the results\n",
    "print(\"Addition:\", result_addition)\n",
    "print(\"Subtraction:\", result_subtraction)\n",
    "print(\"Multiplication:\", result_multiplication)\n",
    "print(\"Division:\", result_division)\n"
   ]
  },
  {
   "cell_type": "markdown",
   "metadata": {},
   "source": [
    "### `4.What is the purpose of the np.mean() function in NumPy?`\n",
    "\n",
    "The np.mean() function in NumPy is used to compute the arithmetic mean, or average, of elements along a specified axis or of the entire array. The mean is calculated by summing up all the elements and dividing the sum by the total number of elements."
   ]
  },
  {
   "cell_type": "code",
   "execution_count": 17,
   "metadata": {},
   "outputs": [
    {
     "name": "stdout",
     "output_type": "stream",
     "text": [
      "Mean: 3.0\n"
     ]
    }
   ],
   "source": [
    "import numpy as np\n",
    "\n",
    "# Create a NumPy array\n",
    "arr = np.array([1, 2, 3, 4, 5])\n",
    "\n",
    "# Calculate the mean of the array\n",
    "mean_value = np.mean(arr)\n",
    "\n",
    "print(\"Mean:\", mean_value)\n"
   ]
  },
  {
   "cell_type": "markdown",
   "metadata": {},
   "source": [
    "In this example, np.mean(arr) will calculate the mean of the elements [1, 2, 3, 4, 5], which is (1 + 2 + 3 + 4 + 5) / 5 = 3.0."
   ]
  },
  {
   "cell_type": "markdown",
   "metadata": {},
   "source": [
    "### `5. How do you reshape a NumPy Arrays?`\n",
    "\n",
    "You can reshape a NumPy array using the reshape() function. Reshaping means changing the shape (dimensions) of the array while keeping the total number of elements the same. The reshape() function takes the desired shape as an argument."
   ]
  },
  {
   "cell_type": "code",
   "execution_count": 18,
   "metadata": {},
   "outputs": [
    {
     "name": "stdout",
     "output_type": "stream",
     "text": [
      "Original array:\n",
      "[1 2 3 4 5 6]\n",
      "\n",
      "Reshaped array:\n",
      "[[1 2 3]\n",
      " [4 5 6]]\n"
     ]
    }
   ],
   "source": [
    "import numpy as np\n",
    "\n",
    "# Create a NumPy array\n",
    "original_array = np.array([1, 2, 3, 4, 5, 6])\n",
    "\n",
    "# Reshape the array to a 2x3 matrix\n",
    "reshaped_array = original_array.reshape(2, 3)\n",
    "\n",
    "print(\"Original array:\")\n",
    "print(original_array)\n",
    "\n",
    "print(\"\\nReshaped array:\")\n",
    "print(reshaped_array)\n"
   ]
  },
  {
   "cell_type": "markdown",
   "metadata": {},
   "source": [
    "In this example, original_array is reshaped into a 2x3 matrix using reshape(2, 3). "
   ]
  }
 ],
 "metadata": {
  "kernelspec": {
   "display_name": "base",
   "language": "python",
   "name": "python3"
  },
  "language_info": {
   "codemirror_mode": {
    "name": "ipython",
    "version": 3
   },
   "file_extension": ".py",
   "mimetype": "text/x-python",
   "name": "python",
   "nbconvert_exporter": "python",
   "pygments_lexer": "ipython3",
   "version": "3.9.18"
  }
 },
 "nbformat": 4,
 "nbformat_minor": 2
}
