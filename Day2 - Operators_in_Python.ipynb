{
 "cells": [
  {
   "attachments": {},
   "cell_type": "markdown",
   "id": "8cce9b92",
   "metadata": {},
   "source": [
    "# Operators In Python"
   ]
  },
  {
   "cell_type": "markdown",
   "id": "15863c3c",
   "metadata": {},
   "source": [
    "## 1.Arithmetic Operators:\n",
    "* Addition (+)\n",
    "* Subtraction (-)\n",
    "* Multiplication (*)\n",
    "* Division (/)\n",
    "* Floor Division (//)\n",
    "* Modulus (%)\n",
    "* Exponentiation (**)"
   ]
  },
  {
   "cell_type": "code",
   "execution_count": 2,
   "id": "185a2cad",
   "metadata": {},
   "outputs": [
    {
     "name": "stdout",
     "output_type": "stream",
     "text": [
      "11\n",
      "-1\n",
      "30\n",
      "2.5\n",
      "2\n",
      "1\n",
      "25\n"
     ]
    }
   ],
   "source": [
    "print(5+6) # Addtion -> adding the numbers\n",
    "\n",
    "print(5-6) # subtraction-> subtract the number\n",
    "\n",
    "print(5*6) # Multiplication -> Multiply the number\n",
    "\n",
    "print(5/2) # Divsion -> Divide the numnber\n",
    "\n",
    "print(5//2) # Floor Division -> It trasform into integer number= 2.5 convert into 2\n",
    "\n",
    "print(5%2) # Modulus -> It Provides remainder of the Divsion\n",
    "\n",
    "print(5**2) # Exponential -> raising a number to a certain power.(raised to power)"
   ]
  },
  {
   "cell_type": "markdown",
   "id": "cade4fdb",
   "metadata": {},
   "source": [
    "## 2. Comparison Operators/ Relational Opeartors:\n",
    "\n",
    "* Equal to (==)\n",
    "* Not equal to (!=)\n",
    "* Less than (<)\n",
    "* Greater than (>)\n",
    "* Less than or equal to (<=)\n",
    "* Greater than or equal to (>=)"
   ]
  },
  {
   "cell_type": "code",
   "execution_count": 5,
   "id": "c8077d41",
   "metadata": {},
   "outputs": [
    {
     "name": "stdout",
     "output_type": "stream",
     "text": [
      "True\n",
      "False\n",
      "True\n",
      "False\n",
      "True\n",
      "True\n"
     ]
    }
   ],
   "source": [
    "print(4==4)\n",
    "\n",
    "print(4!=4)\n",
    "\n",
    "print(4<5)\n",
    "\n",
    "print(4>5)\n",
    "\n",
    "print(4<=4)\n",
    "\n",
    "print(4>=4)"
   ]
  },
  {
   "cell_type": "markdown",
   "id": "427f66ba",
   "metadata": {},
   "source": [
    "## 2. Logical Operators:\n",
    "* Logical AND (and)\n",
    "* Logical OR (or)\n",
    "* Logical NOT (not)"
   ]
  },
  {
   "cell_type": "code",
   "execution_count": 7,
   "id": "e11ba83c",
   "metadata": {},
   "outputs": [
    {
     "name": "stdout",
     "output_type": "stream",
     "text": [
      "False\n",
      "True\n",
      "False\n"
     ]
    }
   ],
   "source": [
    "p = True\n",
    "q = False\n",
    "\n",
    "print(p and q) # true and false -> 1 and 0 = 0\n",
    "print(p or q) # true or false -> 1 or 0 = 1\n",
    "print(not p) \n"
   ]
  },
  {
   "cell_type": "markdown",
   "id": "7feb64b9",
   "metadata": {},
   "source": [
    "## 3. Assignment Operators:\n",
    "* Assignment (=)\n",
    "* Add and Assign (+=)\n",
    "* Subtract and Assign (-=)\n",
    "* Multiply and Assign (*=)\n",
    "* Divide and Assign (/=)\n",
    "* Floor Divide and Assign (//=)\n",
    "* Modulus and Assign (%=)\n",
    "* Exponentiate and Assign (**=)"
   ]
  },
  {
   "cell_type": "code",
   "execution_count": 12,
   "id": "9f6ce14c",
   "metadata": {},
   "outputs": [
    {
     "name": "stdout",
     "output_type": "stream",
     "text": [
      "15\n"
     ]
    }
   ],
   "source": [
    "x = 10\n",
    "x += 5\n",
    "print(x)  # Equivalent to x = x + 5\n"
   ]
  },
  {
   "cell_type": "code",
   "execution_count": 16,
   "id": "f6625435",
   "metadata": {},
   "outputs": [],
   "source": [
    "x = 10\n",
    "x -= 3  # Equivalent to x = x - 3\n",
    "x *= 2  # Equivalent to x = x * 2\n",
    "x /= 4  # Equivalent to x = x / 4\n",
    "x //= 2 # Equivalent to x = x // 2\n",
    "x %= 3  # Equivalent to x = x % 3\n",
    "x **= 2 # Equivalent to x = x ** 2"
   ]
  },
  {
   "cell_type": "markdown",
   "id": "d1e96e43",
   "metadata": {},
   "source": [
    "## 4.Bitwise Operators:\n",
    "* Bitwise AND (&)\n",
    "* Bitwise OR (|)\n",
    "* Bitwise XOR (^)\n",
    "* Bitwise NOT (~)\n",
    "* Left Shift (<<)\n",
    "* Right Shift (>>)"
   ]
  },
  {
   "cell_type": "code",
   "execution_count": 23,
   "id": "81e42105",
   "metadata": {},
   "outputs": [
    {
     "name": "stdout",
     "output_type": "stream",
     "text": [
      "1\n",
      "7\n",
      "6\n",
      "-6\n",
      "10\n",
      "2\n"
     ]
    }
   ],
   "source": [
    "m = 5  # 101 in binary\n",
    "n = 3  # 011 in binary\n",
    "bitwise_and = m & n  # 001 (1 in decimal)\n",
    "print(bitwise_and)\n",
    "\n",
    "bitwise_or = m | n   # 111 (7 in decimal)\n",
    "print(bitwise_or)\n",
    "\n",
    "bitwise_xor = m ^ n  # 110 (6 in decimal)\n",
    "print(bitwise_xor)\n",
    "\n",
    "bitwise_not_m = ~m   # -6 (in decimal)\n",
    "print(bitwise_not_m)\n",
    "\n",
    "left_shift = m << 1  # 010 (2 in decimal)\n",
    "print(left_shift)\n",
    "\n",
    "right_shift = m >> 1 # 010 (2 in decimal)\n",
    "print(right_shift)\n"
   ]
  },
  {
   "cell_type": "markdown",
   "id": "c4c2d0a7",
   "metadata": {},
   "source": [
    "These are the basic operators in Python. You can use them to perform various operations on variables and values in your Python programs."
   ]
  }
 ],
 "metadata": {
  "kernelspec": {
   "display_name": "Python 3 (ipykernel)",
   "language": "python",
   "name": "python3"
  },
  "language_info": {
   "codemirror_mode": {
    "name": "ipython",
    "version": 3
   },
   "file_extension": ".py",
   "mimetype": "text/x-python",
   "name": "python",
   "nbconvert_exporter": "python",
   "pygments_lexer": "ipython3",
   "version": "3.9.13"
  }
 },
 "nbformat": 4,
 "nbformat_minor": 5
}
