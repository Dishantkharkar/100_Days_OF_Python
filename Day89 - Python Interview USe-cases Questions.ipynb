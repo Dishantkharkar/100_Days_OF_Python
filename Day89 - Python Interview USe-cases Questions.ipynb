{
 "cells": [
  {
   "cell_type": "markdown",
   "id": "f2e6f13d-929e-4423-b103-d3b51083ccea",
   "metadata": {},
   "source": [
    "`Write a Python function to remove duplicates from a list..`\n"
   ]
  },
  {
   "cell_type": "code",
   "execution_count": 1,
   "id": "ea388b64-72bc-41eb-9adc-259c73d238a0",
   "metadata": {},
   "outputs": [
    {
     "name": "stdout",
     "output_type": "stream",
     "text": [
      "[1, 2, 3, 4, 5]\n"
     ]
    }
   ],
   "source": [
    "def remove_duplicates(lst):\n",
    "    return list(set(lst))\n",
    "\n",
    "# Example usage:\n",
    "my_list = [1, 2, 2, 3, 4, 4, 5]\n",
    "result = remove_duplicates(my_list)\n",
    "print(result)\n"
   ]
  },
  {
   "cell_type": "markdown",
   "id": "8b3938de-9e67-4e81-9951-691bf85aa775",
   "metadata": {},
   "source": [
    "`Find the Maximum Subarray Sum`"
   ]
  },
  {
   "cell_type": "code",
   "execution_count": 2,
   "id": "00d5886c-aa18-4c34-914c-15e72f8c8370",
   "metadata": {},
   "outputs": [
    {
     "name": "stdout",
     "output_type": "stream",
     "text": [
      "6\n"
     ]
    }
   ],
   "source": [
    "def max_subarray_sum(nums):\n",
    "    max_sum = current_sum = nums[0]\n",
    "    for num in nums[1:]:\n",
    "        current_sum = max(num, current_sum + num)\n",
    "        max_sum = max(max_sum, current_sum)\n",
    "    return max_sum\n",
    "\n",
    "# Example usage:\n",
    "arr = [-2, 1, -3, 4, -1, 2, 1, -5, 4]\n",
    "result = max_subarray_sum(arr)\n",
    "print(result)"
   ]
  },
  {
   "cell_type": "markdown",
   "id": "0c8df01f-c1df-4a7c-ab1c-0f345f1ee862",
   "metadata": {},
   "source": [
    "`Write a Python function to find the Nth number in the Fibonacci sequence.`"
   ]
  },
  {
   "cell_type": "code",
   "execution_count": 4,
   "id": "f6645659-9834-4e9c-a191-fc26d4b05cb6",
   "metadata": {},
   "outputs": [
    {
     "name": "stdout",
     "output_type": "stream",
     "text": [
      "21\n"
     ]
    }
   ],
   "source": [
    "def fibonacci(n):\n",
    "    if n <= 1:\n",
    "        return n\n",
    "    else:\n",
    "        return fibonacci(n-1) + fibonacci(n-2)\n",
    "\n",
    "# Example usage:\n",
    "N = 8\n",
    "result = fibonacci(N)\n",
    "print(result)"
   ]
  },
  {
   "cell_type": "markdown",
   "id": "de7f85eb-5ee9-476c-86f4-c0af3476e6ca",
   "metadata": {},
   "source": [
    "`Write a Python function to find the intersection of two lists.`"
   ]
  },
  {
   "cell_type": "code",
   "execution_count": 6,
   "id": "e8a11232-d638-4762-b259-2bf1b58725df",
   "metadata": {},
   "outputs": [
    {
     "name": "stdout",
     "output_type": "stream",
     "text": [
      "[3, 4, 5]\n"
     ]
    }
   ],
   "source": [
    "def find_intersection(list1, list2):\n",
    "    return list(set(list1) & set(list2))\n",
    "\n",
    "# Example usage:\n",
    "list_x = [1, 2, 3, 4, 5]\n",
    "list_y = [3, 4, 5, 6, 7]\n",
    "result = find_intersection(list_x, list_y)\n",
    "print(result)"
   ]
  },
  {
   "cell_type": "markdown",
   "id": "0926e811-8c31-4f22-a0ac-2c35a78ae742",
   "metadata": {},
   "source": [
    "`Write a Python function to calculate the power of a number using recursion.`"
   ]
  },
  {
   "cell_type": "code",
   "execution_count": 8,
   "id": "bf6cadbc-9fd9-4205-ba18-c77ced95b7ad",
   "metadata": {},
   "outputs": [
    {
     "name": "stdout",
     "output_type": "stream",
     "text": [
      "8\n"
     ]
    }
   ],
   "source": [
    "def power(base, exponent):\n",
    "    if exponent == 0:\n",
    "        return 1\n",
    "    else:\n",
    "        return base * power(base, exponent - 1)\n",
    "\n",
    "# Example usage:\n",
    "result = power(2, 3)\n",
    "print(result)"
   ]
  }
 ],
 "metadata": {
  "kernelspec": {
   "display_name": "Python 3 (ipykernel)",
   "language": "python",
   "name": "python3"
  },
  "language_info": {
   "codemirror_mode": {
    "name": "ipython",
    "version": 3
   },
   "file_extension": ".py",
   "mimetype": "text/x-python",
   "name": "python",
   "nbconvert_exporter": "python",
   "pygments_lexer": "ipython3",
   "version": "3.9.18"
  }
 },
 "nbformat": 4,
 "nbformat_minor": 5
}
