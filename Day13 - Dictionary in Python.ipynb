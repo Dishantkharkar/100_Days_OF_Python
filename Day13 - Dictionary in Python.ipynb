{
 "cells": [
  {
   "cell_type": "markdown",
   "metadata": {},
   "source": [
    "# **Dictionary In Python**\n",
    "\n",
    "Dictionary in Python is a collection of keys values, used to store data values like a map, which, unlike other data types which hold only a single value as an element.\n",
    "\n",
    "In some languages it is known as map or assosiative arrays.\n",
    "\n",
    "dict = { 'name' : 'xyz' , 'age' : 24 , 'gender' : 'male' }\n",
    "\n",
    "Characterstics:\n",
    "\n",
    "- Mutable\n",
    "- Indexing has no meaning\n",
    "- keys can't be duplicated\n",
    "- keys can't be mutable items"
   ]
  },
  {
   "cell_type": "markdown",
   "metadata": {},
   "source": [
    " ## **Create Dictionary**"
   ]
  },
  {
   "cell_type": "code",
   "execution_count": 51,
   "metadata": {},
   "outputs": [
    {
     "name": "stdout",
     "output_type": "stream",
     "text": [
      "{}\n",
      "{'name': 'xyz', 'Age': 23, 'gender': 'male'}\n",
      "{(2, 2, 3): 1, 'hello': 'world'}\n",
      "{'name': 'ramesh', 'college': 'bit', 'sem': 4, 'subjects': {'dsa': 50, 'maths': 67, 'english': 34}}\n",
      "{'name': 'xyz', 'age': 23, 3: 3}\n",
      "{'name': 'xyz', (1, 2, 3): 2}\n"
     ]
    }
   ],
   "source": [
    "# empty \n",
    "d = {}\n",
    "print(d)\n",
    "\n",
    "#1D\n",
    "d1 = {'name':'xyz', 'Age':23, 'gender':'male'}\n",
    "print(d1)\n",
    "\n",
    "# with mixed keys\n",
    "d2 = {(2,2,3):1,'hello':'world'}\n",
    "print(d2)\n",
    "\n",
    "# 2D dictionary \n",
    "s = {\n",
    "    'name':'ramesh',\n",
    "     'college':'bit',\n",
    "     'sem':4,\n",
    "     'subjects':{\n",
    "         'dsa':50,\n",
    "         'maths':67,\n",
    "         'english':34\n",
    "     }\n",
    "}\n",
    "print(s)\n",
    "\n",
    "# using sequence and dict function\n",
    "d4 = dict([('name','xyz'),('age',23),(3,3)])\n",
    "print(d4)\n",
    "\n",
    "#mutable items keys\n",
    "d6 = {'name':'xyz', (1,2,3):2}\n",
    "print(d6)"
   ]
  },
  {
   "cell_type": "markdown",
   "metadata": {},
   "source": [
    "## **Accessing Items**"
   ]
  },
  {
   "cell_type": "code",
   "execution_count": 52,
   "metadata": {},
   "outputs": [
    {
     "data": {
      "text/plain": [
       "'Jack'"
      ]
     },
     "execution_count": 52,
     "metadata": {},
     "output_type": "execute_result"
    }
   ],
   "source": [
    "my_dict = {'name': 'Jack', 'age': 26}\n",
    "my_dict['name'] # you have to write keys "
   ]
  },
  {
   "cell_type": "markdown",
   "metadata": {},
   "source": [
    "## **Adding key pair**"
   ]
  },
  {
   "cell_type": "code",
   "execution_count": 53,
   "metadata": {},
   "outputs": [
    {
     "name": "stdout",
     "output_type": "stream",
     "text": [
      "{'name': 'xyz', 'age': 23, 3: 3}\n"
     ]
    }
   ],
   "source": [
    "print(d4)"
   ]
  },
  {
   "cell_type": "code",
   "execution_count": 54,
   "metadata": {},
   "outputs": [
    {
     "name": "stdout",
     "output_type": "stream",
     "text": [
      "{'name': 'xyz', 'age': 23, 3: 3, 'gender': 'male'}\n",
      "{'name': 'xyz', 'age': 23, 3: 3, 'gender': 'male', 'weight': 70}\n"
     ]
    }
   ],
   "source": [
    "d4['gender'] = 'male'\n",
    "print(d4)\n",
    "\n",
    "d4['weight'] = 70\n",
    "print(d4)"
   ]
  },
  {
   "cell_type": "markdown",
   "metadata": {},
   "source": [
    "## **Remove key-value pair**"
   ]
  },
  {
   "cell_type": "code",
   "execution_count": 55,
   "metadata": {},
   "outputs": [
    {
     "name": "stdout",
     "output_type": "stream",
     "text": [
      "{'name': 'xyz', 'age': 24, 'gender': 'male', 'weight': 72}\n",
      "{'name': 'xyz', 'age': 24, 'gender': 'male'}\n",
      "{'age': 24, 'gender': 'male'}\n",
      "{}\n"
     ]
    }
   ],
   "source": [
    "d = {'name': 'xyz', 'age': 24, 3: 3, 'gender': 'male', 'weight': 72}\n",
    "\n",
    "# pop\n",
    "d.pop(3) # it remove three\n",
    "print(d)\n",
    "\n",
    "#popitems\n",
    "d.popitem() # it remove last item in the dictionary\n",
    "print(d)\n",
    "\n",
    "# del\n",
    "del d['name']\n",
    "print(d) \n",
    "\n",
    "#clear\n",
    "d.clear() # it clear dictionary\n",
    "print(d)"
   ]
  },
  {
   "cell_type": "markdown",
   "metadata": {},
   "source": [
    "## **Editing key-value pair**"
   ]
  },
  {
   "cell_type": "code",
   "execution_count": 56,
   "metadata": {},
   "outputs": [
    {
     "name": "stdout",
     "output_type": "stream",
     "text": [
      "{'name': 'ramesh', 'college': 'bit', 'sem': 4, 'subjects': {'dsa': 50, 'maths': 67, 'english': 34}}\n"
     ]
    }
   ],
   "source": [
    "print(s)"
   ]
  },
  {
   "cell_type": "code",
   "execution_count": 57,
   "metadata": {},
   "outputs": [
    {
     "data": {
      "text/plain": [
       "{'name': 'ramesh',\n",
       " 'college': 'bit',\n",
       " 'sem': 4,\n",
       " 'subjects': {'dsa': 80, 'maths': 67, 'english': 34}}"
      ]
     },
     "execution_count": 57,
     "metadata": {},
     "output_type": "execute_result"
    }
   ],
   "source": [
    "s['subjects']['dsa'] = 80\n",
    "s"
   ]
  },
  {
   "cell_type": "markdown",
   "metadata": {},
   "source": [
    "## **Dictionary Operations**\n",
    "\n",
    "- Membership\n",
    "- Iteration"
   ]
  },
  {
   "cell_type": "code",
   "execution_count": 58,
   "metadata": {},
   "outputs": [
    {
     "name": "stdout",
     "output_type": "stream",
     "text": [
      "{'name': 'ramesh', 'college': 'bit', 'sem': 4, 'subjects': {'dsa': 80, 'maths': 67, 'english': 34}}\n"
     ]
    }
   ],
   "source": [
    "print(s)"
   ]
  },
  {
   "cell_type": "code",
   "execution_count": 59,
   "metadata": {},
   "outputs": [
    {
     "data": {
      "text/plain": [
       "True"
      ]
     },
     "execution_count": 59,
     "metadata": {},
     "output_type": "execute_result"
    }
   ],
   "source": [
    "# membership \n",
    "'name' in s"
   ]
  },
  {
   "cell_type": "code",
   "execution_count": 60,
   "metadata": {},
   "outputs": [
    {
     "data": {
      "text/plain": [
       "False"
      ]
     },
     "execution_count": 60,
     "metadata": {},
     "output_type": "execute_result"
    }
   ],
   "source": [
    "'ramesh' in s # it use on it keys not on values"
   ]
  },
  {
   "cell_type": "code",
   "execution_count": 61,
   "metadata": {},
   "outputs": [
    {
     "name": "stdout",
     "output_type": "stream",
     "text": [
      "name ramesh\n",
      "college bit\n",
      "sem 4\n",
      "subjects {'dsa': 80, 'maths': 67, 'english': 34}\n"
     ]
    }
   ],
   "source": [
    "# ITERATION \n",
    "for i in s:\n",
    "  print(i,s[i])"
   ]
  },
  {
   "cell_type": "markdown",
   "metadata": {},
   "source": [
    "## **Dictionary Functions**"
   ]
  },
  {
   "cell_type": "code",
   "execution_count": 62,
   "metadata": {},
   "outputs": [
    {
     "name": "stdout",
     "output_type": "stream",
     "text": [
      "{'name': 'ramesh', 'college': 'bit', 'sem': 4, 'subjects': {'dsa': 80, 'maths': 67, 'english': 34}}\n"
     ]
    }
   ],
   "source": [
    "print(s)"
   ]
  },
  {
   "cell_type": "code",
   "execution_count": 64,
   "metadata": {},
   "outputs": [
    {
     "name": "stdout",
     "output_type": "stream",
     "text": [
      "4\n"
     ]
    },
    {
     "data": {
      "text/plain": [
       "['college', 'name', 'sem', 'subjects']"
      ]
     },
     "execution_count": 64,
     "metadata": {},
     "output_type": "execute_result"
    }
   ],
   "source": [
    "# len/sorted\n",
    "print(len(s))\n",
    "\n",
    "sorted(s)\n"
   ]
  },
  {
   "cell_type": "code",
   "execution_count": 65,
   "metadata": {},
   "outputs": [
    {
     "name": "stdout",
     "output_type": "stream",
     "text": [
      "dict_items([('name', 'ramesh'), ('college', 'bit'), ('sem', 4), ('subjects', {'dsa': 80, 'maths': 67, 'english': 34})])\n",
      "dict_keys(['name', 'college', 'sem', 'subjects'])\n",
      "dict_values(['ramesh', 'bit', 4, {'dsa': 80, 'maths': 67, 'english': 34}])\n"
     ]
    }
   ],
   "source": [
    "# items/keys/values\n",
    "\n",
    "print(s.items())\n",
    "\n",
    "print(s.keys())\n",
    "\n",
    "print(s.values())"
   ]
  },
  {
   "cell_type": "code",
   "execution_count": 66,
   "metadata": {},
   "outputs": [
    {
     "name": "stdout",
     "output_type": "stream",
     "text": [
      "{1: 2, 3: 4, 4: 7, 6: 8}\n"
     ]
    }
   ],
   "source": [
    "# update\n",
    "d1 = {1:2,3:4,4:5}\n",
    "d2 = {4:7,6:8}\n",
    "\n",
    "d1.update(d2)\n",
    "print(d1)"
   ]
  },
  {
   "cell_type": "markdown",
   "metadata": {},
   "source": [
    "## **Dictionary Comprehension**"
   ]
  },
  {
   "cell_type": "code",
   "execution_count": 67,
   "metadata": {},
   "outputs": [
    {
     "data": {
      "text/plain": [
       "{1: 1, 2: 4, 3: 9, 4: 16, 5: 25, 6: 36, 7: 49, 8: 64, 9: 81, 10: 100}"
      ]
     },
     "execution_count": 67,
     "metadata": {},
     "output_type": "execute_result"
    }
   ],
   "source": [
    "# print 1st 10 numbers and their squares\n",
    "{i:i**2 for i in range(1,11)}"
   ]
  },
  {
   "cell_type": "code",
   "execution_count": 68,
   "metadata": {},
   "outputs": [
    {
     "name": "stdout",
     "output_type": "stream",
     "text": [
      "dict_items([('delhi', 1000), ('mumbai', 2000), ('bangalore', 3000)])\n"
     ]
    }
   ],
   "source": [
    "distances = {'delhi':1000,'mumbai':2000,'bangalore':3000}\n",
    "print(distances.items())"
   ]
  },
  {
   "cell_type": "code",
   "execution_count": 69,
   "metadata": {},
   "outputs": [
    {
     "data": {
      "text/plain": [
       "{'Sunday': 30.5,\n",
       " 'Monday': 32.6,\n",
       " 'Tuesday': 31.8,\n",
       " 'Wednesday': 33.4,\n",
       " 'Thursday': 29.8,\n",
       " 'Friday': 30.2,\n",
       " 'Saturday': 29.9}"
      ]
     },
     "execution_count": 69,
     "metadata": {},
     "output_type": "execute_result"
    }
   ],
   "source": [
    "# using zip\n",
    "days = [\"Sunday\", \"Monday\",\"Tuesday\",\"Wednesday\",\"Thursday\",\"Friday\",\"Saturday\"]\n",
    "temp_C = [30.5,32.6,31.8,33.4,29.8,30.2,29.9]\n",
    "\n",
    "{i:j for (i,j) in zip(days,temp_C)}"
   ]
  },
  {
   "cell_type": "code",
   "execution_count": 70,
   "metadata": {},
   "outputs": [
    {
     "data": {
      "text/plain": [
       "{'phone': 10, 'charger': 32}"
      ]
     },
     "execution_count": 70,
     "metadata": {},
     "output_type": "execute_result"
    }
   ],
   "source": [
    "# using if condition\n",
    "products = {'phone':10,'laptop':0,'charger':32,'tablet':0}\n",
    "\n",
    "{key:value for (key,value) in products.items() if value>0}"
   ]
  },
  {
   "cell_type": "code",
   "execution_count": 71,
   "metadata": {},
   "outputs": [
    {
     "data": {
      "text/plain": [
       "{2: {1: 2, 2: 4, 3: 6, 4: 8, 5: 10, 6: 12, 7: 14, 8: 16, 9: 18, 10: 20},\n",
       " 3: {1: 3, 2: 6, 3: 9, 4: 12, 5: 15, 6: 18, 7: 21, 8: 24, 9: 27, 10: 30},\n",
       " 4: {1: 4, 2: 8, 3: 12, 4: 16, 5: 20, 6: 24, 7: 28, 8: 32, 9: 36, 10: 40}}"
      ]
     },
     "execution_count": 71,
     "metadata": {},
     "output_type": "execute_result"
    }
   ],
   "source": [
    "# Nested Comprehension\n",
    "# print tables of number from 2 to 4\n",
    "{i:{j:i*j for j in range(1,11)} for i in range(2,5)}"
   ]
  }
 ],
 "metadata": {
  "kernelspec": {
   "display_name": "base",
   "language": "python",
   "name": "python3"
  },
  "language_info": {
   "codemirror_mode": {
    "name": "ipython",
    "version": 3
   },
   "file_extension": ".py",
   "mimetype": "text/x-python",
   "name": "python",
   "nbconvert_exporter": "python",
   "pygments_lexer": "ipython3",
   "version": "3.9.18"
  },
  "orig_nbformat": 4
 },
 "nbformat": 4,
 "nbformat_minor": 2
}
